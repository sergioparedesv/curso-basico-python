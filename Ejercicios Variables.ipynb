{
 "cells": [
  {
   "cell_type": "markdown",
   "metadata": {},
   "source": [
    "# Ejercicios Variables"
   ]
  },
  {
   "cell_type": "markdown",
   "metadata": {},
   "source": [
    "1. Cree tres variables, **nombre, apellido y edad**, luego utilice el `print`, para que las imprima en la misma línea."
   ]
  },
  {
   "cell_type": "code",
   "execution_count": null,
   "metadata": {},
   "outputs": [],
   "source": [
    "\n"
   ]
  },
  {
   "cell_type": "markdown",
   "metadata": {},
   "source": [
    "2.  En este ejercicio crearás una nueva expresión que sume el **nombre** más el **apellido** y lo multipliqué por la **edad**, el resultado debe ser que tu nombre y apellido se imprimir la cantidad de veces correspondiente a tu **edad**."
   ]
  },
  {
   "cell_type": "code",
   "execution_count": null,
   "metadata": {},
   "outputs": [],
   "source": [
    "\n"
   ]
  },
  {
   "cell_type": "markdown",
   "metadata": {},
   "source": [
    "3.  Con la función `(dict)diccionario` debes crear una *timeline* de la segunda guerra mundial utilizando como `key(llave)` el año del evento. [https://www.preceden.com/timelines/17704-segunda-guerra-mundial](https://www.preceden.com/timelines/17704-segunda-guerra-mundial)"
   ]
  },
  {
   "cell_type": "code",
   "execution_count": null,
   "metadata": {},
   "outputs": [],
   "source": [
    "\n"
   ]
  },
  {
   "cell_type": "markdown",
   "metadata": {},
   "source": [
    "4.  Haga un script que permita ingresar el **año** y a partir de ese año consulte en el diccionario anterior, lo que ocurrió ese **año**."
   ]
  },
  {
   "cell_type": "code",
   "execution_count": null,
   "metadata": {},
   "outputs": [],
   "source": [
    "\n"
   ]
  },
  {
   "cell_type": "markdown",
   "metadata": {},
   "source": [
    "5.  Cree dos nuevos vectores y utilice la función `extend` para unirlos."
   ]
  },
  {
   "cell_type": "code",
   "execution_count": null,
   "metadata": {},
   "outputs": [],
   "source": [
    "\n"
   ]
  },
  {
   "cell_type": "markdown",
   "metadata": {},
   "source": [
    "6.  Haga un programa que permita ingresar el **lado** de un cuadrado y calcule su **área y perímetro**."
   ]
  },
  {
   "cell_type": "code",
   "execution_count": null,
   "metadata": {},
   "outputs": [],
   "source": [
    "\n"
   ]
  },
  {
   "cell_type": "markdown",
   "metadata": {},
   "source": [
    "7.  Utiliza la función **type** para decirnos que tipo de dato es el **área** del cuadrado."
   ]
  },
  {
   "cell_type": "code",
   "execution_count": null,
   "metadata": {},
   "outputs": [],
   "source": [
    "\n"
   ]
  },
  {
   "cell_type": "markdown",
   "metadata": {},
   "source": [
    "8.  Haga un programa que permita ingresar el **radio** de un círculo y calcule su **área, diámetro, perímetro.**"
   ]
  },
  {
   "cell_type": "code",
   "execution_count": null,
   "metadata": {},
   "outputs": [],
   "source": [
    "\n"
   ]
  },
  {
   "cell_type": "markdown",
   "metadata": {},
   "source": [
    "9.  Volveremos al ejercicio anterior y convertiremos el perímetro del círculo en un *`string`.*"
   ]
  },
  {
   "cell_type": "code",
   "execution_count": null,
   "metadata": {},
   "outputs": [],
   "source": [
    "\n"
   ]
  },
  {
   "cell_type": "markdown",
   "metadata": {},
   "source": [
    "10.  Si tenemos el **vector = [-7,0,3,8,5,-4,6,6,1,9]** utilice código para identificar en que *posición se encuentra el número 5*"
   ]
  },
  {
   "cell_type": "code",
   "execution_count": null,
   "metadata": {},
   "outputs": [],
   "source": [
    "\n"
   ]
  },
  {
   "cell_type": "markdown",
   "metadata": {},
   "source": [
    "11.  Ahora cree una variable con su nombre y luego ***inserte** su nombre en posición del número 5.*"
   ]
  },
  {
   "cell_type": "code",
   "execution_count": null,
   "metadata": {},
   "outputs": [],
   "source": [
    "\n"
   ]
  },
  {
   "cell_type": "markdown",
   "metadata": {},
   "source": [
    "12.  Cree una **copia** del vector, utilice el comando **`clear`** en la copia y luego **imprime la copia** en el programa. "
   ]
  },
  {
   "cell_type": "code",
   "execution_count": null,
   "metadata": {},
   "outputs": [],
   "source": [
    "\n"
   ]
  },
  {
   "cell_type": "markdown",
   "metadata": {},
   "source": [
    "13.  Ahora coja el vector, aplique la función `sort` para ordenarlo."
   ]
  },
  {
   "cell_type": "code",
   "execution_count": null,
   "metadata": {},
   "outputs": [],
   "source": [
    "\n"
   ]
  },
  {
   "cell_type": "markdown",
   "metadata": {},
   "source": [
    "14.  Finalmente utilice el vector e invierta su orden con el comando `reverse.`"
   ]
  },
  {
   "cell_type": "code",
   "execution_count": null,
   "metadata": {},
   "outputs": [],
   "source": [
    "\n"
   ]
  },
  {
   "cell_type": "markdown",
   "metadata": {},
   "source": [
    "15.  Consulte la `ID` de dos variables que apunten al mismo número y otra que apunte a un número diferente y explique con sus palabras que ocurre."
   ]
  },
  {
   "cell_type": "code",
   "execution_count": null,
   "metadata": {},
   "outputs": [],
   "source": [
    "\n"
   ]
  },
  {
   "cell_type": "markdown",
   "metadata": {},
   "source": [
    "16. Crearemos un programa en el que el usuario pueda ingresar uno de los lados de un cubo y calcule el ***volumen***\n",
    "<img src=\"alg/DF_2-Pagina-19-1-1.png\" width=\"600px\">"
   ]
  },
  {
   "cell_type": "code",
   "execution_count": null,
   "metadata": {},
   "outputs": [],
   "source": [
    "\n"
   ]
  },
  {
   "cell_type": "markdown",
   "metadata": {},
   "source": [
    "17.\tExplique con sus palabras qué son las librerías en Python."
   ]
  },
  {
   "cell_type": "markdown",
   "metadata": {},
   "source": [
    "\n"
   ]
  },
  {
   "cell_type": "markdown",
   "metadata": {},
   "source": [
    "18. Explique y cree un código correspondiente al algoritmo que encontraremos a continuación.\n",
    "<img src=\"alg/DF_4 pagina-29-2-1.png\" width=\"600px\">"
   ]
  },
  {
   "cell_type": "code",
   "execution_count": null,
   "metadata": {},
   "outputs": [],
   "source": [
    "\n"
   ]
  },
  {
   "cell_type": "markdown",
   "metadata": {},
   "source": [
    "Cree un programa que capture las **4 notas de los parciales que tienen el mismo valor** de un estudiante y luego saque el **promedio** de ellas para darnos una **nota final.**\n",
    "<img src=\"alg/DF_5 pagina-30-2-2.jpg\" width=\"600px\">"
   ]
  },
  {
   "cell_type": "code",
   "execution_count": null,
   "metadata": {},
   "outputs": [],
   "source": [
    "\n"
   ]
  },
  {
   "cell_type": "markdown",
   "metadata": {},
   "source": [
    "20.\tPara este programa en el que calcularemos el promedio, debemos recordar que esta vez la nota de los estudiantes tienen un valor diferente siguiendo la siguiente tabla\n",
    "\n",
    "| Parcial 1 | Parcial 2 | Parcial 3 | Parcial 4 |\n",
    "|-----------|-----------|-----------|-----------|\n",
    "| 10%       | 20%       | 30%       | 40%       |\n",
    "\n",
    "Calcular la nota promedio.\n"
   ]
  },
  {
   "cell_type": "code",
   "execution_count": null,
   "metadata": {},
   "outputs": [],
   "source": []
  }
 ],
 "metadata": {
  "kernelspec": {
   "display_name": "Python 3",
   "language": "python",
   "name": "python3"
  },
  "language_info": {
   "codemirror_mode": {
    "name": "ipython",
    "version": 3
   },
   "file_extension": ".py",
   "mimetype": "text/x-python",
   "name": "python",
   "nbconvert_exporter": "python",
   "pygments_lexer": "ipython3",
   "version": "3.7.6"
  }
 },
 "nbformat": 4,
 "nbformat_minor": 4
}
