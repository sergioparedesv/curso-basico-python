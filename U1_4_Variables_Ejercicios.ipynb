{
 "cells": [
  {
   "cell_type": "markdown",
   "metadata": {},
   "source": [
    "# Ejercicios sobre Variables"
   ]
  },
  {
   "cell_type": "markdown",
   "metadata": {},
   "source": [
    "**1.** Crea tres variables, **nombre, apellido y edad**, luego utiliza el `print`, para que las imprima en la misma línea."
   ]
  },
  {
   "cell_type": "code",
   "execution_count": null,
   "metadata": {},
   "outputs": [],
   "source": [
    "\n"
   ]
  },
  {
   "cell_type": "markdown",
   "metadata": {},
   "source": [
    "**2.**  En este ejercicio crearás una nueva expresión que sume el **nombre** más el **apellido** y lo multipliqué por la **edad**, el resultado debe ser que tu nombre y apellido se imprima la cantidad de veces correspondiente a tu **edad**."
   ]
  },
  {
   "cell_type": "code",
   "execution_count": null,
   "metadata": {},
   "outputs": [],
   "source": [
    "\n"
   ]
  },
  {
   "cell_type": "markdown",
   "metadata": {},
   "source": [
    "**3.**  Con la función `(dict)diccionario` debes crear una *timeline* de la segunda guerra mundial utilizando como `key(llave)` el año del evento. [https://www.preceden.com/timelines/17704-segunda-guerra-mundial](https://www.preceden.com/timelines/17704-segunda-guerra-mundial)"
   ]
  },
  {
   "cell_type": "code",
   "execution_count": null,
   "metadata": {},
   "outputs": [],
   "source": [
    "\n"
   ]
  },
  {
   "cell_type": "markdown",
   "metadata": {},
   "source": [
    "**4.**  Haz un script que permita ingresar el **año** y a partir de ese año consulte en el diccionario anterior, lo que ocurrió ese **año**."
   ]
  },
  {
   "cell_type": "code",
   "execution_count": null,
   "metadata": {},
   "outputs": [],
   "source": [
    "\n"
   ]
  },
  {
   "cell_type": "markdown",
   "metadata": {},
   "source": [
    "**5.**  Crea dos nuevos vectores y utiliza la función `extend` para unirlos."
   ]
  },
  {
   "cell_type": "code",
   "execution_count": null,
   "metadata": {},
   "outputs": [],
   "source": [
    "\n"
   ]
  },
  {
   "cell_type": "markdown",
   "metadata": {},
   "source": [
    "**6.**  Haz un programa que permita ingresar el **lado** de un cuadrado y calcule su **área y perímetro**."
   ]
  },
  {
   "cell_type": "code",
   "execution_count": null,
   "metadata": {},
   "outputs": [],
   "source": [
    "\n"
   ]
  },
  {
   "cell_type": "markdown",
   "metadata": {},
   "source": [
    "**7.**  Utiliza la función **type** para decirnos qué tipo de dato es el **área** del cuadrado."
   ]
  },
  {
   "cell_type": "code",
   "execution_count": null,
   "metadata": {},
   "outputs": [],
   "source": [
    "\n"
   ]
  },
  {
   "cell_type": "markdown",
   "metadata": {},
   "source": [
    "**8.**  crea un programa que permita ingresar el **radio** de un círculo y calcule su **área, diámetro y perímetro**."
   ]
  },
  {
   "cell_type": "code",
   "execution_count": null,
   "metadata": {},
   "outputs": [],
   "source": [
    "\n"
   ]
  },
  {
   "cell_type": "markdown",
   "metadata": {},
   "source": [
    "**9.**  Retomando el ejercicio anterior, convierte el perímetro del círculo en un *`string`.*"
   ]
  },
  {
   "cell_type": "code",
   "execution_count": null,
   "metadata": {},
   "outputs": [],
   "source": [
    "\n"
   ]
  },
  {
   "cell_type": "markdown",
   "metadata": {},
   "source": [
    "**10.**  Si tenemos el **vector = [-7,0,3,8,5,-4,6,6,1,9]** utiliza código para identificar en qué *posición se encuentra el número 5*."
   ]
  },
  {
   "cell_type": "code",
   "execution_count": null,
   "metadata": {},
   "outputs": [],
   "source": [
    "\n"
   ]
  },
  {
   "cell_type": "markdown",
   "metadata": {},
   "source": [
    "**11.**  Ahora crea una variable con tu nombre y luego ***inserte** el nombre en la posición del número 5.*"
   ]
  },
  {
   "cell_type": "code",
   "execution_count": null,
   "metadata": {},
   "outputs": [],
   "source": [
    "\n"
   ]
  },
  {
   "cell_type": "markdown",
   "metadata": {},
   "source": [
    "**12.**  Cree una **copia** del vector, utilice el comando **`clear`** en la copia y luego **imprime la copia** en el programa. "
   ]
  },
  {
   "cell_type": "code",
   "execution_count": null,
   "metadata": {},
   "outputs": [],
   "source": [
    "\n"
   ]
  },
  {
   "cell_type": "markdown",
   "metadata": {},
   "source": [
    "**13.**  Ahora, toma el vector y aplica la función `sort` para ordenarlo."
   ]
  },
  {
   "cell_type": "code",
   "execution_count": null,
   "metadata": {},
   "outputs": [],
   "source": [
    "\n"
   ]
  },
  {
   "cell_type": "markdown",
   "metadata": {},
   "source": [
    "**14.**  Finalmente, utiliza el vector e invierte su orden con el comando `reverse.`"
   ]
  },
  {
   "cell_type": "code",
   "execution_count": null,
   "metadata": {},
   "outputs": [],
   "source": [
    "\n"
   ]
  },
  {
   "cell_type": "markdown",
   "metadata": {},
   "source": [
    "**15.**  Consulta la `ID` de dos variables que apunten al mismo número y otra que apunte a un número diferente, y explica con tus palabras qué ocurre."
   ]
  },
  {
   "cell_type": "code",
   "execution_count": null,
   "metadata": {},
   "outputs": [],
   "source": [
    "\n"
   ]
  },
  {
   "cell_type": "markdown",
   "metadata": {},
   "source": [
    "**16.** Crea un programa en el que el usuario pueda ingresar uno de los lados de un cubo y calcule el ***volumen***\n",
    "<img src=\"alg/DF_2-Pagina-19-1-1.png\" width=\"600px\">"
   ]
  },
  {
   "cell_type": "code",
   "execution_count": null,
   "metadata": {},
   "outputs": [],
   "source": [
    "\n"
   ]
  },
  {
   "cell_type": "markdown",
   "metadata": {},
   "source": [
    "**17.**\tExplica con tus palabras qué son las librerías en Python."
   ]
  },
  {
   "cell_type": "markdown",
   "metadata": {},
   "source": [
    "\n"
   ]
  },
  {
   "cell_type": "markdown",
   "metadata": {},
   "source": [
    "**18.** Explica y crea un código correspondiente al algoritmo que encontraremos a continuación.\n",
    "<img src=\"alg/DF_4 pagina-29-2-1.png\" width=\"600px\">"
   ]
  },
  {
   "cell_type": "code",
   "execution_count": null,
   "metadata": {},
   "outputs": [],
   "source": [
    "\n"
   ]
  },
  {
   "cell_type": "markdown",
   "metadata": {},
   "source": [
    "**19.** Crea un programa que capture las **4 notas de los parciales que tienen el mismo valor** de un estudiante y luego saque el **promedio** de ellas para darnos una **Nota final.**\n",
    "<img src=\"alg/DF_5 pagina-30-2-2.jpg\" width=\"600px\">"
   ]
  },
  {
   "cell_type": "code",
   "execution_count": null,
   "metadata": {},
   "outputs": [],
   "source": [
    "\n"
   ]
  },
  {
   "cell_type": "markdown",
   "metadata": {},
   "source": [
    "**20.**\tEn este programa calcularemos el promedio, debemos recordar que esta vez la nota de los estudiantes tiene un valor diferente de acuerdo con la siguiente tabla:\n",
    "\n",
    "| Parcial 1 | Parcial 2 | Parcial 3 | Parcial 4 |\n",
    "|-----------|-----------|-----------|-----------|\n",
    "| 10%       | 20%       | 30%       | 40%       |\n",
    "\n",
    "Calcular la nota promedio.\n"
   ]
  },
  {
   "cell_type": "code",
   "execution_count": null,
   "metadata": {},
   "outputs": [],
   "source": []
  }
 ],
 "metadata": {
  "kernelspec": {
   "display_name": "Python 3",
   "language": "python",
   "name": "python3"
  },
  "language_info": {
   "codemirror_mode": {
    "name": "ipython",
    "version": 3
   },
   "file_extension": ".py",
   "mimetype": "text/x-python",
   "name": "python",
   "nbconvert_exporter": "python",
   "pygments_lexer": "ipython3",
   "version": "3.8.8"
  }
 },
 "nbformat": 4,
 "nbformat_minor": 4
}
