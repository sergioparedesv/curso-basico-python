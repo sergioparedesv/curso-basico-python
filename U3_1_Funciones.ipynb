{
 "cells": [
  {
   "cell_type": "markdown",
   "metadata": {},
   "source": [
    "# Funciones"
   ]
  },
  {
   "cell_type": "markdown",
   "metadata": {},
   "source": [
    "# 1. Declarar una función"
   ]
  },
  {
   "cell_type": "markdown",
   "metadata": {},
   "source": [
    "Recordemos que muchas veces mientras programamos necesitamos llamar un buen número de veces una función para ejecutar una tarea, llamar a una función requiere el comando ***def*** (definir) seguido del nombre de la función"
   ]
  },
  {
   "cell_type": "code",
   "execution_count": null,
   "metadata": {},
   "outputs": [],
   "source": [
    "def mi_primer_funcion():    #1. Definimos la función y su nombre\n",
    "    print (\"Mi primer Hola Mundo (desde una función)!\") #3. Le damos una acción\n",
    "    \n",
    "mi_primer_funcion() #2. Invocamos la función."
   ]
  },
  {
   "cell_type": "markdown",
   "metadata": {},
   "source": [
    "Ahora necesitamos llamar esa función para que se ejecute."
   ]
  },
  {
   "cell_type": "code",
   "execution_count": null,
   "metadata": {},
   "outputs": [],
   "source": [
    "mi_primer_funcion()"
   ]
  },
  {
   "cell_type": "markdown",
   "metadata": {},
   "source": [
    "¿Qué ocurre si llamamos a la función antes de instanciarla?"
   ]
  },
  {
   "cell_type": "code",
   "execution_count": null,
   "metadata": {},
   "outputs": [],
   "source": [
    "mi_segunda_funcion() #llamada invocar \n",
    "\n",
    "def mi_segunda_funcion():    #Definimos la función y su nombre\n",
    "    print (\"Mi primer Hola Mundo (desde la función)!\") #Le damos una acción\n",
    "\n"
   ]
  },
  {
   "cell_type": "markdown",
   "metadata": {},
   "source": [
    "# 2. Argumentos y parámetros"
   ]
  },
  {
   "cell_type": "markdown",
   "metadata": {},
   "source": [
    "En la definición de una función los valores que se reciben se denominan parámetros, pero durante la llamada los valores que se envían se denominan argumentos."
   ]
  },
  {
   "cell_type": "markdown",
   "metadata": {},
   "source": [
    "Ahora definimos una función con argumentos/variables"
   ]
  },
  {
   "cell_type": "code",
   "execution_count": null,
   "metadata": {},
   "outputs": [],
   "source": [
    "def imprimir_argumento(argumento): #Argumento de una función\n",
    "    print(argumento)\n",
    "    \n",
    "imprimir_argumento(\"Sergio Paredes\")#parámetro"
   ]
  },
  {
   "cell_type": "markdown",
   "metadata": {},
   "source": [
    "### Múltiples argumentos"
   ]
  },
  {
   "cell_type": "code",
   "execution_count": null,
   "metadata": {},
   "outputs": [],
   "source": [
    "def areaTriangulo(base, altura): #Instanciamos la función y creamos los argumentos que debe recibir\n",
    "    print (\"El área de triangulo es\",base*altura/2, \"centimetros cuadrados\") #Le pedimos que nos imprima el resultado\n",
    "\n",
    "areaTriangulo(4,3)#Acá estamos insertando los parametros, el valor de base = 5 y altura = 6"
   ]
  },
  {
   "cell_type": "code",
   "execution_count": null,
   "metadata": {},
   "outputs": [],
   "source": [
    "areaTriangulo(5,6)#Acá estamos insertando los parametros, el valor de base = 5 y altura = 6"
   ]
  },
  {
   "cell_type": "markdown",
   "metadata": {},
   "source": [
    "# 3. Return"
   ]
  },
  {
   "cell_type": "markdown",
   "metadata": {},
   "source": [
    "La función ***return*** (retorno) indica el final de una función y un valor que nos responde la función."
   ]
  },
  {
   "cell_type": "code",
   "execution_count": null,
   "metadata": {},
   "outputs": [],
   "source": [
    "def funcion(): \n",
    "    return \"Hola Mundo\" \n",
    "\n",
    "frase = funcion() \n",
    "print(frase)"
   ]
  },
  {
   "cell_type": "markdown",
   "metadata": {},
   "source": [
    "Utilizaremos return extendido"
   ]
  },
  {
   "cell_type": "code",
   "execution_count": null,
   "metadata": {},
   "outputs": [],
   "source": [
    "def funcion_restar(a, b):\n",
    "    return a - b\n",
    "funcion_restar(30,20)"
   ]
  },
  {
   "cell_type": "markdown",
   "metadata": {},
   "source": [
    "Podemos asignar una función a una variable y guardar el resultado del return"
   ]
  },
  {
   "cell_type": "code",
   "execution_count": null,
   "metadata": {},
   "outputs": [],
   "source": [
    "resultado = funcion_restar(50,20)\n",
    "print(resultado)"
   ]
  },
  {
   "cell_type": "code",
   "execution_count": null,
   "metadata": {},
   "outputs": [],
   "source": [
    "resultado = funcion_restar(100,5)\n",
    "print(resultado)"
   ]
  },
  {
   "cell_type": "markdown",
   "metadata": {},
   "source": [
    "<hr style=\"height:2px;border-width:0;color:gray;background-color:red\">\n",
    "<h2 style=\"color: red\">Actividad</h2>"
   ]
  },
  {
   "cell_type": "markdown",
   "metadata": {},
   "source": [
    "Para la siguiente actividad, tenga presente retornar los valores en ***return***, guardar estos valores en una variable y luego imprimir la variable"
   ]
  },
  {
   "cell_type": "markdown",
   "metadata": {},
   "source": [
    "#### 1. Ejercicio: Defina una función que calcule el perimetro de un rectangulo"
   ]
  },
  {
   "cell_type": "code",
   "execution_count": null,
   "metadata": {},
   "outputs": [],
   "source": [
    "\n",
    "\n"
   ]
  },
  {
   "cell_type": "markdown",
   "metadata": {},
   "source": [
    "#### 2. Ejercicio: Defina una función que calcule la hipotenusa de un triangulo"
   ]
  },
  {
   "cell_type": "code",
   "execution_count": null,
   "metadata": {},
   "outputs": [],
   "source": [
    "\n",
    "\n"
   ]
  },
  {
   "cell_type": "markdown",
   "metadata": {},
   "source": [
    "#### 3. Ejercicio: Defina una función que calcule al área de un cilindro"
   ]
  },
  {
   "cell_type": "code",
   "execution_count": null,
   "metadata": {},
   "outputs": [],
   "source": [
    "\n",
    "\n"
   ]
  },
  {
   "cell_type": "markdown",
   "metadata": {},
   "source": [
    "<h2 style=\"color: red\">Fin de la actividad</h2>\n",
    "<hr style=\"height:2px;border-width:0;color:gray;background-color:red\">\n"
   ]
  },
  {
   "cell_type": "markdown",
   "metadata": {},
   "source": [
    "# 4. Variables Magicas"
   ]
  },
  {
   "cell_type": "markdown",
   "metadata": {},
   "source": [
    "Vamos a definir una función con argumentos y variables magicas"
   ]
  },
  {
   "cell_type": "code",
   "execution_count": null,
   "metadata": {},
   "outputs": [],
   "source": [
    "def mi_funcion_con_args(nombre, mensaje):    \n",
    "    print (\"Hola, %s , desde la funcion!, quiero decirte que %s\"%(mensaje,nombre))"
   ]
  },
  {
   "cell_type": "code",
   "execution_count": null,
   "metadata": {},
   "outputs": [],
   "source": [
    "mi_funcion_con_args(\"Sergio\",\"Bienvenidos\")"
   ]
  },
  {
   "cell_type": "markdown",
   "metadata": {},
   "source": [
    "¿Qué ocurre si invierto las variables magicas?"
   ]
  },
  {
   "cell_type": "code",
   "execution_count": null,
   "metadata": {},
   "outputs": [],
   "source": [
    "def mi_funcion_con_args(nombre, mensaje):    \n",
    "    print (\"Hola, %s , desde la funcion!, quiero decirte que %s\"%(nombre, mensaje))\n"
   ]
  },
  {
   "cell_type": "code",
   "execution_count": null,
   "metadata": {},
   "outputs": [],
   "source": [
    "mi_funcion_con_args(\"Clase\", \"esto son variables magicas\")"
   ]
  },
  {
   "cell_type": "markdown",
   "metadata": {},
   "source": [
    "Lás variables magicas se utilizan para gestionar el cambio de directorios o llamar a las funciones magicas, tienen un uso especializado que validaremos más adelante."
   ]
  },
  {
   "cell_type": "markdown",
   "metadata": {},
   "source": [
    "<hr style=\"height:2px;border-width:0;color:gray;background-color:red\">\n",
    "<h2 style=\"color: red\">Actividad</h2>"
   ]
  },
  {
   "cell_type": "markdown",
   "metadata": {},
   "source": [
    "#### Ejercicio: Defina una función que utilice variables magicas para ordenar el nombre y apellido de alguien."
   ]
  },
  {
   "cell_type": "code",
   "execution_count": null,
   "metadata": {},
   "outputs": [],
   "source": [
    "\n",
    "\n"
   ]
  },
  {
   "cell_type": "markdown",
   "metadata": {},
   "source": [
    "<h2 style=\"color: red\">Fin de la actividad</h2>\n",
    "<hr style=\"height:2px;border-width:0;color:gray;background-color:red\">"
   ]
  },
  {
   "cell_type": "markdown",
   "metadata": {},
   "source": [
    "#### Multipliquemos los números de 2 funciones"
   ]
  },
  {
   "cell_type": "markdown",
   "metadata": {},
   "source": [
    "# 5. Operaciones Entre Funciones"
   ]
  },
  {
   "cell_type": "code",
   "execution_count": null,
   "metadata": {},
   "outputs": [],
   "source": [
    "def funcion1():\n",
    "    return 2\n",
    "\n",
    "def funcion2():\n",
    "    return 4\n",
    "print(funcion1()*funcion2())"
   ]
  },
  {
   "cell_type": "markdown",
   "metadata": {},
   "source": [
    "#### Ejercicio: crea una función que capture tu nombre y apellido, luego multiplica esa función por tu edad"
   ]
  },
  {
   "cell_type": "code",
   "execution_count": null,
   "metadata": {},
   "outputs": [],
   "source": [
    "def captura(nombre, apellido):\n",
    "    return nombre, apellido\n",
    "    \n",
    "captura('Sergio','Paredes')*5"
   ]
  },
  {
   "cell_type": "markdown",
   "metadata": {},
   "source": [
    "<hr style=\"height:2px;border-width:0;color:gray;background-color:red\">\n",
    "<h2 style=\"color: red\">Actividad</h2>"
   ]
  },
  {
   "cell_type": "markdown",
   "metadata": {},
   "source": [
    "#### Ejercicio cree 2 funciones, una que calcule PI, otra que tenga el radio (5) luego calcule el área del circulo"
   ]
  },
  {
   "cell_type": "code",
   "execution_count": null,
   "metadata": {},
   "outputs": [],
   "source": [
    "\n",
    "\n",
    "\n"
   ]
  },
  {
   "cell_type": "markdown",
   "metadata": {},
   "source": [
    "#### Ejercicio: Hagamos una función que capture un argumento y luego guarde ese argumento en una variable fuera de la función"
   ]
  },
  {
   "cell_type": "code",
   "execution_count": null,
   "metadata": {},
   "outputs": [],
   "source": [
    "\n",
    "\n"
   ]
  },
  {
   "cell_type": "markdown",
   "metadata": {},
   "source": [
    "<h2 style=\"color: red\">Fin de la actividad</h2>\n",
    "<hr style=\"height:2px;border-width:0;color:gray;background-color:red\">"
   ]
  },
  {
   "cell_type": "markdown",
   "metadata": {},
   "source": [
    "# 6. Documentación de la función"
   ]
  },
  {
   "cell_type": "markdown",
   "metadata": {},
   "source": [
    "#### Uso de DOCSTRING Comentar correctamente una función"
   ]
  },
  {
   "cell_type": "code",
   "execution_count": null,
   "metadata": {},
   "outputs": [],
   "source": [
    "def area_rectangulo(ancho,alto):\n",
    "    '''(number, number)-> number\n",
    "    Devuelve el área del réctangulo al pasarle su ancho y su alto\n",
    "    '''\n",
    "    area=ancho*alto\n",
    "    return area"
   ]
  },
  {
   "cell_type": "code",
   "execution_count": null,
   "metadata": {},
   "outputs": [],
   "source": [
    "help(area_rectangulo)"
   ]
  },
  {
   "cell_type": "code",
   "execution_count": null,
   "metadata": {},
   "outputs": [],
   "source": [
    "def area_rectangulo(ancho,alto): #Nombre de la función y los parametros\n",
    "    '''(number, number)-> number #Type Contract\n",
    "    Devuelve el área del réctangulo al pasarle su ancho y su alto #Descripcion\n",
    "    >>>area_rectangulo(5,7)\n",
    "    35   \n",
    "    >>>area_rectangulo(3.5, 5.7)\n",
    "    19.95   \n",
    "    ''' #Ejemplos de uso\n",
    "    area=ancho*alto #Cuerpo de la función\n",
    "    return area"
   ]
  },
  {
   "cell_type": "code",
   "execution_count": null,
   "metadata": {},
   "outputs": [],
   "source": [
    "help(area_rectangulo)"
   ]
  },
  {
   "cell_type": "markdown",
   "metadata": {},
   "source": [
    "<hr style=\"height:2px;border-width:0;color:gray;background-color:red\">\n",
    "<h2 style=\"color: red\">Actividad</h2>"
   ]
  },
  {
   "cell_type": "markdown",
   "metadata": {},
   "source": [
    "Cree una función propia que calcule un promedio y un docstring que explique como funciona la función"
   ]
  },
  {
   "cell_type": "code",
   "execution_count": null,
   "metadata": {},
   "outputs": [],
   "source": []
  },
  {
   "cell_type": "markdown",
   "metadata": {},
   "source": [
    "<h2 style=\"color: red\">Finalizado</h2>\n",
    "<hr style=\"height:2px;border-width:0;color:gray;background-color:red\">"
   ]
  },
  {
   "cell_type": "markdown",
   "metadata": {},
   "source": [
    "# 7. Alcance de las variables dentro de las funciones"
   ]
  },
  {
   "cell_type": "markdown",
   "metadata": {},
   "source": [
    ">Scope global (Alcance global)"
   ]
  },
  {
   "cell_type": "markdown",
   "metadata": {},
   "source": [
    "Si creas una variable en el cuerpo principal del código python, puedes usarla en cualquier parte"
   ]
  },
  {
   "cell_type": "code",
   "execution_count": null,
   "metadata": {},
   "outputs": [],
   "source": [
    "x = \"Esta es una variable global\" #1. Asignaci\n",
    "def funcion(): #2. declara 4.Ejecucion\n",
    "    print(x) #5.\n",
    "    \n",
    "funcion() #3. invocamos\n",
    "print(x) #6\n",
    "    "
   ]
  },
  {
   "cell_type": "markdown",
   "metadata": {},
   "source": [
    "Puedes crear una variable local con el mismo nombre de una variable global, pero Python lo leerá como 2 variables distintas"
   ]
  },
  {
   "cell_type": "code",
   "execution_count": null,
   "metadata": {},
   "outputs": [],
   "source": [
    "x = \"Esta es una variable global\" #global\n",
    "def funcion():\n",
    "    x = \"Y esta es una variable local\" #Variable local tiene relevancia sobre la global\n",
    "    print(x) #local\n",
    "    \n",
    "funcion()\n",
    "print(x) #global"
   ]
  },
  {
   "cell_type": "markdown",
   "metadata": {},
   "source": [
    ">Scope local (alcance local)"
   ]
  },
  {
   "cell_type": "markdown",
   "metadata": {},
   "source": [
    "Si creas una variable dentro de una función, esta pertenece sólo a esa función."
   ]
  },
  {
   "cell_type": "code",
   "execution_count": null,
   "metadata": {},
   "outputs": [],
   "source": [
    "def funcion():\n",
    "    x = \"Esta es una variable global\" #Local\n",
    "    print(x)\n",
    "    \n",
    "funcion()\n",
    "print(x) #Global"
   ]
  },
  {
   "cell_type": "markdown",
   "metadata": {},
   "source": [
    "También puedes usar la variable en una función dentro de otra función."
   ]
  },
  {
   "cell_type": "code",
   "execution_count": null,
   "metadata": {},
   "outputs": [],
   "source": [
    "def casa():\n",
    "    x = \"esta es una variable local\" #local #global\n",
    "    def habitacion():\n",
    "        print(x)\n",
    "    habitacion()\n",
    "casa()\n"
   ]
  },
  {
   "cell_type": "markdown",
   "metadata": {},
   "source": [
    ">Keyword global"
   ]
  },
  {
   "cell_type": "markdown",
   "metadata": {},
   "source": [
    "Puedes crear una variable global dentro de la función usando el keyword ***global***"
   ]
  },
  {
   "cell_type": "code",
   "execution_count": null,
   "metadata": {},
   "outputs": [],
   "source": [
    "def funcion():\n",
    "    global x\n",
    "    x = 'Esta es una variable local que asignamos como global'\n",
    "    \n",
    "funcion()\n",
    "\n",
    "print(x)"
   ]
  },
  {
   "cell_type": "markdown",
   "metadata": {},
   "source": [
    "Tambien puedes cambiar el valor de una variable global con esta función."
   ]
  },
  {
   "cell_type": "code",
   "execution_count": null,
   "metadata": {},
   "outputs": [],
   "source": [
    "y = 'Esta es una variable global'\n",
    "def funcion():\n",
    "    global y\n",
    "    y= 'Y ahora cambiamos su valor'\n",
    "    \n",
    "funcion()\n",
    "print(y)"
   ]
  },
  {
   "cell_type": "code",
   "execution_count": null,
   "metadata": {},
   "outputs": [],
   "source": [
    "def your_name():\n",
    "    a = \"Sergio paredes\"\n",
    "    return a\n",
    "\n",
    "print(your_name())"
   ]
  },
  {
   "cell_type": "markdown",
   "metadata": {},
   "source": [
    "<hr style=\"height:2px;border-width:0;color:gray;background-color:red\">\n",
    "<h2 style=\"color: red\">Actividad</h2>"
   ]
  },
  {
   "cell_type": "markdown",
   "metadata": {},
   "source": [
    "Cree una función que invoque la libreria math y esta nos retorne pi, luego otra función que llame la función pi y la guarde en una variable global que podra ser consultada"
   ]
  },
  {
   "cell_type": "code",
   "execution_count": null,
   "metadata": {},
   "outputs": [],
   "source": [
    "\n",
    "\n",
    "\n"
   ]
  },
  {
   "cell_type": "markdown",
   "metadata": {},
   "source": [
    "<h2 style=\"color: red\">Finalizado</h2>\n",
    "<hr style=\"height:2px;border-width:0;color:gray;background-color:red\">"
   ]
  },
  {
   "cell_type": "markdown",
   "metadata": {},
   "source": [
    "Qué ocurre si creo una variable dentro de una función"
   ]
  },
  {
   "cell_type": "code",
   "execution_count": null,
   "metadata": {},
   "outputs": [],
   "source": [
    "def your_name():\n",
    "    b = \"Sergio paredes\"\n",
    "    return b\n",
    "\n",
    "your_name()\n",
    "print(b)"
   ]
  },
  {
   "cell_type": "markdown",
   "metadata": {},
   "source": [
    "#### Capturando un argumento dentro de una función"
   ]
  },
  {
   "cell_type": "code",
   "execution_count": null,
   "metadata": {},
   "outputs": [],
   "source": [
    "def fun_variable(argumento = input(\"Pase el argumento\")):\n",
    "    return argumento\n",
    "\n",
    "variable = fun_variable()\n",
    "print(variable)"
   ]
  },
  {
   "cell_type": "markdown",
   "metadata": {},
   "source": [
    "<hr style=\"height:2px;border-width:0;color:gray;background-color:red\">\n",
    "<h2 style=\"color: red\">Actividad</h2>"
   ]
  },
  {
   "cell_type": "markdown",
   "metadata": {},
   "source": [
    "#### Ejercicio: Cree 2 funciones, una que capture el cateto1, y otra que capture el cateto2, guarde el valor de las funciones dentro de variables y luego cree una función calcule las hipotenusa utilizando la libreria math y el comando pow"
   ]
  },
  {
   "cell_type": "code",
   "execution_count": null,
   "metadata": {},
   "outputs": [],
   "source": [
    "\n",
    "\n",
    "\n"
   ]
  },
  {
   "cell_type": "markdown",
   "metadata": {},
   "source": [
    "<h2 style=\"color: red\">Fin de la actividad</h2>\n",
    "<hr style=\"height:2px;border-width:0;color:gray;background-color:red\">"
   ]
  },
  {
   "cell_type": "markdown",
   "metadata": {},
   "source": [
    "# 8. Parámetros y profundización en keywords"
   ]
  },
  {
   "cell_type": "code",
   "execution_count": null,
   "metadata": {},
   "outputs": [],
   "source": [
    "def saludar(nombre, mensaje='Hola'): \n",
    "    print (mensaje, nombre) \n",
    " \n",
    "saludar('Pepe Grillo') # Imprime: Hola Pepe Grillo"
   ]
  },
  {
   "cell_type": "markdown",
   "metadata": {},
   "source": [
    "Keywords como parámetros\n",
    "En Python, también es posible llamar a una función, pasándole los argumentos esperados, como pares de claves=valor:"
   ]
  },
  {
   "cell_type": "code",
   "execution_count": null,
   "metadata": {},
   "outputs": [],
   "source": [
    "def saludar(nombre, mensaje='Hola'):  #Argumentos\n",
    "    print (mensaje, nombre)\n",
    " \n",
    "saludar(mensaje=\"Buen día\", nombre=\"Juancho\") #Parametro"
   ]
  },
  {
   "cell_type": "markdown",
   "metadata": {},
   "source": [
    "<hr style=\"height:2px;border-width:0;color:gray;background-color:red\">\n",
    "<h2 style=\"color: red\">Actividad</h2>\n"
   ]
  },
  {
   "cell_type": "markdown",
   "metadata": {},
   "source": [
    "#### Ejercicio: cree una función que reciba un número, luego llevo a otra función que lo invierta, luego guarde las 2 funciones en una variable y cree otra que nos diga si son números palindromos"
   ]
  },
  {
   "cell_type": "markdown",
   "metadata": {},
   "source": [
    "<code>numero = 651 #Asigna un número a una variable</code>\n",
    "\n",
    "<code>numero2 = int(str(numero)[::-1]) #Convierte el número en string, luego invierte las letras del string, y lo vuelve a convertir en entero</code>\n",
    "\n",
    "<code>print(numero2)</code>"
   ]
  },
  {
   "cell_type": "code",
   "execution_count": null,
   "metadata": {},
   "outputs": [],
   "source": []
  },
  {
   "cell_type": "markdown",
   "metadata": {},
   "source": [
    "#### Ejercicio Cree una función que defina si el número anterior es Palindromo, capturando sus datos"
   ]
  },
  {
   "cell_type": "code",
   "execution_count": null,
   "metadata": {},
   "outputs": [],
   "source": []
  },
  {
   "cell_type": "markdown",
   "metadata": {
    "collapsed": true
   },
   "source": [
    "#### Ejercicio: Cree una función que con un loop que llame a otra función"
   ]
  },
  {
   "cell_type": "code",
   "execution_count": null,
   "metadata": {},
   "outputs": [],
   "source": []
  },
  {
   "cell_type": "markdown",
   "metadata": {},
   "source": [
    "<h2 style=\"color: red\">Fin de la actividad</h2>\n",
    "<hr style=\"height:2px;border-width:0;color:gray;background-color:red\">\n"
   ]
  },
  {
   "cell_type": "markdown",
   "metadata": {},
   "source": [
    "# 9. Parámetros arbitrarios"
   ]
  },
  {
   "cell_type": "markdown",
   "metadata": {},
   "source": [
    "Al igual que en otros lenguajes de alto nivel, es posible que una función, espere recibir un número arbitrario -desconocido- de argumentos. Estos argumentos, llegarán a la función en forma de tupla.\n",
    "\n",
    "Para definir argumentos arbitrarios en una función, se antecede al parámetro un asterisco (*):"
   ]
  },
  {
   "cell_type": "code",
   "execution_count": 20,
   "metadata": {},
   "outputs": [
    {
     "name": "stdout",
     "output_type": "stream",
     "text": [
      "(1, 2, 3, 5, 6, 7)\n"
     ]
    }
   ],
   "source": [
    "def funcion_lista(*lista):\n",
    "    return lista\n",
    "\n",
    "print(funcion_lista(1,2,3,5,6,7))"
   ]
  },
  {
   "cell_type": "code",
   "execution_count": 15,
   "metadata": {},
   "outputs": [],
   "source": [
    "def recorrer_parametros_arbitrarios(parametro_fijo, *arbitrarios): \n",
    "    print (\"Primer parametro : \", parametro_fijo) \n",
    " \n",
    "    # Los parámetros arbitrarios se corren como tuplas\n",
    "    for argumento in arbitrarios: \n",
    "        print (\"Otros : \", argumento)"
   ]
  },
  {
   "cell_type": "code",
   "execution_count": 16,
   "metadata": {},
   "outputs": [
    {
     "name": "stdout",
     "output_type": "stream",
     "text": [
      "Primer parametro :  Fixed\n",
      "Otros :  arbitrario 1\n",
      "Otros :  rbitrario 2\n",
      "Otros :  arbitrario 3\n"
     ]
    }
   ],
   "source": [
    "recorrer_parametros_arbitrarios('Fixed', 'arbitrario 1', 'rbitrario 2', 'arbitrario 3')"
   ]
  },
  {
   "cell_type": "markdown",
   "metadata": {},
   "source": [
    "Si una función espera recibir parámetros fijos y arbitrarios, los arbitrarios siempre deben suceder a los fijos.\n",
    "\n",
    "Es posible también, obtener parámetros arbitrarios como pares de clave=valor. En estos casos, al nombre del parámetro deben precederlo dos astericos (**):"
   ]
  },
  {
   "cell_type": "code",
   "execution_count": 21,
   "metadata": {},
   "outputs": [
    {
     "name": "stdout",
     "output_type": "stream",
     "text": [
      "Fixed\n",
      "Arbitrario:  arbitrario 1\n",
      "Arbitrario:  arbitrario 2\n",
      "Arbitrario:  arbitrario 3\n",
      "El valor de clave1 es valor uno\n",
      "El valor de clave2 es valor dos\n"
     ]
    }
   ],
   "source": [
    "def recorrer_parametros_arbitrarios(parametro_fijo, *arbitrarios, **kwords): \n",
    "    print (parametro_fijo) \n",
    "    for argumento in arbitrarios: \n",
    "        print (\"Arbitrario: \",argumento) \n",
    " \n",
    "    # Los argumentos arbitrarios tipo clave, se recorren como los diccionarios \n",
    "    for clave in kwords: \n",
    "        print (\"El valor de\", clave, \"es\", kwords[clave])\n",
    " \n",
    "recorrer_parametros_arbitrarios(\"Fixed\", \"arbitrario 1\", \"arbitrario 2\", \"arbitrario 3\", clave1=\"valor uno\", clave2=\"valor dos\")"
   ]
  },
  {
   "cell_type": "markdown",
   "metadata": {
    "collapsed": true
   },
   "source": [
    "Desempaquetado de parámetros\n",
    "Puede ocurrir además, una situación inversa a la anterior. Es decir, que la función espere una lista fija de parámetros, pero que éstos, en vez de estar disponibles de forma separada, se encuentren contenidos en una lista o tupla. En este caso, el signo asterisco (*) deberá preceder al nombre de la lista o tupla que es pasada como parámetro durante la llamada a la función:"
   ]
  },
  {
   "cell_type": "markdown",
   "metadata": {},
   "source": [
    "El mismo caso puede darse cuando los valores a ser pasados como parámetros a una función, se encuentren disponibles en un diccionario. Aquí, deberán pasarse a la función, precedidos de dos asteriscos (**):"
   ]
  },
  {
   "cell_type": "markdown",
   "metadata": {},
   "source": [
    "<hr style=\"height:2px;border-width:0;color:gray;background-color:red\">\n",
    "<h2 style=\"color: red\">Actividad</h2>\n"
   ]
  },
  {
   "cell_type": "markdown",
   "metadata": {},
   "source": [
    "1. Cree una función que reciba en forma de argumentros arbitrarios el nombre de un alumno y sus notas de 1 a 5, que pueden ser cualquier cantidad, luego que calcule el promedio de las notas"
   ]
  },
  {
   "cell_type": "code",
   "execution_count": null,
   "metadata": {},
   "outputs": [],
   "source": []
  },
  {
   "cell_type": "markdown",
   "metadata": {},
   "source": [
    "2. Cree una función que cree un diccionario con Keywords"
   ]
  },
  {
   "cell_type": "code",
   "execution_count": null,
   "metadata": {},
   "outputs": [],
   "source": []
  },
  {
   "cell_type": "markdown",
   "metadata": {},
   "source": [
    "<h2 style=\"color: red\">Finalizado</h2>\n",
    "<hr style=\"height:2px;border-width:0;color:gray;background-color:red\">"
   ]
  },
  {
   "cell_type": "markdown",
   "metadata": {},
   "source": [
    "# 10. Funciones anonimas"
   ]
  },
  {
   "cell_type": "markdown",
   "metadata": {},
   "source": [
    "Las expresiones lambda se usan idealmente cuando necesitamos hacer algo simple y estamos más interesados en hacer el trabajo rápidamente en lugar de nombrar formalmente la función. Las expresiones lambda también se conocen como funciones anónimas."
   ]
  },
  {
   "cell_type": "code",
   "execution_count": null,
   "metadata": {},
   "outputs": [],
   "source": [
    "def func(args):\n",
    "    return args**2\n",
    "print(func(4))"
   ]
  },
  {
   "cell_type": "markdown",
   "metadata": {},
   "source": [
    "### Básicas"
   ]
  },
  {
   "cell_type": "code",
   "execution_count": 25,
   "metadata": {},
   "outputs": [
    {
     "name": "stdout",
     "output_type": "stream",
     "text": [
      "16\n"
     ]
    }
   ],
   "source": [
    "func = lambda args: args**2\n",
    "print(func(4))"
   ]
  },
  {
   "cell_type": "markdown",
   "metadata": {},
   "source": [
    "<img src=\"img/lambda.gif\">"
   ]
  },
  {
   "cell_type": "markdown",
   "metadata": {},
   "source": [
    "### Intermedio"
   ]
  },
  {
   "cell_type": "code",
   "execution_count": 24,
   "metadata": {},
   "outputs": [
    {
     "name": "stdout",
     "output_type": "stream",
     "text": [
      "True\n"
     ]
    }
   ],
   "source": [
    "lambda_func = lambda x: True if x**2 >= 10 else False\n",
    "print(lambda_func(5))"
   ]
  },
  {
   "cell_type": "markdown",
   "metadata": {},
   "source": [
    "### Complejos"
   ]
  },
  {
   "cell_type": "code",
   "execution_count": 26,
   "metadata": {},
   "outputs": [
    {
     "data": {
      "text/plain": [
       "['C', 'A', 'B']"
      ]
     },
     "execution_count": 26,
     "metadata": {},
     "output_type": "execute_result"
    }
   ],
   "source": [
    "my_dict = {\"A\": 1, \"B\": 2, \"C\": 3}\n",
    "sorted(my_dict, key=lambda x: my_dict[x]%3) # Retorna ['C', 'A', 'B']"
   ]
  },
  {
   "cell_type": "markdown",
   "metadata": {},
   "source": [
    "<hr style=\"height:2px;border-width:0;color:gray;background-color:red\">\n",
    "<h2 style=\"color: red\">Actividad</h2>"
   ]
  },
  {
   "cell_type": "markdown",
   "metadata": {},
   "source": [
    "Cree una función anonima que ordene el sigueinte vector, de tal manera de que si recibe ciertos nombres les de orden alfabetico.\n",
    "\n",
    "***vector***\n",
    "\n",
    "\n",
    "<code>vector = [\"Carlos\",\"David\",\"Andrés\",\"Bartolomé\"]</code>\n",
    "<br>\n",
    "\n",
    "\n",
    "***resultado***\n",
    "\n",
    "\n",
    "<code>[\"Andrés\",\"Bartolomé\",\"Carlos\",\"David\"]</code>"
   ]
  },
  {
   "cell_type": "code",
   "execution_count": 28,
   "metadata": {},
   "outputs": [
    {
     "name": "stdout",
     "output_type": "stream",
     "text": [
      "['Andrés', 'Paredes', 'Sergio']\n"
     ]
    }
   ],
   "source": []
  },
  {
   "cell_type": "markdown",
   "metadata": {},
   "source": [
    "<h2 style=\"color: red\">Finalizado</h2>\n",
    "<hr style=\"height:2px;border-width:0;color:gray;background-color:red\">"
   ]
  },
  {
   "cell_type": "markdown",
   "metadata": {},
   "source": [
    "# 11. Funciones de Orden superior"
   ]
  },
  {
   "cell_type": "markdown",
   "metadata": {},
   "source": [
    "Las funciones de Python pueden tomar funciones como parámetros y devolver funciones como resultado. Una función que hace ambas cosas o alguna de ellas se llama función de orden superior."
   ]
  },
  {
   "cell_type": "markdown",
   "metadata": {},
   "source": [
    "## Map()"
   ]
  },
  {
   "cell_type": "markdown",
   "metadata": {},
   "source": [
    "Mapeará la secuencia especificada de acuerdo con la función proporcionada\n",
    "\n",
    "El primer parámetro acepta un nombre de función, los siguientes parámetros aceptan una o más secuencias iterables y se devuelve un conjunto\n"
   ]
  },
  {
   "cell_type": "markdown",
   "metadata": {},
   "source": [
    "<img src=\"img/map-1.png\">"
   ]
  },
  {
   "cell_type": "markdown",
   "metadata": {},
   "source": [
    "Cuando hay más de una secuencia, el mapa puede ejecutar el proceso que se muestra en la siguiente figura para cada secuencia en paralelo (tenga en cuenta que es paralela).\n",
    "\n",
    "<img src=\"img/map-2.png\">\n"
   ]
  },
  {
   "cell_type": "code",
   "execution_count": 1,
   "metadata": {},
   "outputs": [
    {
     "name": "stdout",
     "output_type": "stream",
     "text": [
      "[21, 32, 43, 54, 65]\n"
     ]
    }
   ],
   "source": [
    "def line(num1, num2):\n",
    "    return num1 * 10 + num2\n",
    " \n",
    " \n",
    "# mapa contiene múltiples secuencias\n",
    "nums1 = range(2, 7)\n",
    "nums2 = range(1, 6)\n",
    "# nums1 = 2   3  4   5\n",
    "# nums2 = 1   2  3   4  \n",
    "# line=====> num1 * 10 + num2\n",
    "# result = 21 32 43 54\n",
    " \n",
    "result = list(map(line, nums1, nums2))\n",
    "print(result)\n",
    " \n",
    " # Resultados\n"
   ]
  },
  {
   "cell_type": "markdown",
   "metadata": {},
   "source": [
    "## Reduce()"
   ]
  },
  {
   "cell_type": "markdown",
   "metadata": {},
   "source": [
    "Acumula elementos en la secuencia de parámetros.\n",
    "\n",
    "El primer parámetro acepta un nombre de función, los siguientes parámetros aceptan una o más secuencias iterables y se devuelve un resultado"
   ]
  },
  {
   "cell_type": "markdown",
   "metadata": {},
   "source": [
    "<img src=\"img/reduce-1.png\">"
   ]
  },
  {
   "cell_type": "code",
   "execution_count": 6,
   "metadata": {},
   "outputs": [
    {
     "name": "stdout",
     "output_type": "stream",
     "text": [
      "10\n",
      "362880\n"
     ]
    }
   ],
   "source": [
    "from functools import reduce\n",
    " \n",
    " # Encuentra la definición de función anónima de la suma de dos valores;\n",
    "add = lambda x, y: x + y\n",
    " # reducir el mecanismo de trabajo: resultado = agregar (agregar (agregar (1, 2), 3), 4)\n",
    "result = reduce(add, [1, 2, 3, 4])\n",
    "print(result)\n",
    " \n",
    " # Encuentra el factorial de 10\n",
    "result = reduce(lambda x, y: x * y, range(1, 10))\n",
    "print(result)\n",
    " \n",
    " \n",
    " # Resultados"
   ]
  },
  {
   "cell_type": "markdown",
   "metadata": {},
   "source": [
    "## función filter ()"
   ]
  },
  {
   "cell_type": "markdown",
   "metadata": {},
   "source": [
    "Se utiliza para filtrar secuencias, filtrar elementos que no cumplen las condiciones y devolver una nueva lista de elementos que cumplen las condiciones.\n",
    "\n",
    "El primer parámetro acepta un nombre de función, los siguientes parámetros aceptan una o más secuencias iterables y se devuelve una secuencia."
   ]
  },
  {
   "cell_type": "markdown",
   "metadata": {},
   "source": [
    "<img src=\"img/filter.png\">"
   ]
  },
  {
   "cell_type": "markdown",
   "metadata": {},
   "source": [
    "Saca todos los números pares hasta el 10"
   ]
  },
  {
   "cell_type": "code",
   "execution_count": 5,
   "metadata": {},
   "outputs": [
    {
     "name": "stdout",
     "output_type": "stream",
     "text": [
      "0\n",
      "2\n",
      "4\n",
      "6\n",
      "8\n",
      "10\n",
      "[0, 2, 4, 6, 8, 10]\n"
     ]
    }
   ],
   "source": [
    "# Saque todos los números pares hasta el 10; rango (0, 11, 2)\n",
    " \n",
    " # Método uno:\n",
    "def is_odd(num):\n",
    "    \"\"\"\n",
    "         Determina si es un número par y el valor de retorno es Bool\n",
    "    \"\"\"\n",
    "    return num % 2 == 0\n",
    " \n",
    " \n",
    "odd_nums = filter(is_odd, range(0, 11))\n",
    "for num in odd_nums:\n",
    "    print(num)\n",
    " \n",
    " # Método 2:\n",
    "odd_nums = filter(lambda num: num % 2 == 0, range(0, 11))\n",
    "print(list(odd_nums))\n",
    " \n",
    " # Resultados\n"
   ]
  },
  {
   "cell_type": "markdown",
   "metadata": {},
   "source": [
    "### Biografias Python\n",
    "\n",
    ">https://docs.hektorprofe.net/python/programacion-de-funciones/argumentos-y-parametros/#:~:text=En%20la%20definici%C3%B3n%20de%20una,se%20env%C3%ADan%20se%20denominan%20argumentos.\n",
    "\n",
    ">https://www.mclibre.org/consultar/python/lecciones/python-funciones-2.html\n",
    "\n",
    ">https://uniwebsidad.com/libros/python/capitulo-4/definiendo-funciones\n",
    "\n",
    ">https://python-para-impacientes.blogspot.com/2014/08/glosario-de-funciones-magicas-ipython.html\n",
    "\n",
    ">https://www.freecodecamp.org/espanol/news/expresiones-lambda-en-python/#:~:text=Las%20expresiones%20lambda%20en%20Python,con%20la%20palabra%20clave%20def%20.\n",
    "\n",
    ">https://entrenamiento-python-basico.readthedocs.io/es/latest/leccion5/funciones_orden_superior.html"
   ]
  }
 ],
 "metadata": {
  "anaconda-cloud": {},
  "kernelspec": {
   "display_name": "Python 3",
   "language": "python",
   "name": "python3"
  },
  "language_info": {
   "codemirror_mode": {
    "name": "ipython",
    "version": 3
   },
   "file_extension": ".py",
   "mimetype": "text/x-python",
   "name": "python",
   "nbconvert_exporter": "python",
   "pygments_lexer": "ipython3",
   "version": "3.7.6"
  }
 },
 "nbformat": 4,
 "nbformat_minor": 1
}
