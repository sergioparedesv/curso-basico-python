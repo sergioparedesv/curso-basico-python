{
 "cells": [
  {
   "cell_type": "markdown",
   "metadata": {},
   "source": [
    "# 1.Introducción"
   ]
  },
  {
   "cell_type": "markdown",
   "metadata": {},
   "source": [
    "<img src=\"img/python-banner.jpg\">"
   ]
  },
  {
   "cell_type": "markdown",
   "metadata": {},
   "source": [
    "<div style=\"background: #fff; padding: 20px; border: 1px solid #006699;\">\n",
    "    <h1>Zen de Python</h1>\n",
    "    <pre>\n",
    "Bello es mejor que feo.\n",
    "Explícito es mejor que implícito.\n",
    "Simple es mejor que complejo.\n",
    "Complejo es mejor que complicado.\n",
    "Plano es mejor que anidado.\n",
    "Espaciado es mejor que denso.\n",
    "La legibilidad es importante.\n",
    "Los casos especiales no son lo suficientemente especiales como para romper las reglas.\n",
    "Sin embargo la practicidad le gana a la pureza.\n",
    "Los errores nunca deberían pasar silenciosamente.\n",
    "A menos que se silencien explícitamente.\n",
    "Frente a la ambigüedad, evitar la tentación de adivinar.\n",
    "Debería haber una, y preferiblemente solo una, manera obvia de hacerlo.\n",
    "A pesar de que eso no sea obvio al principio a menos que seas Holandés.\n",
    "Ahora es mejor que nunca.\n",
    "A pesar de que nunca es muchas veces mejor que *ahora* mismo.\n",
    "Si la implementación es difícil de explicar, es una mala idea.\n",
    "Si la implementación es fácil de explicar, puede que sea una buena idea.\n",
    "Los espacios de nombres son una gran idea, ¡tengamos más de esos!\n",
    "    </pre>\n",
    "</div>"
   ]
  },
  {
   "cell_type": "markdown",
   "metadata": {},
   "source": [
    "<h2>¿Por qué aprender Python?</h2>\n",
    "<img src=\"img/lenguajes.png\">"
   ]
  },
  {
   "cell_type": "markdown",
   "metadata": {},
   "source": [
    "<h2>¿Qué aplicaciones se hacen principalmente en Python</h2>"
   ]
  },
  {
   "cell_type": "markdown",
   "metadata": {},
   "source": [
    "<img src=\"img/banner-usos-python.jpg\">"
   ]
  },
  {
   "cell_type": "markdown",
   "metadata": {},
   "source": [
    "<div style=\"background: #fff; padding: 20px; border: 1px solid #006699;\">\n",
    "    <h1>¿Principales usos de Python?</h1>\n",
    "\n",
    "<ul>\n",
    "    <li>Inteligencia Artifical</li>\n",
    "    <li>Ciencia de datos y Big data</li>\n",
    "    <li>Desarrollo web</li>\n",
    "    <li>Pentesting</li>\n",
    "\n",
    "</ul>\n",
    "\n",
    "</div>"
   ]
  },
  {
   "cell_type": "markdown",
   "metadata": {},
   "source": [
    "<div style=\"background: #fff; padding: 20px; border: 1px solid #006699;\">\n",
    "<h2>¿Cuales son los salarios de Pytho en Colombia?</h2>\n",
    "<img src=\"img/salarios.png\">\n",
    "    <a href=\"https://co.talent.com/salary?job=desarrollador+python#:~:text=El%20salario%20desarrollador%20python%20promedio,m%C3%A1s%20experimentados%20perciben%20hasta%20%2496.000.\">Fuente co.talent</a>\n",
    "</div>"
   ]
  },
  {
   "cell_type": "markdown",
   "metadata": {},
   "source": [
    "<div style=\"background: #fff; padding: 20px; border: 1px solid #006699;\">\n",
    "    <h2>¿Cuales son los salarios de Pytho en U.S.A?</h2>\n",
    "    <img src=\"img/salarios-2.png\">\n",
    "    <a href=\"https://www.glassdoor.com.ar/Sueldos/estados-unidos-python-developer-sueldo-SRCH_IL.0,14_IN1_KO15,31.htm\">Fuente glassdor</a>\n",
    "</div>"
   ]
  },
  {
   "cell_type": "markdown",
   "metadata": {},
   "source": [
    "# Abre el siguiente enlace\n",
    "<a href=\"https://www.programiz.com/python-programming/online-compiler/\">https://www.programiz.com/python-programming/online-compiler/</a>"
   ]
  },
  {
   "cell_type": "markdown",
   "metadata": {},
   "source": [
    "### Aprendamos la sintaxis basica de Python\n",
    "Ejemplo:\n",
    "\n",
    "print (\"Hola Mundo\")"
   ]
  },
  {
   "cell_type": "code",
   "execution_count": null,
   "metadata": {
    "scrolled": true
   },
   "outputs": [],
   "source": [
    "print(\"Hola Mundo\")"
   ]
  },
  {
   "cell_type": "markdown",
   "metadata": {},
   "source": [
    "<hr style=\"height:2px;border-width:0;color:gray;background-color:red\">\n",
    "<h2 style=\"color: red\">Actividad</h2>\n",
    "\n",
    "Así de simple tambien podemos hacer operaciones, solo escriba 2+2 por ejemplo y ejecute el codigo."
   ]
  },
  {
   "cell_type": "code",
   "execution_count": null,
   "metadata": {},
   "outputs": [],
   "source": [
    "3+10"
   ]
  },
  {
   "cell_type": "markdown",
   "metadata": {},
   "source": [
    "Si queremos multiplicar un número, podemos colocar (2 * 3), pero si queremos sacar la potencia, pudemos colocar (2 ** 3)"
   ]
  },
  {
   "cell_type": "code",
   "execution_count": null,
   "metadata": {},
   "outputs": [],
   "source": [
    "3**3"
   ]
  },
  {
   "cell_type": "markdown",
   "metadata": {},
   "source": [
    "¿Complicado sacar potencias y raices? Existen otras formas, como pow(4,2), adelante probemos"
   ]
  },
  {
   "cell_type": "code",
   "execution_count": null,
   "metadata": {},
   "outputs": [],
   "source": [
    "pow(4,2)"
   ]
  },
  {
   "cell_type": "markdown",
   "metadata": {},
   "source": [
    "Calcularemos ahora el porcentaje, por ejemplo queremos calcular cuál seria el costo de un producto que tiene 20% de descuento y tiene el valor de $20000"
   ]
  },
  {
   "cell_type": "code",
   "execution_count": null,
   "metadata": {},
   "outputs": [],
   "source": [
    "20000-20000*20/100"
   ]
  },
  {
   "cell_type": "code",
   "execution_count": null,
   "metadata": {},
   "outputs": [],
   "source": [
    "20000*0.80"
   ]
  },
  {
   "cell_type": "markdown",
   "metadata": {},
   "source": [
    "#### Comandos para consultar funciones basicas de python"
   ]
  },
  {
   "cell_type": "code",
   "execution_count": null,
   "metadata": {},
   "outputs": [],
   "source": [
    "dir(__builtins__)"
   ]
  },
  {
   "cell_type": "markdown",
   "metadata": {},
   "source": [
    "help(\"ingrese acá la función\")"
   ]
  },
  {
   "cell_type": "code",
   "execution_count": null,
   "metadata": {},
   "outputs": [],
   "source": [
    "help(input)"
   ]
  },
  {
   "cell_type": "code",
   "execution_count": null,
   "metadata": {},
   "outputs": [],
   "source": [
    "help(pow)"
   ]
  },
  {
   "cell_type": "markdown",
   "metadata": {},
   "source": [
    "Bien, Python es un lenguaje de programación de alto nivel(Que se puede utilizar para desarrollar cualquier tipo de aplicación) y  fuertemente tipado(no se permiten violaciones de los tipos de datos, es decir, dado el valor de una variable de un tipo concreto, no se puede usar como si fuera de otro tipo distinto a menos que se haga una conversión), "
   ]
  },
  {
   "cell_type": "markdown",
   "metadata": {},
   "source": [
    "<h2 style=\"color: red\">Fin de la actividad</h2>\n",
    "<hr style=\"height:2px;border-width:0;color:gray;background-color:red\">"
   ]
  },
  {
   "cell_type": "markdown",
   "metadata": {},
   "source": [
    "### Biografias\n",
    "\n",
    "http://www.python.org.ar/aprendiendo-python/\n",
    "\n",
    "http://librosweb.es/libro/python/\n",
    "\n",
    "https://www.codecademy.com/es/tracks/python-traduccion-al-espanol-america-latina-clone-1\n",
    "\n",
    "http://www.scipy-lectures.org/\n",
    "\n",
    "https://docs.python.org\n"
   ]
  },
  {
   "cell_type": "markdown",
   "metadata": {},
   "source": [
    "# 2. ALGORITMOS"
   ]
  },
  {
   "cell_type": "markdown",
   "metadata": {},
   "source": [
    "Conjunto ordenado de operaciones sistemáticas que permite hacer un cálculo y hallar la solución de un tipo de problemas.\n",
    "<h3>Componentes de un algortimo</h3>\n",
    "<img src=\"alg/DF_1-Pagina-18-1-1.jpg\">"
   ]
  },
  {
   "cell_type": "markdown",
   "metadata": {},
   "source": [
    "# 3. VARIABLES"
   ]
  },
  {
   "cell_type": "markdown",
   "metadata": {},
   "source": [
    "Definamos nuestra primer variable"
   ]
  },
  {
   "cell_type": "code",
   "execution_count": null,
   "metadata": {},
   "outputs": [],
   "source": [
    "mi_primer_variable = \"Hola mundo\"\n",
    "print(mi_primer_variable)"
   ]
  },
  {
   "cell_type": "markdown",
   "metadata": {},
   "source": [
    "Ahora haremos un programa que pueda saludarte ingresando tu nombre con la función <b>input</b> el programa debe dar el resultado de (Hola Sergio) o el que sea tu nombre"
   ]
  },
  {
   "cell_type": "code",
   "execution_count": null,
   "metadata": {},
   "outputs": [],
   "source": [
    "nombre = input(\"Escribe tu nombre a continuación \")\n",
    "print(\"Hola \"+nombre)"
   ]
  },
  {
   "cell_type": "markdown",
   "metadata": {},
   "source": [
    "<hr style=\"height:2px;border-width:0;color:gray;background-color:red\">\n",
    "<h2 style=\"color: red\">Actividad</h2>"
   ]
  },
  {
   "cell_type": "markdown",
   "metadata": {},
   "source": [
    "Ahora haremos un programa que pregunta tu nombre y apellido y lo imprima en la pantalla"
   ]
  },
  {
   "cell_type": "code",
   "execution_count": null,
   "metadata": {},
   "outputs": [],
   "source": [
    "nombre = input(\"Escribe tu nombre a continuación \")\n",
    "apellido = input(\"Escribe tu nombre a continuación \")\n",
    "print(\"Hola \"+nombre+\" \"+apellido)"
   ]
  },
  {
   "cell_type": "markdown",
   "metadata": {},
   "source": [
    "<h2 style=\"color: red\">Fin de la actividad</h2>\n",
    "<hr style=\"height:2px;border-width:0;color:gray;background-color:red\">"
   ]
  },
  {
   "cell_type": "markdown",
   "metadata": {},
   "source": [
    "#### Nombres de las variables y palabras resevadas"
   ]
  },
  {
   "cell_type": "markdown",
   "metadata": {},
   "source": [
    "Los nombres de las variables por conveción tienen nombres descriptivos, estas variables siempre deben empezar por una letra, por ejemplo si queremos crear una variable que almacene el nombre de usuario, y documento de una personaje, tenemos estas dos convenciones.\n",
    "\n",
    "Ejemplos\n",
    "\n",
    ">nombre_de_usuario\n",
    "\n",
    ">nombre_usuario\n",
    "\n",
    ">nombreDeUsuario\n",
    "\n",
    ">nombreUsuario\n",
    "\n",
    "Para definir los lados de un triangulo pueden ser\n",
    "\n",
    ">cateto1\n",
    "\n",
    ">cateto2\n",
    "\n",
    ">cateto3\n",
    "\n",
    "\n",
    "PALABRAS RESERVADAS\n",
    "\n",
    "<h4>Como ya sabes en el sistema existen palabras reservadas, estas palabras no se pueden utilizar como nombres de variables, bueno si se puede, pero es una horrible practica hacerlo.</h4>\n",
    "\n",
    "Ejemplo: (pow, max, sum, help, input)\n",
    "\n"
   ]
  },
  {
   "cell_type": "code",
   "execution_count": null,
   "metadata": {},
   "outputs": [],
   "source": [
    "palabras_reservadas=[\n",
    "and\n",
    "continue\n",
    "else \n",
    "for \n",
    "import \n",
    "not \n",
    "raise\n",
    "assert \n",
    "def \n",
    "except \n",
    "from \n",
    "in \n",
    "or \n",
    "return\n",
    "break \n",
    "del \n",
    "exec \n",
    "global \n",
    "is \n",
    "pass \n",
    "try\n",
    "class \n",
    "elif \n",
    "finally \n",
    "if \n",
    "lambda \n",
    "print ]"
   ]
  },
  {
   "cell_type": "markdown",
   "metadata": {},
   "source": [
    "<hr style=\"height:2px;border-width:0;color:gray;background-color:red\">\n",
    "<h2 style=\"color: red\">Actividad</h2>"
   ]
  },
  {
   "cell_type": "markdown",
   "metadata": {},
   "source": [
    "#### 1.Intente utilizar una palabra reservada como variable"
   ]
  },
  {
   "cell_type": "code",
   "execution_count": null,
   "metadata": {},
   "outputs": [],
   "source": [
    "otro_hola = \"hola mundo\""
   ]
  },
  {
   "cell_type": "markdown",
   "metadata": {},
   "source": [
    "2.Ahora intente empezar la variable con algun simbolo"
   ]
  },
  {
   "cell_type": "code",
   "execution_count": null,
   "metadata": {},
   "outputs": [],
   "source": [
    "$Variable = 5"
   ]
  },
  {
   "cell_type": "markdown",
   "metadata": {},
   "source": [
    "3.Intente iniciar la variable con un número"
   ]
  },
  {
   "cell_type": "code",
   "execution_count": null,
   "metadata": {},
   "outputs": [],
   "source": [
    "1variable = 10"
   ]
  },
  {
   "cell_type": "markdown",
   "metadata": {},
   "source": [
    "4.Intente iniciar la variable con mayusculas"
   ]
  },
  {
   "cell_type": "code",
   "execution_count": null,
   "metadata": {},
   "outputs": [],
   "source": [
    "Mayus = 10\n",
    "mayus = []\n",
    "print(mayus)"
   ]
  },
  {
   "cell_type": "markdown",
   "metadata": {},
   "source": [
    "Otras de estas palabras reservadas puede ser (type), para saber los tipos de datos."
   ]
  },
  {
   "cell_type": "code",
   "execution_count": null,
   "metadata": {},
   "outputs": [],
   "source": [
    "type(4)"
   ]
  },
  {
   "cell_type": "code",
   "execution_count": null,
   "metadata": {},
   "outputs": [],
   "source": [
    "type(\"Hola, mundo\")"
   ]
  },
  {
   "cell_type": "code",
   "execution_count": null,
   "metadata": {},
   "outputs": [],
   "source": [
    "type(3.4)"
   ]
  },
  {
   "cell_type": "markdown",
   "metadata": {},
   "source": [
    "<hr>\n",
    "Muy bien, ahora calcularemos el area de un cuadrado utilizando una variable"
   ]
  },
  {
   "cell_type": "code",
   "execution_count": null,
   "metadata": {},
   "outputs": [],
   "source": [
    "lado=4\n",
    "area_cuadrado = lado*lado\n",
    "print(area_cuadrado,\"cm cuadrados\")"
   ]
  },
  {
   "cell_type": "markdown",
   "metadata": {},
   "source": [
    "<hr>\n",
    "5.Muy bien, ahora calcule la hipotenusa de un triangulo con Altura de 3 y base de 4, mediante código"
   ]
  },
  {
   "cell_type": "markdown",
   "metadata": {},
   "source": [
    "<img src=\"img/hipotenusa.png\">"
   ]
  },
  {
   "cell_type": "code",
   "execution_count": null,
   "metadata": {},
   "outputs": [],
   "source": [
    "#Escribiremos acá un programa que pueda ejecutar una hipotenusa\n",
    "base=4\n",
    "altura=3\n",
    "hipotenusa=base**2+altura**2 #25\n",
    "hipotenusa=hipotenusa**(1/2) #5\n",
    "print(hipotenusa)"
   ]
  },
  {
   "cell_type": "markdown",
   "metadata": {},
   "source": [
    "#### Asignale el valor a una variable y obten el tipo de dato de la variable"
   ]
  },
  {
   "cell_type": "markdown",
   "metadata": {},
   "source": []
  },
  {
   "cell_type": "code",
   "execution_count": null,
   "metadata": {},
   "outputs": [],
   "source": [
    "type(hipotenusa)"
   ]
  },
  {
   "cell_type": "markdown",
   "metadata": {},
   "source": [
    "<h2 style=\"color: red\">Fin de la actividad</h2>\n",
    "<hr style=\"height:2px;border-width:0;color:gray;background-color:red\">"
   ]
  },
  {
   "cell_type": "markdown",
   "metadata": {},
   "source": [
    "Ahora vamos  a utilizar a Python para entender los tipos de datos"
   ]
  },
  {
   "cell_type": "markdown",
   "metadata": {},
   "source": [
    "| Tipo      | Clase           | Notas                                                   | Ejemplo                         |\n",
    "|-----------|-----------------|---------------------------------------------------------|---------------------------------|\n",
    "| str       | Cadena          | Inmutable                                               | 'Cadena'                        |\n",
    "| unicode   | Cadena          | Versión Unicode de str                                  | u'Cadena'                       |\n",
    "| list      | Secuencia       | Mutable, puede contener objetos de diversos tipos       | [4.0, 'Cadena', True]           |\n",
    "| tuple     | Secuencia       | Inmutable, puede contener objetos de diversos tipos     | (4.0, 'Cadena', True)           |\n",
    "| set       | Conjunto        | Mutable, sin orden, no contiene duplicados              | set([4.0, 'Cadena', True])      |\n",
    "| frozenset | Conjunto        | Inmutable, sin orden, no contiene duplicados            | frozenset([4.0,'Cadena', True]) |\n",
    "| dict      | Mapping         | Grupo de pares clave:valor                              | {'key1': 1.0, 'key2': False}    |\n",
    "| int       | Número Entero   | Precisión fija, convertido en long en caso de overflow. | 42                              |\n",
    "| long      | Número entero   | Precisión arbitraria                                    | 42L ó456966786151987643L        |\n",
    "| float     | Número decimal  | Coma flotante de doble precisión                        | 3.1415927                       |\n",
    "| complex   | Número complejo | Parte real y parte imaginaria j.                        | (4.5 + 3j)                      |\n",
    "| Bool      | Booleano        | Valor booleano verdadero o falso                        | True o False                    |\n",
    "\n",
    "*Mutable: si su contenido (o dicho valor) puede cambiarse en tiempo de ejecución.\n",
    "\n",
    "*Inmutable: si su contenido (o dicho valor) no puede cambiarse en tiempo de ejecución."
   ]
  },
  {
   "cell_type": "code",
   "execution_count": null,
   "metadata": {},
   "outputs": [],
   "source": [
    "'''Bien, acá vamos a lograr nuestro primer \n",
    "\"hola mundo\" definiendo las variables '''\n",
    "variable = \"Hola Mundo\"\n",
    "print (variable) #Ya no pasa nada"
   ]
  },
  {
   "cell_type": "markdown",
   "metadata": {
    "collapsed": true
   },
   "source": [
    "<b>Luego utiliza Shit+Enter para ejecutar la linea</b>"
   ]
  },
  {
   "cell_type": "markdown",
   "metadata": {},
   "source": [
    "En todo lenguaje de programación es necesario comentar el código, sin que estas lineas se ejecuten, como lo acaba de notar, acabamos de utilizar la triple comilla dentro del código y este no se ejecuto, ''' Recuerde, acá puede ingresar cualquier código y este no se ejecutara '''"
   ]
  },
  {
   "cell_type": "markdown",
   "metadata": {},
   "source": [
    "<hr style=\"height:2px;border-width:0;color:gray;background-color:red\">\n",
    "<h2 style=\"color: red\">Actividad</h2>\n",
    "\n",
    "1. Cree dos variables, una que contenga 'Hola' y otra que contenga 'Mundo', luego proceda a imprimirlas juntas\n"
   ]
  },
  {
   "cell_type": "markdown",
   "metadata": {},
   "source": [
    "Tips: Recuerde que ademas de sumar datos, puede sumar palabras, y que podemos dejar espacios entre los String"
   ]
  },
  {
   "cell_type": "markdown",
   "metadata": {},
   "source": [
    "Tips: Las variables se pueden concatenar dentro de un print utilizando la el símbolo de suma (+), si necesitas colocar espacios dentro de un print bien puedes colocarlo entre comillas de esta forma \" \", en python se pueden sumar variables, siempre que compartan el mismo tipo de dato, o incluso multiplicar variables diferentes"
   ]
  },
  {
   "cell_type": "code",
   "execution_count": null,
   "metadata": {},
   "outputs": [],
   "source": [
    "salud_uno = \"Hola\"\n",
    "salud_dos = \"Mundo\"\n",
    "print(salud_uno+salud_dos)\n"
   ]
  },
  {
   "cell_type": "markdown",
   "metadata": {},
   "source": [
    "Otro ejercicio curioso con los datos de tipo String, es que tambien podemos multiplicarlos con los datos de tiempo Entero"
   ]
  },
  {
   "cell_type": "markdown",
   "metadata": {},
   "source": [
    "2. Intentaremos ingresar una palabra y multiplicarla por un numero que ingresemos: "
   ]
  },
  {
   "cell_type": "code",
   "execution_count": null,
   "metadata": {},
   "outputs": [],
   "source": [
    "print(\"Diana \"*5)"
   ]
  },
  {
   "cell_type": "markdown",
   "metadata": {},
   "source": [
    "3.Intente dividir una palabra en un número y observe lo que ocurre"
   ]
  },
  {
   "cell_type": "code",
   "execution_count": null,
   "metadata": {},
   "outputs": [],
   "source": [
    "print(\"Diana \"/5)"
   ]
  },
  {
   "cell_type": "markdown",
   "metadata": {},
   "source": [
    "<h2 style=\"color: red\">Fin de la actividad</h2>\n",
    "<hr style=\"height:2px;border-width:0;color:gray;background-color:red\">"
   ]
  },
  {
   "cell_type": "markdown",
   "metadata": {},
   "source": [
    "\n"
   ]
  },
  {
   "cell_type": "markdown",
   "metadata": {},
   "source": [
    "##### Cadenas o String"
   ]
  },
  {
   "cell_type": "code",
   "execution_count": null,
   "metadata": {},
   "outputs": [],
   "source": [
    "'El conflicto ha \"terminado\", ¿o eso parece?'"
   ]
  },
  {
   "cell_type": "markdown",
   "metadata": {},
   "source": [
    "El formato unicode, permite crear cadenas que puedan ser llevadas a los otros formatos"
   ]
  },
  {
   "cell_type": "code",
   "execution_count": null,
   "metadata": {},
   "outputs": [],
   "source": [
    "u'Hola Mundo!'"
   ]
  },
  {
   "cell_type": "markdown",
   "metadata": {},
   "source": [
    "##### Listas"
   ]
  },
  {
   "cell_type": "code",
   "execution_count": null,
   "metadata": {},
   "outputs": [],
   "source": [
    "vectorLista = [2,3,4,5]\n",
    "vectorLista"
   ]
  },
  {
   "cell_type": "code",
   "execution_count": null,
   "metadata": {},
   "outputs": [],
   "source": [
    "Matriz = [[1,2,3],[4,5,6],[7,8,9]]\n",
    "Matriz"
   ]
  },
  {
   "cell_type": "markdown",
   "metadata": {},
   "source": []
  },
  {
   "cell_type": "markdown",
   "metadata": {},
   "source": [
    "<hr style=\"height:2px;border-width:0;color:gray;background-color:red\">\n",
    "<h2 style=\"color: red\">Actividad</h2>"
   ]
  },
  {
   "cell_type": "code",
   "execution_count": null,
   "metadata": {},
   "outputs": [],
   "source": [
    "lista_de_actividad = [1,2,3,4,5,6,7,8,9]\n",
    "print(lista_de_actividad)"
   ]
  },
  {
   "cell_type": "code",
   "execution_count": null,
   "metadata": {},
   "outputs": [],
   "source": [
    "lista_de_actividad.append(10)"
   ]
  },
  {
   "cell_type": "code",
   "execution_count": null,
   "metadata": {},
   "outputs": [],
   "source": [
    "print(lista_de_actividad)"
   ]
  },
  {
   "cell_type": "markdown",
   "metadata": {},
   "source": [
    "#### 1.Intente aplicar otras funciones de las listas y verifique los resultados"
   ]
  },
  {
   "cell_type": "code",
   "execution_count": null,
   "metadata": {},
   "outputs": [],
   "source": [
    "sum(lista_de_actividad)"
   ]
  },
  {
   "cell_type": "markdown",
   "metadata": {},
   "source": [
    "<h2 style=\"color: red\">Fin de la actividad</h2>\n",
    "<hr style=\"height:2px;border-width:0;color:gray;background-color:red\">"
   ]
  },
  {
   "cell_type": "code",
   "execution_count": null,
   "metadata": {},
   "outputs": [],
   "source": [
    "#Puede practicar con la lista \n",
    "vectorLista = [1,2,3,4,5,6,7,8,9]"
   ]
  },
  {
   "cell_type": "markdown",
   "metadata": {},
   "source": [
    "##### Tuplas\n",
    "\n",
    "Aunque sean similares a las Listas(vectores) la diferencia es que las tuplas son inmutables, no se pueden alterar y se utiliza () para crearlas\n"
   ]
  },
  {
   "cell_type": "code",
   "execution_count": null,
   "metadata": {},
   "outputs": [],
   "source": [
    "tupla=(25, \"Mayo\", 1810)\n",
    "tupla"
   ]
  },
  {
   "cell_type": "markdown",
   "metadata": {},
   "source": [
    "##### Set es un conjunto de datos no ordenados que no se repiten y son mutables"
   ]
  },
  {
   "cell_type": "code",
   "execution_count": null,
   "metadata": {},
   "outputs": [],
   "source": [
    "conjunto = set(['a', 'b', 'c', 'c', 'b', 'a'])"
   ]
  },
  {
   "cell_type": "markdown",
   "metadata": {},
   "source": [
    "¿Qué cree que va a pasar si lo ejecutamos?"
   ]
  },
  {
   "cell_type": "code",
   "execution_count": null,
   "metadata": {},
   "outputs": [],
   "source": [
    "conjunto"
   ]
  },
  {
   "cell_type": "markdown",
   "metadata": {},
   "source": [
    "##### frozenset  es un conjunto de datos no ordenados que no se repiten y son inmutables"
   ]
  },
  {
   "cell_type": "code",
   "execution_count": null,
   "metadata": {},
   "outputs": [],
   "source": [
    "conjuntoDos = frozenset(['a', 'b', 'c', 'c', 'b', 'a'])"
   ]
  },
  {
   "cell_type": "markdown",
   "metadata": {},
   "source": [
    "#### Diccionarios o dict, es una colección de datos con un indice\n",
    "\n",
    "Ejemplo:"
   ]
  },
  {
   "cell_type": "code",
   "execution_count": null,
   "metadata": {},
   "outputs": [],
   "source": [
    "thisdict = {\n",
    "  \"brand\": \"Ford\",\n",
    "  \"electric\": False,\n",
    "  \"year\": 1964,\n",
    "  \"colors\": [\"red\", \"white\", \"blue\"]\n",
    "}\n",
    "print(thisdict)"
   ]
  },
  {
   "cell_type": "markdown",
   "metadata": {},
   "source": [
    "#### Enteros, Flotantes, Complejos y Booleanos"
   ]
  },
  {
   "cell_type": "code",
   "execution_count": null,
   "metadata": {},
   "outputs": [],
   "source": [
    "#los int son simples números enteros\n",
    "\n",
    "numeroEntero = 5"
   ]
  },
  {
   "cell_type": "code",
   "execution_count": null,
   "metadata": {},
   "outputs": [],
   "source": [
    "#los flotantes son simples números decimales\n",
    "\n",
    "numeroFlotante = 5.0"
   ]
  },
  {
   "cell_type": "markdown",
   "metadata": {},
   "source": [
    "Booleanos"
   ]
  },
  {
   "cell_type": "code",
   "execution_count": null,
   "metadata": {},
   "outputs": [],
   "source": [
    "#Verdaderos o falsos\n",
    "5 > 3"
   ]
  },
  {
   "cell_type": "code",
   "execution_count": null,
   "metadata": {},
   "outputs": [],
   "source": [
    "3 > 5"
   ]
  },
  {
   "cell_type": "code",
   "execution_count": null,
   "metadata": {},
   "outputs": [],
   "source": [
    "#¿Qué cree que va a pasar?\n",
    "\n",
    "8 == 8.0\n"
   ]
  },
  {
   "cell_type": "markdown",
   "metadata": {},
   "source": [
    "### Modificar tipos de datos"
   ]
  },
  {
   "cell_type": "code",
   "execution_count": null,
   "metadata": {},
   "outputs": [],
   "source": [
    "numeroModificar = 8"
   ]
  },
  {
   "cell_type": "code",
   "execution_count": null,
   "metadata": {},
   "outputs": [],
   "source": [
    "numeroModificar"
   ]
  },
  {
   "cell_type": "code",
   "execution_count": null,
   "metadata": {},
   "outputs": [],
   "source": [
    "float(numeroModificar)"
   ]
  },
  {
   "cell_type": "markdown",
   "metadata": {},
   "source": [
    "<hr style=\"height:2px;border-width:0;color:gray;background-color:red\">\n",
    "<h2 style=\"color: red\">Actividad</h2>\n",
    "Ahora convertiremos la variable en string y luego volveremos a hacerla entera"
   ]
  },
  {
   "cell_type": "code",
   "execution_count": null,
   "metadata": {},
   "outputs": [],
   "source": []
  },
  {
   "cell_type": "code",
   "execution_count": null,
   "metadata": {},
   "outputs": [],
   "source": []
  },
  {
   "cell_type": "markdown",
   "metadata": {},
   "source": [
    "<h2 style=\"color: red\">Fin de la actividad</h2>\n",
    "<hr style=\"height:2px;border-width:0;color:gray;background-color:red\">\n"
   ]
  },
  {
   "cell_type": "markdown",
   "metadata": {},
   "source": [
    "#### Definido los tipos de datos, Empecemos"
   ]
  },
  {
   "cell_type": "code",
   "execution_count": null,
   "metadata": {},
   "outputs": [],
   "source": [
    "x=12"
   ]
  },
  {
   "cell_type": "code",
   "execution_count": null,
   "metadata": {},
   "outputs": [],
   "source": [
    "x+5"
   ]
  },
  {
   "cell_type": "code",
   "execution_count": null,
   "metadata": {},
   "outputs": [],
   "source": [
    "entero=7"
   ]
  },
  {
   "cell_type": "code",
   "execution_count": null,
   "metadata": {},
   "outputs": [],
   "source": [
    "flotante=7.0"
   ]
  },
  {
   "cell_type": "code",
   "execution_count": null,
   "metadata": {},
   "outputs": [],
   "source": [
    "entero+3"
   ]
  },
  {
   "cell_type": "code",
   "execution_count": null,
   "metadata": {},
   "outputs": [],
   "source": [
    "flotante+3"
   ]
  },
  {
   "cell_type": "code",
   "execution_count": null,
   "metadata": {},
   "outputs": [],
   "source": [
    "string=\"Hola\""
   ]
  },
  {
   "cell_type": "code",
   "execution_count": null,
   "metadata": {},
   "outputs": [],
   "source": [
    "string='Hola'"
   ]
  },
  {
   "cell_type": "code",
   "execution_count": null,
   "metadata": {},
   "outputs": [],
   "source": [
    "flotante2=float(3) #Este es mi primer comentario\n",
    "flotante2"
   ]
  },
  {
   "cell_type": "code",
   "execution_count": null,
   "metadata": {},
   "outputs": [],
   "source": [
    "'''\n",
    "flotante2\n",
    "flotante2\n",
    "flotante2\n",
    "flotante2flotante2flotante2\n",
    "flotante2flotante2\n",
    "flotante2\n",
    "'''"
   ]
  },
  {
   "cell_type": "code",
   "execution_count": null,
   "metadata": {},
   "outputs": [],
   "source": [
    "string=\"Hola chiquillos\""
   ]
  },
  {
   "cell_type": "code",
   "execution_count": null,
   "metadata": {},
   "outputs": [],
   "source": [
    "uno=1\n",
    "dos=2\n",
    "tres=uno+dos\n",
    "print(tres)"
   ]
  },
  {
   "cell_type": "code",
   "execution_count": null,
   "metadata": {},
   "outputs": [],
   "source": [
    "tres"
   ]
  },
  {
   "cell_type": "code",
   "execution_count": null,
   "metadata": {},
   "outputs": [],
   "source": [
    "hola=\"Hola\"\n",
    "mundo=\"Sergio\""
   ]
  },
  {
   "cell_type": "code",
   "execution_count": null,
   "metadata": {},
   "outputs": [],
   "source": [
    "hola+\" \"+mundo"
   ]
  },
  {
   "cell_type": "code",
   "execution_count": null,
   "metadata": {},
   "outputs": [],
   "source": [
    "a,b = 2,3"
   ]
  },
  {
   "cell_type": "code",
   "execution_count": null,
   "metadata": {},
   "outputs": [],
   "source": [
    "a"
   ]
  },
  {
   "cell_type": "code",
   "execution_count": null,
   "metadata": {},
   "outputs": [],
   "source": [
    "b"
   ]
  },
  {
   "cell_type": "code",
   "execution_count": null,
   "metadata": {},
   "outputs": [],
   "source": [
    "#Sacar residuos\n",
    "9%3"
   ]
  },
  {
   "cell_type": "code",
   "execution_count": null,
   "metadata": {},
   "outputs": [],
   "source": [
    "12%5"
   ]
  },
  {
   "cell_type": "markdown",
   "metadata": {},
   "source": [
    "<hr style=\"height:2px;border-width:0;color:gray;background-color:red\">\n",
    "<h2 style=\"color: red\">Actividad</h2>"
   ]
  },
  {
   "cell_type": "markdown",
   "metadata": {},
   "source": [
    "1. Haremos un programa que capture tu nombre y apellido en la primer linea y luego lo imprima en la segunda"
   ]
  },
  {
   "cell_type": "code",
   "execution_count": null,
   "metadata": {},
   "outputs": [],
   "source": [
    "a,b = input(\"Nombre :\"), input(\"Apellido\")\n",
    "print(a,b)"
   ]
  },
  {
   "cell_type": "markdown",
   "metadata": {},
   "source": [
    "2. Haremos un programa que captura el largo y ancho de un rectangulo y calcule el área en una misma linea"
   ]
  },
  {
   "cell_type": "code",
   "execution_count": null,
   "metadata": {},
   "outputs": [],
   "source": []
  },
  {
   "cell_type": "markdown",
   "metadata": {},
   "source": [
    "3. Haremos un programa que calcule la hipotenusa de un triangulo rectangulo cuyos valores deben ser ingresados"
   ]
  },
  {
   "cell_type": "code",
   "execution_count": null,
   "metadata": {},
   "outputs": [],
   "source": []
  },
  {
   "cell_type": "markdown",
   "metadata": {},
   "source": [
    "<h2 style=\"color: red\">Fin de la actividad</h2>\n",
    "<hr style=\"height:2px;border-width:0;color:gray;background-color:red\">"
   ]
  },
  {
   "cell_type": "markdown",
   "metadata": {},
   "source": [
    "##### Bien recuerdan las raices? vamos a sacar raíz cubica"
   ]
  },
  {
   "cell_type": "code",
   "execution_count": null,
   "metadata": {},
   "outputs": [],
   "source": [
    "b = 3\n",
    "c = 8**(1/b)"
   ]
  },
  {
   "cell_type": "code",
   "execution_count": null,
   "metadata": {},
   "outputs": [],
   "source": [
    "print (c)"
   ]
  },
  {
   "cell_type": "code",
   "execution_count": null,
   "metadata": {},
   "outputs": [],
   "source": [
    "5**2\n",
    "25**(1/2)"
   ]
  },
  {
   "cell_type": "markdown",
   "metadata": {},
   "source": [
    "Tambien podemos traer la libreria math, para calcular la raíz cuadrada"
   ]
  },
  {
   "cell_type": "code",
   "execution_count": null,
   "metadata": {},
   "outputs": [],
   "source": [
    "import math\n",
    "raiz = math.sqrt(4)"
   ]
  },
  {
   "cell_type": "code",
   "execution_count": null,
   "metadata": {},
   "outputs": [],
   "source": [
    "raiz"
   ]
  },
  {
   "cell_type": "code",
   "execution_count": null,
   "metadata": {},
   "outputs": [],
   "source": [
    "# raiz cuadrada\n",
    "math.sqrt(9)"
   ]
  },
  {
   "cell_type": "code",
   "execution_count": null,
   "metadata": {},
   "outputs": [],
   "source": [
    "#Si quieres saber que hace una libreria puedes utilizar el comando\n",
    "\n",
    "help(math)"
   ]
  },
  {
   "cell_type": "code",
   "execution_count": null,
   "metadata": {},
   "outputs": [],
   "source": [
    "# por ejemplo podemos invocar Pi o E\n",
    "import math\n",
    "\n",
    "grados = int(input(\"Ingrese los grados :\"))\n",
    "variable = grados*math.pi/180\n",
    "math.sin(variable)"
   ]
  },
  {
   "cell_type": "code",
   "execution_count": null,
   "metadata": {},
   "outputs": [],
   "source": [
    "grados = 180\n",
    "variable = grados*math.pi/180\n",
    "math.cos(variable)"
   ]
  },
  {
   "cell_type": "code",
   "execution_count": null,
   "metadata": {},
   "outputs": [],
   "source": [
    "math.factorial(4)"
   ]
  },
  {
   "cell_type": "markdown",
   "metadata": {},
   "source": [
    "Diferentes librerias pueden hacer diferentes efectos, segun las necesidades"
   ]
  },
  {
   "cell_type": "code",
   "execution_count": null,
   "metadata": {},
   "outputs": [],
   "source": [
    "import matplotlib.pyplot as plt #Graficas\n",
    "import numpy as np #Matematicas\n",
    "\n",
    "x = np.linspace(0, 10, 100)\n",
    "y = np.sin(x)\n",
    "plt.figure(figsize=(6,5))\n",
    "plt.plot(x, y)\n",
    "plt.show()"
   ]
  },
  {
   "cell_type": "markdown",
   "metadata": {},
   "source": [
    "## Vamos a Trabajar Listas/Vectores"
   ]
  },
  {
   "cell_type": "markdown",
   "metadata": {},
   "source": [
    "#### Más sobre listas\n",
    "\n",
    "El tipo de dato lista tiene algunos métodos más. Aquí están todos los métodos de los objetos lista:\n",
    "\n",
    "<b>list.append(x)</b>\n",
    "\n",
    "Agrega un ítem al final de la lista. Equivale a a[len(a):] = [x].\n",
    "\n",
    "\n",
    "<b>list.extend(L)</b>\n",
    "\n",
    "Extiende la lista agregándole todos los ítems de la lista dada. Equivale a a[len(a):] = L.\n",
    "\n",
    "\n",
    "<b>list.insert(i, x)</b>\n",
    "\n",
    "Inserta un ítem en una posición dada. El primer argumento es el índice del ítem delante del cual se insertará, por lo tanto a.insert(0, x) inserta al principio de la lista, y a.insert(len(a), x) equivale a a.append(x).\n",
    "\n",
    "\n",
    "<b>list.remove(x)</b>\n",
    "\n",
    "Quita el primer ítem de la lista cuyo valor sea x. Es un error si no existe tal ítem.\n",
    "\n",
    "\n",
    "<b>list.pop([i])</b>\n",
    "\n",
    "Quita el ítem en la posición dada de la lista, y lo devuelve. Si no se especifica un índice, a.pop() quita y devuelve el último ítem de la lista. (Los corchetes que encierran a i en la firma del método denotan que el parámetro es opcional, no que deberías escribir corchetes en esa posición. Verás esta notación con frecuencia en la Referencia de la Biblioteca de Python.)\n",
    "\n",
    "\n",
    "<b>list.clear()</b>\n",
    "\n",
    "Quita todos los elementos de la lista. Equivalente a del a[:].\n",
    "\n",
    "\n",
    "<b>list.index(x)</b>\n",
    "\n",
    "Devuelve el índice en la lista del primer ítem cuyo valor sea x. Es un error si no existe tal ítem.\n",
    "\n",
    "\n",
    "<b>list.count(x)</b>\n",
    "\n",
    "Devuelve el número de veces que x aparece en la lista.\n",
    "\n",
    "\n",
    "<b>list.sort(key=None, reverse=False)</b>\n",
    "\n",
    "Ordena los ítems de la lista in situ (los argumentos pueden ser usados para personalizar el orden de la lista, ve sorted() para su explicación).\n",
    "\n",
    "\n",
    "<b>list.reverse()</b>\n",
    "\n",
    "Invierte los elementos de la lista in situ.\n",
    "\n",
    "\n",
    "<b>list.copy()</b>\n",
    "\n",
    "Devuelve una copia superficial de la lista. Equivalente a a[:]."
   ]
  },
  {
   "cell_type": "markdown",
   "metadata": {},
   "source": [
    "<hr style=\"height:2px;border-width:0;color:gray;background-color:red\">\n",
    "<h2 style=\"color: red\">Actividad</h2>"
   ]
  },
  {
   "cell_type": "code",
   "execution_count": null,
   "metadata": {},
   "outputs": [],
   "source": [
    "#Podemos crear una lista vacia\n"
   ]
  },
  {
   "cell_type": "code",
   "execution_count": null,
   "metadata": {},
   "outputs": [],
   "source": [
    "#Agregamos un número a la lista con el comando append\n"
   ]
  },
  {
   "cell_type": "code",
   "execution_count": null,
   "metadata": {},
   "outputs": [],
   "source": [
    "#vamos a agregar una variable con el comando append\n"
   ]
  },
  {
   "cell_type": "code",
   "execution_count": null,
   "metadata": {},
   "outputs": [],
   "source": [
    "#Ahora imprimiremos la lista\n"
   ]
  },
  {
   "cell_type": "markdown",
   "metadata": {},
   "source": [
    "#### Agregar una variable de control"
   ]
  },
  {
   "cell_type": "code",
   "execution_count": null,
   "metadata": {},
   "outputs": [],
   "source": [
    "#¿Nota algo extraño en el dato que acaba de ingresar?\n",
    "paraListaDos = input(\"ingrese el nuevo número que quiere agregar\")\n",
    "lista.append(paraListaDos)\n",
    "print (lista)\n"
   ]
  },
  {
   "cell_type": "code",
   "execution_count": null,
   "metadata": {},
   "outputs": [],
   "source": [
    "#Para garantizar que sea el tipo de dato que necesita, esta es la sintaxis\n",
    "paraListaDos = int(input(\"ingrese el nuevo número que quiere agregar\"))\n",
    "lista.append(paraListaDos)\n",
    "print (lista)"
   ]
  },
  {
   "cell_type": "code",
   "execution_count": null,
   "metadata": {},
   "outputs": [],
   "source": [
    "#Reaccionemos el vector para que todos sean INT\n",
    "lista = [1,2,3,4]"
   ]
  },
  {
   "cell_type": "markdown",
   "metadata": {},
   "source": [
    "<h2 style=\"color: red\">Fin de la actividad</h2>\n",
    "<hr style=\"height:2px;border-width:0;color:gray;background-color:red\">"
   ]
  },
  {
   "cell_type": "code",
   "execution_count": null,
   "metadata": {},
   "outputs": [],
   "source": [
    "#Puedes agregar una lista dentro de una lista\n",
    "lista.append(lista)"
   ]
  },
  {
   "cell_type": "code",
   "execution_count": null,
   "metadata": {},
   "outputs": [],
   "source": [
    "lista"
   ]
  },
  {
   "cell_type": "markdown",
   "metadata": {},
   "source": [
    "<hr style=\"height:2px;border-width:0;color:gray;background-color:red\">\n",
    "<h2 style=\"color: red\">Actividad</h2>"
   ]
  },
  {
   "cell_type": "code",
   "execution_count": null,
   "metadata": {},
   "outputs": [],
   "source": [
    "#Calculemos cuantos elementos tiene una lista\n",
    "lista=(3,3,4,4)\n",
    "\n",
    "print(sum(lista))\n",
    "print(len(lista))\n",
    "promedio=sum(lista)/len(lista)\n",
    "print(promedio)\n"
   ]
  },
  {
   "cell_type": "code",
   "execution_count": null,
   "metadata": {},
   "outputs": [],
   "source": []
  },
  {
   "cell_type": "code",
   "execution_count": null,
   "metadata": {},
   "outputs": [],
   "source": [
    "#Cómo quitar el último elemento de una lista\n"
   ]
  },
  {
   "cell_type": "code",
   "execution_count": null,
   "metadata": {},
   "outputs": [],
   "source": [
    "#Queremos imprimir un valor de la lista, es importante recordar que en las listas, la primer posición es (0) \n"
   ]
  },
  {
   "cell_type": "code",
   "execution_count": null,
   "metadata": {},
   "outputs": [],
   "source": [
    "#Si queremos eliminar un valor especifico de la lista.\n"
   ]
  },
  {
   "cell_type": "code",
   "execution_count": null,
   "metadata": {},
   "outputs": [],
   "source": []
  },
  {
   "cell_type": "code",
   "execution_count": null,
   "metadata": {},
   "outputs": [],
   "source": [
    "#Si queremos remover un elemento en un lugar de la lista\n"
   ]
  },
  {
   "cell_type": "code",
   "execution_count": null,
   "metadata": {},
   "outputs": [],
   "source": []
  },
  {
   "cell_type": "code",
   "execution_count": null,
   "metadata": {},
   "outputs": [],
   "source": []
  },
  {
   "cell_type": "code",
   "execution_count": null,
   "metadata": {},
   "outputs": [],
   "source": []
  },
  {
   "cell_type": "code",
   "execution_count": null,
   "metadata": {},
   "outputs": [],
   "source": [
    "#si queremos buscar la posición de un elemento de la lista, podemos utilizar index\n"
   ]
  },
  {
   "cell_type": "markdown",
   "metadata": {},
   "source": [
    "<h2 style=\"color: red\">Fin de la actividad</h2>\n",
    "<hr style=\"height:2px;border-width:0;color:gray;background-color:red\">"
   ]
  },
  {
   "cell_type": "code",
   "execution_count": null,
   "metadata": {},
   "outputs": [],
   "source": [
    "#Si queremos sacar el maximo elemento de una lista o el minimo\n",
    "lista=(4,3,1,4, 8, 9, 10)\n",
    "maximo = max(lista)\n",
    "minimo = min(lista)\n",
    "print(\"mejor nota\",maximo)\n",
    "print(\"peor nota\",minimo)"
   ]
  },
  {
   "cell_type": "code",
   "execution_count": null,
   "metadata": {},
   "outputs": [],
   "source": [
    "#Ordenar la lista\n",
    "sorted([5, 2, 3, 1, 4])"
   ]
  },
  {
   "cell_type": "code",
   "execution_count": null,
   "metadata": {},
   "outputs": [],
   "source": [
    "lista_ordenada = sorted(lista)\n",
    "print(lista_ordenada, lista)\n"
   ]
  },
  {
   "cell_type": "code",
   "execution_count": null,
   "metadata": {},
   "outputs": [],
   "source": []
  },
  {
   "cell_type": "markdown",
   "metadata": {},
   "source": [
    "#### Trabajo con diccionarios"
   ]
  },
  {
   "cell_type": "code",
   "execution_count": null,
   "metadata": {},
   "outputs": [],
   "source": [
    "materias = {}\n",
    "materias[\"lunes\"] = [6103, 7540]\n",
    "materias[\"martes\"] = [6201]\n",
    "materias[\"miércoles\"] = [6103, 7549]\n",
    "materias[\"jueves\"] = []\n",
    "materias[\"viernes\"] = [6201]\n",
    "print (materias[\"lunes\"])\n",
    "print (materias[\"viernes\"])"
   ]
  },
  {
   "cell_type": "code",
   "execution_count": null,
   "metadata": {},
   "outputs": [],
   "source": []
  },
  {
   "cell_type": "markdown",
   "metadata": {},
   "source": [
    "<hr style=\"height:2px;border-width:0;color:gray;background-color:red\">\n",
    "<h2 style=\"color: red\">Actividad</h2>"
   ]
  },
  {
   "cell_type": "markdown",
   "metadata": {},
   "source": [
    "1.Para finalizar vamos a crear un programa que calcule el volumen de un objeto cuboide, captuaron su largo, ancho y alto\n",
    "\n",
    "<img src=\"alg/DF_2-Pagina-19-1-1.png\"  width=\"600px\">"
   ]
  },
  {
   "cell_type": "code",
   "execution_count": null,
   "metadata": {},
   "outputs": [],
   "source": [
    "#Iniciamos el programa dandole Run o Shit + Enter\n",
    "lado_del_cubo = int(input(\"Digame el valor del lado\")) #Azul:  Leer las medidas A, B, C\n",
    "volumen_del_cubo = lado_del_cubo*lado_del_cubo*lado_del_cubo #Verde: Calcular el volumen\n",
    "print(volumen_del_cubo) #Rojo: Escribir el volumen obtenido\n",
    "#Fin del proceso"
   ]
  },
  {
   "cell_type": "markdown",
   "metadata": {},
   "source": [
    "<h2 style=\"color: red\">Fin de la actividad</h2>\n",
    "<hr style=\"height:2px;border-width:0;color:gray;background-color:red\">"
   ]
  },
  {
   "cell_type": "markdown",
   "metadata": {},
   "source": [
    "# 4. Identación en Python"
   ]
  },
  {
   "cell_type": "markdown",
   "metadata": {},
   "source": [
    "Hasta este momento creo que ya notaron que python no suele terminar sus declaraciones en parantesis o punto y como <b>¿entonces qué utiliza python?</b>"
   ]
  },
  {
   "cell_type": "markdown",
   "metadata": {},
   "source": [
    "La <b>identación</b>, Python define el nivel en el que una linea de comandos se encuentra a partir de la identación\n",
    "\n",
    "Ejemplo:"
   ]
  },
  {
   "cell_type": "markdown",
   "metadata": {},
   "source": [
    "<img src=\"img/identacion1.png\">"
   ]
  },
  {
   "cell_type": "markdown",
   "metadata": {},
   "source": [
    "¿Pero si identamos en todos los lenguajes, cual es la diferencia? Bueno que en los otro lenguajes no es obligatorio, pero en Python es OBLIGATORIO identar!!\n",
    "<img src=\"img/obligatoria.jpg\">\n"
   ]
  },
  {
   "cell_type": "markdown",
   "metadata": {},
   "source": [
    "Bueno, cómo vemos en estas piezas de código que me robe de internet, encontraremos como se identan y se agrupan."
   ]
  },
  {
   "cell_type": "markdown",
   "metadata": {},
   "source": [
    "<img src=\"img/identacion2.png\">"
   ]
  },
  {
   "cell_type": "code",
   "execution_count": null,
   "metadata": {},
   "outputs": [],
   "source": [
    "#Por ejemplo así es un for en php, aunque lo identemos no es obligatorio, \n",
    "#los corchetes nos indican donde empieza y termina el for.\n",
    "for ($i = 1; $i <= 10; $i++) {\n",
    "    echo $i;\n",
    "}\n",
    "echo(\"fin del programa\")"
   ]
  },
  {
   "cell_type": "code",
   "execution_count": 42,
   "metadata": {},
   "outputs": [
    {
     "name": "stdout",
     "output_type": "stream",
     "text": [
      "0\n",
      "1\n",
      "2\n",
      "3\n",
      "4\n",
      "5\n",
      "6\n",
      "7\n",
      "8\n",
      "9\n",
      "fin del programa\n"
     ]
    }
   ],
   "source": [
    "for i in range(10):\n",
    "    print(i)\n",
    "print(\"fin del programa\")"
   ]
  },
  {
   "cell_type": "markdown",
   "metadata": {},
   "source": [
    "Es bueno recordar que si quiero anidar cualquier tipo de procesos en python debo seguir identando, nunca pares de identar.\n",
    "<img src=\"img/identacion3.png\">"
   ]
  },
  {
   "cell_type": "markdown",
   "metadata": {},
   "source": [
    "# 5. Ramificaciones y condiciones en Python\n"
   ]
  },
  {
   "cell_type": "markdown",
   "metadata": {},
   "source": [
    "La primera condiciones que veremos son los <b>if y else</b>, a continuación la explicación\n",
    "<img src=\"img/auto.jpg\">"
   ]
  },
  {
   "cell_type": "markdown",
   "metadata": {},
   "source": [
    "# Símbolo | Significado | Ejemplo | Resultado\n",
    "<div style=\"background: #fff; padding: 20px; border: 1px solid #006699;\">\n",
    "<pre>\n",
    "==\tIgual que\t5 == 7\tFalse\n",
    "!=\tDistinto que\trojo != verde\tTrue\n",
    "<\tMenor que\t8 < 12\tTrue\n",
    ">\tMayor que\t12 > 7\tTrue\n",
    "<=\tMenor o igual que\t12 <= 12\tTrue\n",
    ">=\tMayor o igual que\t4 >= 5\tFalse\n",
    "\n",
    "Y para evaluar más de una condición simultáneamente, se utilizan operadores lógicos:\n",
    "\n",
    "Operador\tEjemplo\tExplicación\tResultado\n",
    "and\t5 == 7 and 7 < 12\tFalse and True\tFalse\n",
    "and\t9 < 12 and 12 > 7\tTrue and True\tTrue\n",
    "and\t9 < 12 and 12 > 15\tTrue and False\tFalse\n",
    "or\t12 == 11 or 15 < 7\tFalse or False\tFalse\n",
    "or\t7 > 5 or 9 < 12\tTrue or True\tTrue\n",
    "xor\t4 == 4 xor 9 > 3\tTrue o True\tFalse\n",
    "xor\t4 == 4 xor 9 < 3\tTrue o False\tTrue\n",
    "</pre>\n",
    "</div>"
   ]
  },
  {
   "cell_type": "markdown",
   "metadata": {},
   "source": [
    "#### IF, ELSE, ELIF"
   ]
  },
  {
   "cell_type": "code",
   "execution_count": 43,
   "metadata": {},
   "outputs": [
    {
     "data": {
      "text/plain": [
       "True"
      ]
     },
     "execution_count": 43,
     "metadata": {},
     "output_type": "execute_result"
    }
   ],
   "source": [
    "True==True"
   ]
  },
  {
   "cell_type": "markdown",
   "metadata": {},
   "source": [
    "<hr style=\"height:2px;border-width:0;color:gray;background-color:red\">\n",
    "<h2 style=\"color: red\">Actividad</h2>"
   ]
  },
  {
   "cell_type": "markdown",
   "metadata": {},
   "source": [
    "#### 1. ¿Qué ocurre si comparo Verdadero con Falso y Falso con Falso?"
   ]
  },
  {
   "cell_type": "code",
   "execution_count": 44,
   "metadata": {},
   "outputs": [
    {
     "data": {
      "text/plain": [
       "False"
      ]
     },
     "execution_count": 44,
     "metadata": {},
     "output_type": "execute_result"
    }
   ],
   "source": [
    "True==False"
   ]
  },
  {
   "cell_type": "code",
   "execution_count": 45,
   "metadata": {},
   "outputs": [
    {
     "data": {
      "text/plain": [
       "True"
      ]
     },
     "execution_count": 45,
     "metadata": {},
     "output_type": "execute_result"
    }
   ],
   "source": [
    "False==False"
   ]
  },
  {
   "cell_type": "markdown",
   "metadata": {},
   "source": [
    "<h2 style=\"color: red\">Fin de la actividad</h2>\n",
    "<hr style=\"height:2px;border-width:0;color:gray;background-color:red\">"
   ]
  },
  {
   "cell_type": "code",
   "execution_count": 48,
   "metadata": {},
   "outputs": [
    {
     "name": "stdout",
     "output_type": "stream",
     "text": [
      "2 es mayor que 1\n",
      "3 es mayor que 1\n"
     ]
    }
   ],
   "source": [
    "if (2 >= 1):\n",
    "    print(\"2 es mayor que 1\")\n",
    "    if (3 >= 2):\n",
    "        print(\"3 es mayor que 1\")\n",
    "        "
   ]
  },
  {
   "cell_type": "code",
   "execution_count": 50,
   "metadata": {},
   "outputs": [
    {
     "name": "stdout",
     "output_type": "stream",
     "text": [
      "¿Cuántos años tiene? 20\n",
      "Es usted mayor de edad\n",
      "¡Hasta la próxima!\n"
     ]
    }
   ],
   "source": [
    "#Ingrese su edad y pruebe el Else\n",
    "edad = int(input(\"¿Cuántos años tiene? \"))\n",
    "if edad < 18:\n",
    "    print(\"Es usted menor de edad\")\n",
    "else:\n",
    "    print(\"Es usted mayor de edad\")\n",
    "print(\"¡Hasta la próxima!\")"
   ]
  },
  {
   "cell_type": "code",
   "execution_count": 52,
   "metadata": {},
   "outputs": [
    {
     "name": "stdout",
     "output_type": "stream",
     "text": [
      "Ingrese el número: 32\n",
      "Este número es par\n"
     ]
    }
   ],
   "source": [
    "#Vamos a probar si un número es Par o Impar\n",
    "numero = int(input(\"Ingrese el número: \"))\n",
    "if numero % 2:\n",
    "    print(\"Este número es impar\")\n",
    "else:\n",
    "    print(\"Este número es par\")"
   ]
  },
  {
   "cell_type": "markdown",
   "metadata": {},
   "source": [
    "<hr style=\"height:2px;border-width:0;color:gray;background-color:red\">\n",
    "<h2 style=\"color: red\">Actividad</h2>"
   ]
  },
  {
   "cell_type": "markdown",
   "metadata": {},
   "source": [
    "1.Crearemos un programa que calcule el cambio que debe devolver una caja registradora \n",
    "\n",
    "<img src=\"alg/DF_3-Pagina-23-1-7.png\" width=\"600px\">"
   ]
  },
  {
   "cell_type": "code",
   "execution_count": null,
   "metadata": {},
   "outputs": [],
   "source": []
  },
  {
   "cell_type": "markdown",
   "metadata": {},
   "source": [
    "<h2 style=\"color: red\">Fin de la actividad</h2>\n",
    "<hr style=\"height:2px;border-width:0;color:gray;background-color:red\">"
   ]
  },
  {
   "cell_type": "code",
   "execution_count": 57,
   "metadata": {},
   "outputs": [
    {
     "name": "stdout",
     "output_type": "stream",
     "text": [
      "Ingrese el número (4): 3\n",
      "Ingrese el número: (2): 2\n",
      "Ingrese el número: (1): 1\n",
      "Vuelve a intentarlo\n"
     ]
    }
   ],
   "source": [
    "#Acá vemos como se deben cumplir las 2 condiciones, puedes anidar más condiciones.\n",
    "num1 = int(input(\"Ingrese el número (4): \"))\n",
    "num2 = int(input(\"Ingrese el número: (2): \"))\n",
    "num3 = int(input(\"Ingrese el número: (1): \"))\n",
    "\n",
    "if num1 == 4 and num2 == 2 and num3 == 1: # and si las 2 condiciones se cumplen\n",
    "    print(\"Yupi abriste la caja fuerte\")\n",
    "else:\n",
    "    print(\"Vuelve a intentarlo\")"
   ]
  },
  {
   "cell_type": "code",
   "execution_count": 63,
   "metadata": {},
   "outputs": [
    {
     "name": "stdout",
     "output_type": "stream",
     "text": [
      "Ingrese el número (4): 7\n",
      "Ingrese el número (2): 8\n",
      "Ingrese el número (1): 9\n",
      "ningun num es igual\n"
     ]
    }
   ],
   "source": [
    "num1 = int(input(\"Ingrese el número (4): \"))\n",
    "num2 = int(input(\"Ingrese el número (2): \"))\n",
    "num3 = int(input(\"Ingrese el número (1): \"))\n",
    "if num1 == 4 or num2 == 2 or num3 == 1: # or si una de las condiciones es cierta, todas son ciertas\n",
    "    print(\"Almenos una de las variables num, tenia el valor correcto de 4, 2, 1\")\n",
    "else:\n",
    "    print(\"ningun num es igual\")"
   ]
  },
  {
   "cell_type": "markdown",
   "metadata": {},
   "source": [
    "IF, ELSE y valores Boobleanos"
   ]
  },
  {
   "cell_type": "markdown",
   "metadata": {},
   "source": [
    "# Juego de semaforos "
   ]
  },
  {
   "cell_type": "code",
   "execution_count": 65,
   "metadata": {},
   "outputs": [
    {
     "name": "stdout",
     "output_type": "stream",
     "text": [
      "Puedes pasar!\n"
     ]
    }
   ],
   "source": [
    "verde = True\n",
    "if verde:\n",
    "    print (\"Puedes pasar!\")\n",
    "    "
   ]
  },
  {
   "cell_type": "code",
   "execution_count": 67,
   "metadata": {},
   "outputs": [
    {
     "name": "stdout",
     "output_type": "stream",
     "text": [
      "Espera\n"
     ]
    }
   ],
   "source": [
    "verde = False\n",
    "if verde:\n",
    "    print (\"Puedes pasar!\")\n",
    "else:\n",
    "    print (\"Espera\")"
   ]
  },
  {
   "cell_type": "code",
   "execution_count": null,
   "metadata": {},
   "outputs": [],
   "source": [
    "semaforoVerde = False\n",
    "semaforoNaranja = False\n",
    "\n",
    "if semaforoVerde:\n",
    "    print(\"Puedes pasar\")\n",
    "else:\n",
    "    if semaforoNaranja:\n",
    "        print (\"Pase con precaución\")\n",
    "    else:\n",
    "        print (\"Esta en rojo, debes esperar\") "
   ]
  },
  {
   "cell_type": "markdown",
   "metadata": {},
   "source": [
    "#### Elif reprenseta lo que en otros lenguajes de programación se conoce como el Switch"
   ]
  },
  {
   "cell_type": "code",
   "execution_count": 69,
   "metadata": {},
   "outputs": [
    {
     "name": "stdout",
     "output_type": "stream",
     "text": [
      "Ingrese un número de 1 a 35\n",
      "Escogio un número diferente\n",
      "5\n",
      "Adios\n"
     ]
    }
   ],
   "source": [
    "var = int(input(\"Ingrese un número de 1 a 3\"))\n",
    "\n",
    "if var == 1:\n",
    "   print (\"1 - Fue su número\")\n",
    "   print (var)\n",
    "elif var == 2:\n",
    "   print (\"2 - Fue su número\")\n",
    "   print (var)\n",
    "elif var == 3:\n",
    "   print (\"3 - Fue su número\")\n",
    "   print (var)\n",
    "else:\n",
    "   print (\"Escogio un número diferente\")\n",
    "   print (var)\n",
    "\n",
    "print (\"Adios\")"
   ]
  },
  {
   "cell_type": "markdown",
   "metadata": {},
   "source": [
    "<hr style=\"height:2px;border-width:0;color:gray;background-color:red\">\n",
    "<h2 style=\"color: red\">Actividad</h2>\n",
    "1.Crearemos un programa en el que el usuario pueda elegir si quiere calcular el área, el perimetro o la hipotenusa de un triangulo rectangulo, luego nos pedira que ingresos solo su altura y su base el equivalente a su cateto a y cateto\n",
    "<h3>Formulas</h3>\n",
    "<ul>\n",
    "    <li>Area = Base*Altura/2</li>\n",
    "    <li>Petrimetro = Base+Altura+Hipotenusa</li>\n",
    "    <li>Hipotenusa = Raiz de Base elevado al cuadrado más Altura elevado al cuadrado (b**2+a**2)**(1/2)</li>\n",
    "</ul>"
   ]
  },
  {
   "cell_type": "code",
   "execution_count": null,
   "metadata": {},
   "outputs": [],
   "source": []
  },
  {
   "cell_type": "markdown",
   "metadata": {},
   "source": [
    "<h2 style=\"color: red\">Fin de la actividad</h2>\n",
    "<hr style=\"height:2px;border-width:0;color:gray;background-color:red\">"
   ]
  },
  {
   "cell_type": "markdown",
   "metadata": {},
   "source": [
    "# 5. Trabajando con loops o Ciclos en Python"
   ]
  },
  {
   "cell_type": "markdown",
   "metadata": {},
   "source": [
    "<img src=\"img/loop.png\">"
   ]
  },
  {
   "cell_type": "markdown",
   "metadata": {},
   "source": [
    "<h3>Imagina que te piden un programa que cuente números de 1 hasta 100</h3>"
   ]
  },
  {
   "cell_type": "code",
   "execution_count": 70,
   "metadata": {},
   "outputs": [
    {
     "name": "stdout",
     "output_type": "stream",
     "text": [
      "1\n",
      "2\n",
      "3\n",
      "4\n",
      "5\n",
      "6\n",
      "7\n",
      "8\n",
      "9\n",
      "10\n",
      "11\n",
      "12\n",
      "Me canse\n"
     ]
    }
   ],
   "source": [
    "print(1)\n",
    "print(2)\n",
    "print(3)\n",
    "print(4)\n",
    "print(5)\n",
    "print(6)\n",
    "print(7)\n",
    "print(8)\n",
    "print(9)\n",
    "print(10)\n",
    "print(11)\n",
    "print(12)\n",
    "print(\"Me canse\")\n"
   ]
  },
  {
   "cell_type": "markdown",
   "metadata": {},
   "source": [
    "<h3>¿Qué soluciones tenemos para esto?</h3>"
   ]
  },
  {
   "cell_type": "code",
   "execution_count": 18,
   "metadata": {},
   "outputs": [
    {
     "name": "stdout",
     "output_type": "stream",
     "text": [
      "1\n",
      "2\n",
      "3\n",
      "4\n",
      "5\n",
      "6\n",
      "7\n",
      "8\n",
      "9\n",
      "10\n",
      "11\n",
      "12\n",
      "13\n",
      "14\n",
      "15\n",
      "16\n",
      "17\n",
      "18\n",
      "19\n",
      "20\n",
      "21\n",
      "22\n",
      "23\n",
      "24\n",
      "25\n",
      "26\n",
      "27\n",
      "28\n",
      "29\n",
      "30\n",
      "31\n",
      "32\n",
      "33\n",
      "34\n",
      "35\n",
      "36\n",
      "37\n",
      "38\n",
      "39\n",
      "40\n",
      "41\n",
      "42\n",
      "43\n",
      "44\n",
      "45\n",
      "46\n",
      "47\n",
      "48\n",
      "49\n",
      "50\n",
      "51\n",
      "52\n",
      "53\n",
      "54\n",
      "55\n",
      "56\n",
      "57\n",
      "58\n",
      "59\n",
      "60\n",
      "61\n",
      "62\n",
      "63\n",
      "64\n",
      "65\n",
      "66\n",
      "67\n",
      "68\n",
      "69\n",
      "70\n",
      "71\n",
      "72\n",
      "73\n",
      "74\n",
      "75\n",
      "76\n",
      "77\n",
      "78\n",
      "79\n",
      "80\n",
      "81\n",
      "82\n",
      "83\n",
      "84\n",
      "85\n",
      "86\n",
      "87\n",
      "88\n",
      "89\n",
      "90\n",
      "91\n",
      "92\n",
      "93\n",
      "94\n",
      "95\n",
      "96\n",
      "97\n",
      "98\n",
      "99\n",
      "100\n"
     ]
    }
   ],
   "source": [
    "i = 1\n",
    "while i <= 100: #Qué cambio requiere esta linea para que haga bien su trabajo de contar hasta 100?\n",
    "  print(i)\n",
    "  i += 1 #Esta es la versión resumida del i=i+1"
   ]
  },
  {
   "cell_type": "markdown",
   "metadata": {},
   "source": [
    "## Ciclo WHILE"
   ]
  },
  {
   "cell_type": "markdown",
   "metadata": {},
   "source": [
    "Bien, parece obvio para que son los ciclos, a continuación escribi varias piezas de código la idea es que intenten saber que hace cada una sin necesidad de ejecutarlo, si han pasado unos 5 minutos y no lo decifras, entonces ejecutemos y vemos lo que hacen"
   ]
  },
  {
   "cell_type": "code",
   "execution_count": 19,
   "metadata": {},
   "outputs": [
    {
     "name": "stdout",
     "output_type": "stream",
     "text": [
      "La suma es 55\n"
     ]
    }
   ],
   "source": [
    "suma = 0 #Declaramos una variable suma\n",
    "numero = 1 #Declaramos un número de inicio del ciclo\n",
    "while numero <= 10: #La suma se ejecutara los primeros 10números\n",
    "    suma = numero + suma #Hacemos la suma y la guardamos\n",
    "    numero = numero + 1 #Aumentamos el contador para evitar que el bucle sea infinito\n",
    "print (\"La suma es \" + str(suma)) #Imprimimos y cambiamos la suma a String"
   ]
  },
  {
   "cell_type": "code",
   "execution_count": null,
   "metadata": {},
   "outputs": [],
   "source": [
    "#Qué cree que va a pasar?\n",
    "\n",
    "variable = 10\n",
    "while variable > 0:\n",
    "    print ('Actual valor de variable:', variable)\n",
    "    variable = variable -1\n",
    "    if variable == 5:\n",
    "        break #Esta es otra forma de romper un ciclo, cuando se cumple una condición"
   ]
  },
  {
   "cell_type": "code",
   "execution_count": null,
   "metadata": {},
   "outputs": [],
   "source": [
    "#Similar pero con la sentencia (continue)\n",
    "\n",
    "variable = 10\n",
    "while variable > 0:              \n",
    "   variable = variable -1\n",
    "   if variable == 5:\n",
    "        print(\"vamos en la mitad\")\n",
    "      continue #evita que el ciclo se rompa\n",
    "   print ('Actual valor de variable:', variable)"
   ]
  },
  {
   "cell_type": "code",
   "execution_count": 73,
   "metadata": {},
   "outputs": [
    {
     "name": "stdout",
     "output_type": "stream",
     "text": [
      "c\n",
      "h\n"
     ]
    }
   ],
   "source": [
    "i=0\n",
    "s=\"choza\"\n",
    "while not(s[i] in \"aeiouAEIOUáéíóúÁÉÍÓÚ\"):\n",
    "    print(s[i])\n",
    "    i=i+1"
   ]
  },
  {
   "cell_type": "markdown",
   "metadata": {},
   "source": [
    "<hr style=\"height:2px;border-width:0;color:gray;background-color:red\">\n",
    "<h2 style=\"color: red\">Actividad</h2>\n",
    "<b>1. Has un algoritmo que ayude a tu amiga a terminar con el novio</b>\n",
    "<img src=\"img/novio.png\">"
   ]
  },
  {
   "cell_type": "code",
   "execution_count": null,
   "metadata": {},
   "outputs": [],
   "source": []
  },
  {
   "cell_type": "markdown",
   "metadata": {},
   "source": [
    "<h2 style=\"color: red\">Fin de la actividad</h2>\n",
    "<hr style=\"height:2px;border-width:0;color:gray;background-color:red\">\n"
   ]
  },
  {
   "cell_type": "markdown",
   "metadata": {},
   "source": [
    "#### Ciclo FOR, el ciclo for en python va de 1 valor en 1 valor, segun el rango"
   ]
  },
  {
   "cell_type": "code",
   "execution_count": 79,
   "metadata": {},
   "outputs": [
    {
     "name": "stdout",
     "output_type": "stream",
     "text": [
      "3\n",
      "6\n",
      "9\n",
      "12\n",
      "15\n",
      "18\n",
      "21\n",
      "24\n",
      "27\n",
      "30\n"
     ]
    }
   ],
   "source": [
    "#Vamos a examinar el bucle for\n",
    "for i in range (3,31,3):\n",
    "    print(i)"
   ]
  },
  {
   "cell_type": "code",
   "execution_count": 83,
   "metadata": {},
   "outputs": [
    {
     "name": "stdout",
     "output_type": "stream",
     "text": [
      "[2, 3, 4, 5, 'a', 10, 15, 20, 25, 30, 35, 40, 45]\n"
     ]
    }
   ],
   "source": [
    "#Vamos a examinar el bucle for\n",
    "list = [2,3,4,5,'a'] #Creamos una lista\n",
    "n=50 #Creamos una variable que definira el tamaño de for\n",
    "for i in range (10,n,5): #(i) se inicializa en 0 y va hasta 4\n",
    "    list.append(i) #agrega (i) a la lista o vector\n",
    "    \n",
    "print (list) #imprime la lista o vector"
   ]
  },
  {
   "cell_type": "markdown",
   "metadata": {},
   "source": [
    "<hr style=\"height:2px;border-width:0;color:gray;background-color:red\">\n",
    "<h2 style=\"color: red\">Actividad Final</h2> \n",
    "\n",
    "1.la siguiente actividad es un recuerdo de la niñes, <b>¿Puedes imaginar cuál es el siguiente reto que debes lograr?</b> te dare una pista\n",
    "\n",
    "<img src=\"img/facilito.png\">"
   ]
  },
  {
   "cell_type": "code",
   "execution_count": 89,
   "metadata": {},
   "outputs": [
    {
     "name": "stdout",
     "output_type": "stream",
     "text": [
      "1 x 1 = 1\n",
      "1 x 2 = 2\n",
      "1 x 3 = 3\n",
      "1 x 4 = 4\n",
      "1 x 5 = 5\n",
      "1 x 6 = 6\n",
      "1 x 7 = 7\n",
      "1 x 8 = 8\n",
      "1 x 9 = 9\n",
      "1 x 10 = 10\n",
      "2 x 1 = 2\n",
      "2 x 2 = 4\n",
      "2 x 3 = 6\n",
      "2 x 4 = 8\n",
      "2 x 5 = 10\n",
      "2 x 6 = 12\n",
      "2 x 7 = 14\n",
      "2 x 8 = 16\n",
      "2 x 9 = 18\n",
      "2 x 10 = 20\n",
      "3 x 1 = 3\n",
      "3 x 2 = 6\n",
      "3 x 3 = 9\n",
      "3 x 4 = 12\n",
      "3 x 5 = 15\n",
      "3 x 6 = 18\n",
      "3 x 7 = 21\n",
      "3 x 8 = 24\n",
      "3 x 9 = 27\n",
      "3 x 10 = 30\n",
      "4 x 1 = 4\n",
      "4 x 2 = 8\n",
      "4 x 3 = 12\n",
      "4 x 4 = 16\n",
      "4 x 5 = 20\n",
      "4 x 6 = 24\n",
      "4 x 7 = 28\n",
      "4 x 8 = 32\n",
      "4 x 9 = 36\n",
      "4 x 10 = 40\n",
      "5 x 1 = 5\n",
      "5 x 2 = 10\n",
      "5 x 3 = 15\n",
      "5 x 4 = 20\n",
      "5 x 5 = 25\n",
      "5 x 6 = 30\n",
      "5 x 7 = 35\n",
      "5 x 8 = 40\n",
      "5 x 9 = 45\n",
      "5 x 10 = 50\n",
      "6 x 1 = 6\n",
      "6 x 2 = 12\n",
      "6 x 3 = 18\n",
      "6 x 4 = 24\n",
      "6 x 5 = 30\n",
      "6 x 6 = 36\n",
      "6 x 7 = 42\n",
      "6 x 8 = 48\n",
      "6 x 9 = 54\n",
      "6 x 10 = 60\n",
      "7 x 1 = 7\n",
      "7 x 2 = 14\n",
      "7 x 3 = 21\n",
      "7 x 4 = 28\n",
      "7 x 5 = 35\n",
      "7 x 6 = 42\n",
      "7 x 7 = 49\n",
      "7 x 8 = 56\n",
      "7 x 9 = 63\n",
      "7 x 10 = 70\n",
      "8 x 1 = 8\n",
      "8 x 2 = 16\n",
      "8 x 3 = 24\n",
      "8 x 4 = 32\n",
      "8 x 5 = 40\n",
      "8 x 6 = 48\n",
      "8 x 7 = 56\n",
      "8 x 8 = 64\n",
      "8 x 9 = 72\n",
      "8 x 10 = 80\n",
      "9 x 1 = 9\n",
      "9 x 2 = 18\n",
      "9 x 3 = 27\n",
      "9 x 4 = 36\n",
      "9 x 5 = 45\n",
      "9 x 6 = 54\n",
      "9 x 7 = 63\n",
      "9 x 8 = 72\n",
      "9 x 9 = 81\n",
      "9 x 10 = 90\n",
      "10 x 1 = 10\n",
      "10 x 2 = 20\n",
      "10 x 3 = 30\n",
      "10 x 4 = 40\n",
      "10 x 5 = 50\n",
      "10 x 6 = 60\n",
      "10 x 7 = 70\n",
      "10 x 8 = 80\n",
      "10 x 9 = 90\n",
      "10 x 10 = 100\n"
     ]
    }
   ],
   "source": []
  },
  {
   "cell_type": "markdown",
   "metadata": {},
   "source": [
    "<h2 style=\"color: red\">Fin de la actividad</h2>\n",
    "<hr style=\"height:2px;border-width:0;color:gray;background-color:red\">"
   ]
  },
  {
   "cell_type": "markdown",
   "metadata": {},
   "source": [
    "<hr style=\"height:2px;border-width:0;color:gray;background-color:red\">\n",
    "<h2 style=\"color: red\">Ejercicios de refuerzos</h2>\n",
    "\n",
    "<p>Quienes deseen extender más sus conocimientos de Python a continuación les invitamos a que convierta las siguientes actividades a código de Python</p>\n"
   ]
  },
  {
   "cell_type": "markdown",
   "metadata": {},
   "source": [
    "Haremos un repaso sobre como se lee un algoritmo y como se pasa a código"
   ]
  },
  {
   "cell_type": "markdown",
   "metadata": {},
   "source": [
    "<img src=\"alg/DF_2-Pagina-19-1-1.png\"  width=\"600px\">"
   ]
  },
  {
   "cell_type": "markdown",
   "metadata": {},
   "source": [
    "### A continuación encontraremos como se escribe este algoritmo en python"
   ]
  },
  {
   "cell_type": "code",
   "execution_count": null,
   "metadata": {},
   "outputs": [],
   "source": [
    "#Iniciamos el programa dandole Run o Shit + Enter\n",
    "a, b, c = int(input(\"Valor de A: \")), int(input(\"Valor de B: \")), int(input(\"Valor de C: \")) #Azul:  Leer las medidas A, B, C\n",
    "volumen_del_cubo = a*b*c #Verde: Calcular el volumen\n",
    "print(volumen_del_cubo, \"Metros cubicos\") #Rojo: Escribir el volumen obtenido\n",
    "#Fin del proceso"
   ]
  },
  {
   "cell_type": "markdown",
   "metadata": {},
   "source": [
    "Bien a continuación encontraremos varios algorimos de refuerzo"
   ]
  },
  {
   "cell_type": "markdown",
   "metadata": {},
   "source": [
    "<b>1.</b> Como se puede ver, para determinar si un número es positivo o negativo, sólo es necesario establecer si éste es mayor o igual a cero; si el resultado de la comparación es afirmativa, a la variable R se le asignará el valor de “POSITIVO”, si resulta una negación, por consiguiente, el valor que tome R será\n",
    "de “NEGATIVO”\n",
    "<img src=\"alg/algoritmo-1.png\">"
   ]
  },
  {
   "cell_type": "code",
   "execution_count": null,
   "metadata": {},
   "outputs": [],
   "source": [
    "#Programa para determinar si el número es negativo o positivo"
   ]
  },
  {
   "cell_type": "markdown",
   "metadata": {},
   "source": [
    "<b>2.</b> Nuestra empresa quiere calcular descuentos para los clientes seugn la cantidad de lapices que un negocio va a comprar, si compran más de 1000 lápices, les daremos un descuento de 15%, si compran menos de 1000 lápices entonces les daremos un descuento de 10%\n",
    "<img src=\"alg/algoritmo-2.png\">"
   ]
  },
  {
   "cell_type": "code",
   "execution_count": null,
   "metadata": {},
   "outputs": [],
   "source": [
    "#Programa para determinar el descuento por la compra de lápices\n"
   ]
  },
  {
   "cell_type": "markdown",
   "metadata": {},
   "source": [
    "<b>3.</b> Se requiere determinar cuál de tres cantidades proporcionadas es la mayor. Realizar su respectivo algoritmo y representarlo mediante un diagrama de flujo, pseudocódigo y diagrama N/S, si compran más de 1000 lápices, les daremos un descuento de 15%, si compran menos de 1000 lápices entonces les daremos un descuento de 10%\n",
    "<img src=\"alg/algoritmo-3.png\">"
   ]
  },
  {
   "cell_type": "code",
   "execution_count": null,
   "metadata": {},
   "outputs": [],
   "source": [
    "#Algoritmo para determinar que número es mayor entre A, B y C\n",
    "#lista= []"
   ]
  },
  {
   "cell_type": "markdown",
   "metadata": {},
   "source": [
    "<b>4.</b> Se requiere un programa para obtener la suma de diez cantidades mediante la utilización de un ciclo “Mientras”. Realice el diagrama de flujo, el pseudocódigo y el diagrama N/S para representarlo\n",
    "<img src=\"alg/algoritmo-4.png\">"
   ]
  },
  {
   "cell_type": "code",
   "execution_count": null,
   "metadata": {},
   "outputs": [],
   "source": []
  },
  {
   "cell_type": "markdown",
   "metadata": {},
   "source": [
    "<b>5.</b> Se requiere un algoritmo para obtener la edad promedio de un grupo de N alumnos. Realice el diagrama de flujo, el pseudocódigo y el diagrama N/S para representarlo, utilizando los tres tipos de estructuras de ciclo.\n",
    "<img src=\"alg/algoritmo-5.png\">"
   ]
  },
  {
   "cell_type": "code",
   "execution_count": null,
   "metadata": {},
   "outputs": [],
   "source": []
  },
  {
   "cell_type": "markdown",
   "metadata": {},
   "source": [
    "<h2 style=\"color: red\">Fin de la actividad</h2>\n",
    "<hr style=\"height:2px;border-width:0;color:gray;background-color:red\">\n"
   ]
  },
  {
   "cell_type": "markdown",
   "metadata": {},
   "source": [
    "<hr style=\"height:2px;border-width:0;color:gray;background-color:green\">\n",
    "<h2 style=\"color: green\">Please, sigan a mi asistente para llenar la lista de asistencia</h2>\n",
    "<a href=\"https://forms.gle/PqDNxRHHYgn43F1T9\" target=\"_blank\"><img src=\"img/lista-de-asistencia.jpg\"></a>"
   ]
  }
 ],
 "metadata": {
  "anaconda-cloud": {},
  "kernelspec": {
   "display_name": "Python 3",
   "language": "python",
   "name": "python3"
  },
  "language_info": {
   "codemirror_mode": {
    "name": "ipython",
    "version": 3
   },
   "file_extension": ".py",
   "mimetype": "text/x-python",
   "name": "python",
   "nbconvert_exporter": "python",
   "pygments_lexer": "ipython3",
   "version": "3.7.6"
  }
 },
 "nbformat": 4,
 "nbformat_minor": 1
}
