{
 "cells": [
  {
   "cell_type": "markdown",
   "metadata": {},
   "source": [
    "# Ejercicio Condicionales"
   ]
  },
  {
   "cell_type": "markdown",
   "metadata": {},
   "source": [
    "1. Cree un programa que pueda decirnos si un **número** es positivo o negativo\n",
    "<img src=\"alg/algoritmo-1.png\">"
   ]
  },
  {
   "cell_type": "code",
   "execution_count": null,
   "metadata": {},
   "outputs": [],
   "source": [
    "\n"
   ]
  },
  {
   "cell_type": "markdown",
   "metadata": {},
   "source": [
    "2. En nuestro primer programa recurriremos a uno de repaso, Diego recibe 10.000 **pesos** y es enviado al supermercado a comprar algunos productos de aseo, la cuenta puede salir de 8.000 a 12.000 **pesos**, calcula un programa que le diga si le alcanza y si lo hace, qué le diga cual es el **cambio** que debe recibir."
   ]
  },
  {
   "cell_type": "code",
   "execution_count": null,
   "metadata": {},
   "outputs": [],
   "source": [
    "\n"
   ]
  },
  {
   "cell_type": "markdown",
   "metadata": {},
   "source": [
    "3. Cree un programa que calcule el **descuento** que se le puede hacer un cliente a partir de su compra, si el cliente compra 1000 lapices, podrá hacérsele un descuento del **15%**, si pide menos de 1000 lapices solo podrá pedirle un descuento del **10%**.\n",
    "\n",
    "<img src=\"alg/algoritmo-2.png\">"
   ]
  },
  {
   "cell_type": "code",
   "execution_count": null,
   "metadata": {},
   "outputs": [],
   "source": [
    "\n"
   ]
  },
  {
   "cell_type": "markdown",
   "metadata": {},
   "source": [
    "4. Crearemos un programa que reciba **tres parámetros** y nos diga cuál es el mayor utilizando la **condición** `if y else`\n",
    "\n",
    "<img src=\"alg/algoritmo-3.png\">"
   ]
  },
  {
   "cell_type": "code",
   "execution_count": null,
   "metadata": {},
   "outputs": [],
   "source": [
    "\n"
   ]
  },
  {
   "cell_type": "markdown",
   "metadata": {},
   "source": [
    "5. Debes crear un programa que contenga diferentes rutinas de ejercicio a la semana, dependiendo del día que escoja el usuario, el programa le recomendara la rutina **Lunes: Flexiones, Martes: Sentadillas, Miércoles: Abdominales, Jueves: Saltar laso, Viernes : Natación**, para otros días recomiende al usuario descansar."
   ]
  },
  {
   "cell_type": "code",
   "execution_count": null,
   "metadata": {},
   "outputs": [],
   "source": [
    "\n"
   ]
  },
  {
   "cell_type": "markdown",
   "metadata": {},
   "source": [
    "6. Cree un programa que le ayude al usuario a calcular los problemas fisiológicos que puede tener al estar en diferentes alturas siguiendo la siguiente tabla.\n",
    "\n",
    "\n",
    "| Altura             | Efectos |\n",
    "|--------------------|---------|\n",
    "| 0 a 1000 metros    | No se presentan efectos fisiológicos en reposo ni en ejercicio físico       |\n",
    "| 1001 a 2000 metros | Ligeros efectos durante la actividad deportiva, disminución del ejercicio físico      |\n",
    "| 2000 a 5000 metros | Se puede observar modificaciones fisiológicas en reposo y muy acentuadas durante el ejercicio     |\n",
    "| 5000 más           | El efecto negativo es muy alto y la vida permanente es imposible.    |"
   ]
  },
  {
   "cell_type": "code",
   "execution_count": null,
   "metadata": {},
   "outputs": [],
   "source": [
    "\n"
   ]
  },
  {
   "cell_type": "markdown",
   "metadata": {},
   "source": [
    "7. Regresaremos al ejercicio de los **semáforos**, pero incluiremos una variante que verifique que si ninguna de las 3 luces esta prendida, le imprima al usuario que el funcionamiento del semáforo no se encuentra disponible.\n"
   ]
  },
  {
   "cell_type": "code",
   "execution_count": null,
   "metadata": {},
   "outputs": [],
   "source": [
    "\n"
   ]
  },
  {
   "cell_type": "markdown",
   "metadata": {},
   "source": [
    "8. Vamos a repasar de nuevo el programa de la **edad**, pero esta vez verificaremos la edad sea positiva y luego que verifique si es mayor de **edad.**"
   ]
  },
  {
   "cell_type": "code",
   "execution_count": null,
   "metadata": {},
   "outputs": [],
   "source": [
    "\n"
   ]
  },
  {
   "cell_type": "markdown",
   "metadata": {},
   "source": [
    "9. Siguiendo con los ejercicios sobre la **edad**, ahora cree un programa que insertando el año de nacimiento y luego comprobando si ya cumplió años o no, **calcule su edad.**"
   ]
  },
  {
   "cell_type": "code",
   "execution_count": null,
   "metadata": {},
   "outputs": [],
   "source": [
    "\n"
   ]
  },
  {
   "cell_type": "markdown",
   "metadata": {},
   "source": [
    "10. Tenemos una caja fuerte con una **contraseña** **6421**, cree un programa con una **sentencia** **`and`** en la que pida que se inserten los cuatro números que son la contraseña de la caja fuerte."
   ]
  },
  {
   "cell_type": "code",
   "execution_count": null,
   "metadata": {},
   "outputs": [],
   "source": [
    "\n"
   ]
  },
  {
   "cell_type": "markdown",
   "metadata": {},
   "source": [
    "11. Cree un programa que utilizando la sentencia `elif` nos compruebe si un número ingresado es **divisible por 2 y por 3.**"
   ]
  },
  {
   "cell_type": "code",
   "execution_count": null,
   "metadata": {},
   "outputs": [],
   "source": [
    "\n"
   ]
  },
  {
   "cell_type": "markdown",
   "metadata": {},
   "source": [
    "12. Cree un programa que utilizando la **sentencia `or`**, que nos indique si alguien tiene **cédula de ciudadanía, cédula de extranjería o pasaporte**, para podre ingresar a un bar."
   ]
  },
  {
   "cell_type": "code",
   "execution_count": null,
   "metadata": {},
   "outputs": [],
   "source": [
    "\n"
   ]
  }
 ],
 "metadata": {
  "kernelspec": {
   "display_name": "Python 3",
   "language": "python",
   "name": "python3"
  },
  "language_info": {
   "codemirror_mode": {
    "name": "ipython",
    "version": 3
   },
   "file_extension": ".py",
   "mimetype": "text/x-python",
   "name": "python",
   "nbconvert_exporter": "python",
   "pygments_lexer": "ipython3",
   "version": "3.7.6"
  }
 },
 "nbformat": 4,
 "nbformat_minor": 4
}
