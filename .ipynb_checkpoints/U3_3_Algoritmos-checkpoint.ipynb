{
 "cells": [
  {
   "cell_type": "markdown",
   "metadata": {},
   "source": [
    "# Introducción a Algoritmos"
   ]
  },
  {
   "cell_type": "markdown",
   "metadata": {},
   "source": [
    "\n",
    "\n",
    "**Resumen**\n",
    "\n",
    "Cómo recordamos anteriormente los algoritmos son un conjunto de instrucciones ordenadas y finitas que nos permiten solucionar, problemas.\n",
    "\n",
    "Aprender a leer algoritmos y convertirlos en programas es vital para todo programador que empieza, por eso existe un conjunto de reglas sencillas que vamos a recordar de nuevo."
   ]
  },
  {
   "cell_type": "markdown",
   "metadata": {},
   "source": [
    "<img src=\"alg/DF_1-Pagina-18-1-1.jpg\">"
   ]
  },
  {
   "cell_type": "markdown",
   "metadata": {},
   "source": [
    "### 1. Ejemplos de Algoritmos lineales"
   ]
  },
  {
   "cell_type": "markdown",
   "metadata": {},
   "source": [
    "Bien, ahora qué reconocemos las partes de un algoritmo vamos a recordar como leerlos y pasarlos a un lenguaje de programación."
   ]
  },
  {
   "cell_type": "markdown",
   "metadata": {},
   "source": [
    "<img src=\"alg/DF_2-Pagina-19-1-1.png\"  width=\"600px\">"
   ]
  },
  {
   "cell_type": "code",
   "execution_count": null,
   "metadata": {},
   "outputs": [],
   "source": [
    "#Iniciamos el programa dandole Run o Shit + Enter\n",
    "a, b, c = int(input(\"Valor de A: \")), int(input(\"Valor de B: \")), int(input(\"Valor de C: \")) #Azul:  Leer las medidas A, B, C\n",
    "volumen_del_cubo = a*b*c #Verde: Calcular el volumen\n",
    "print(volumen_del_cubo, \"Metros cubicos\") #Rojo: Escribir el volumen obtenido\n",
    "#Fin del proceso"
   ]
  },
  {
   "cell_type": "markdown",
   "metadata": {},
   "source": [
    "Muy bien, vamos a repasar un algoritmo básico que utilizaras como programador, el algoritmo de calculo de la hipotenusa te permite calcular las distancias de un punto a otro en los mapas, por eso es importante recordarlo."
   ]
  },
  {
   "cell_type": "markdown",
   "metadata": {},
   "source": [
    "<img src=\"alg/ejemplo-4-DF.jpg\">"
   ]
  },
  {
   "cell_type": "code",
   "execution_count": null,
   "metadata": {},
   "outputs": [],
   "source": [
    "#Inicializamos, acá llamaremos a las librerias, clases, funciones que más tarde utilizaremos\n",
    "catA, catB = 0, 0 #Acá inicializaremos las variables sin contenido aun\n",
    "catA, catB = int(input(\"Lado A: \")), int(input(\"Lado de B: \")) #Capturaremos las variables \n",
    "hipotenusa = ((catA**2)+(catB**2))**0.5 #Haremos el calculo de la hipotenusa\n",
    "print(f' La hipotenusa es {hipotenusa}') #Lo imprimiremos\n",
    "#Fin"
   ]
  },
  {
   "cell_type": "markdown",
   "metadata": {},
   "source": [
    "<hr style=\"height:2px;border-width:0;color:gray;background-color:red\">\n",
    "<h2 style=\"color: red\">Actividad asistida</h2>"
   ]
  },
  {
   "cell_type": "markdown",
   "metadata": {},
   "source": [
    "1. Cómo podriamos mejorar este algoritmo, qué paso le quitaremos, y que sintaxis seria más simple de entender"
   ]
  },
  {
   "cell_type": "code",
   "execution_count": null,
   "metadata": {},
   "outputs": [],
   "source": [
    "\n",
    "\n"
   ]
  },
  {
   "cell_type": "markdown",
   "metadata": {},
   "source": [
    "2. Utilizaremos el algoritmo de hipotenusa, pero esta vez utilizaremos la libreria math y la función pow para hacer el calculo"
   ]
  },
  {
   "cell_type": "code",
   "execution_count": null,
   "metadata": {},
   "outputs": [],
   "source": [
    "\n",
    "\n"
   ]
  },
  {
   "cell_type": "markdown",
   "metadata": {},
   "source": [
    "<h2 style=\"color: red\">Fin</h2>\n",
    "<hr style=\"height:2px;border-width:0;color:gray;background-color:red\">"
   ]
  },
  {
   "cell_type": "markdown",
   "metadata": {},
   "source": [
    "### 2. Ejemplos de Algoritmos condicionales."
   ]
  },
  {
   "cell_type": "markdown",
   "metadata": {},
   "source": [
    "En el siguiente ejemplo creamos un algorimo que nos indique si un número es primo o no.\n",
    "\n",
    "<img src=\"alg/ejemplo-2-DF.png\" width=\"600px\">"
   ]
  },
  {
   "cell_type": "code",
   "execution_count": null,
   "metadata": {},
   "outputs": [],
   "source": [
    "#Inicio\n",
    "a, b, c = 3, 6, 5 #Captura de datos\n",
    "if a > b and a > c: #Comprobar si A es mayor que B y C\n",
    "    print(\"A es mayor\") #Imprimir que A es mayor a B\n",
    "else: #Si no\n",
    "    if b > a and b > c: #comprobar que B es mayor a A y C\n",
    "        print(\"B es mayor\") #Si B es mayor, imprimir B\n",
    "    else: #Si no\n",
    "        print(\"C es el mayor\") #Imprimir que C es mayor\n",
    "#Fin\n",
    "    \n",
    "\n"
   ]
  },
  {
   "cell_type": "markdown",
   "metadata": {},
   "source": [
    "<hr style=\"height:2px;border-width:0;color:gray;background-color:red\">\n",
    "<h2 style=\"color: red\">Actividad</h2>\n",
    "\n"
   ]
  },
  {
   "cell_type": "markdown",
   "metadata": {},
   "source": [
    "1. Recrearemos el mismo algoritmo, pero no haremos una comprobación triple!!\n",
    "\n",
    "Se requiere determinar cuál de tres cantidades proporcionadas es la\n",
    "mayor. Realizar su respectivo algoritmo y representarlo mediante un\n",
    "diagrama de flujo, pseudocódigo y diagrama N/S.\n",
    "Las variables que intervienen en la solución de este problema se\n",
    "muestran en la tabla."
   ]
  },
  {
   "cell_type": "markdown",
   "metadata": {},
   "source": [
    "<img src=\"alg/algoritmo-31.png\">"
   ]
  },
  {
   "cell_type": "code",
   "execution_count": null,
   "metadata": {},
   "outputs": [],
   "source": [
    "\n",
    "\n",
    "\n"
   ]
  },
  {
   "cell_type": "markdown",
   "metadata": {},
   "source": [
    "<h2 style=\"color: red\">Fin</h2>\n",
    "<hr style=\"height:2px;border-width:0;color:gray;background-color:red\">"
   ]
  },
  {
   "cell_type": "markdown",
   "metadata": {},
   "source": [
    "### 3. Algoritmos condicionales con bucles"
   ]
  },
  {
   "cell_type": "markdown",
   "metadata": {},
   "source": [
    "Ahora crearemos un algoritmo que nos identifique si dos números son iguales y nos permita volver a instanciarlos, cuando dejen de ser iguales, que nos diga cuál número es mayor.\n",
    "<img src=\"alg/ejemplo-1-DF.png\" width=\"600px\">"
   ]
  },
  {
   "cell_type": "code",
   "execution_count": null,
   "metadata": {},
   "outputs": [],
   "source": [
    "#Morado(Lugar para llamar Librerias, Funciones, Clases)\n",
    "\n",
    "#Magenta(Explica al usuario las instrucciones)\n",
    "print(\"Introduza valores distintos\")\n",
    "\n",
    "#Azul(En este bloque recoloctaremos los datos)\n",
    "a, b = int(input(\"Número A: \")), int(input(\"Número B: \"))\n",
    "\n",
    "#Amarillo (Este es un ciclo que nos comprobara si los valores son diferentes o si los volvemos a pedir)\n",
    "while a == b:\n",
    "    print(\"Introduza valores distintos\")\n",
    "    a, b = int(input(\"Lado A: \")), int(input(\"Lado de B: \"))\n",
    "    \n",
    "#Amarillo (Este es un ciclo que nos comprobara si los valores son diferentes o si los volvemos a pedir)\n",
    "if a > b:\n",
    "    print(f\"{a} es mayor que {b}\")\n",
    "else:\n",
    "    print(f\"{b} es mayor que {a}\")"
   ]
  },
  {
   "cell_type": "markdown",
   "metadata": {},
   "source": [
    "### 4. Algoritmos bucles anidados"
   ]
  },
  {
   "cell_type": "markdown",
   "metadata": {},
   "source": [
    "Este algoritmo de bucles anidados, podemos ver como dos bucles interactuan entre si uno con otro, haciendo que el uno dependa del otro, ya hemos visto este ejercicio anteriormente, ahora lo desarrollaremos con ciclo **while**"
   ]
  },
  {
   "cell_type": "markdown",
   "metadata": {},
   "source": [
    "<img src=\"alg/tablas-multiplicar.png\" width=\"400px\">"
   ]
  },
  {
   "cell_type": "code",
   "execution_count": null,
   "metadata": {},
   "outputs": [],
   "source": [
    "#Inicio\n",
    "i = 1 #Asignamos i = 1\n",
    "while i <= 10: #Comprobamos que i sea menor que 10\n",
    "    j=1 #Asignamos j = 1\n",
    "    while j <= 10: #Comprobamos que j sea menor que 10\n",
    "        resultado =i*j # calculamos el valor de resultado\n",
    "        print(f'{i}x{j}={resultado}') #imprimimos los valores de i, j y resultado de forma en que aparezca una tabla de múltiplicar\n",
    "        j+=1 #Aumentamos j en 1\n",
    "    i +=1 #Aumentamos i en 1\n",
    "#Fin\n",
    "        "
   ]
  },
  {
   "cell_type": "markdown",
   "metadata": {},
   "source": [
    "<hr style=\"height:2px;border-width:0;color:gray;background-color:red\">\n",
    "<h2 style=\"color: red\">Actividad</h2>"
   ]
  },
  {
   "cell_type": "markdown",
   "metadata": {},
   "source": [
    "1. Los números primos son los que solo pueden ser divididos por 1 o por si mismos, cree un programa que nos diga si un número n ingresado es primo o no"
   ]
  },
  {
   "cell_type": "markdown",
   "metadata": {},
   "source": [
    "<img src=\"alg/numero-primo.jpg\">"
   ]
  },
  {
   "cell_type": "code",
   "execution_count": null,
   "metadata": {},
   "outputs": [],
   "source": []
  },
  {
   "cell_type": "markdown",
   "metadata": {},
   "source": [
    "<h2 style=\"color: red\">Fin</h2>\n",
    "<hr style=\"height:2px;border-width:0;color:gray;background-color:red\">"
   ]
  },
  {
   "cell_type": "markdown",
   "metadata": {},
   "source": [
    "### 5. Deciciones múltiples"
   ]
  },
  {
   "cell_type": "markdown",
   "metadata": {},
   "source": [
    "Los algoritmos de decisiones múltiples nos permite ver un rango de condiciones y tomar decisiones a partir de ellos, por ejemplo podemos clasificar a una persona en sus rangos de edad"
   ]
  },
  {
   "cell_type": "markdown",
   "metadata": {},
   "source": [
    "<img src=\"alg/multiples-if.png\" width=\"200px\">"
   ]
  },
  {
   "cell_type": "code",
   "execution_count": 1,
   "metadata": {},
   "outputs": [
    {
     "name": "stdout",
     "output_type": "stream",
     "text": [
      "Escriba la edad de la persona15\n",
      "\n",
      "\n",
      "Con una edad de 15 Adolecente\n"
     ]
    }
   ],
   "source": [
    "edad = int(input(\"Escriba la edad de la persona\"))\n",
    "\n",
    "print(\"\\n\")\n",
    "if edad >= 0 and edad <=2:\n",
    "   print (\"Con una edad de\",edad,\"es un bebe\")\n",
    "elif edad >= 3 and edad <=14:\n",
    "   print (\"Con una edad de\",edad,\"es un niño\")\n",
    "elif edad >= 15 and edad <= 18:\n",
    "   print (\"Con una edad de\",edad,\"es un adolecente\")\n",
    "elif edad >= 19 and edad <= 60:\n",
    "   print (\"Con una edad de\",edad,\"Es un adulto\")\n",
    "else:\n",
    "   print (\"Con una edad de\",edad,\"Esta en la tercera edad\")"
   ]
  },
  {
   "cell_type": "markdown",
   "metadata": {},
   "source": [
    "<hr style=\"height:2px;border-width:0;color:gray;background-color:red\">\n",
    "<h2 style=\"color: red\">Actividad</h2>"
   ]
  },
  {
   "cell_type": "markdown",
   "metadata": {},
   "source": [
    "El banco “Pueblo desconocido” ha decidido aumentar el límite de crédito de\n",
    "las tarjetas de crédito de sus clientes, para esto considera que si su cliente\n",
    "tiene tarjeta tipo 1, el aumento será de 25 %; si tiene tipo 2, será de 35 %;\n",
    "si tiene tipo 3, de 40 %, y para cualquier otro tipo, de 50 %. Ahora bien, si la\n",
    "persona cuenta con más de una tarjeta, sólo se considera la de tipo mayor\n",
    "o la que el cliente indique. Realice un algoritmo y represente su diagrama\n",
    "de flujo y el pseudocódigo para determinar el nuevo límite de crédito que\n",
    "tendrá una persona en su tarjeta."
   ]
  },
  {
   "cell_type": "markdown",
   "metadata": {},
   "source": [
    "<img src=\"alg/tablas-creditos.png\">"
   ]
  },
  {
   "cell_type": "markdown",
   "metadata": {},
   "source": [
    "<img src=\"alg/intereses.png\">"
   ]
  },
  {
   "cell_type": "code",
   "execution_count": null,
   "metadata": {},
   "outputs": [],
   "source": [
    "\n",
    "\n",
    "\n"
   ]
  },
  {
   "cell_type": "markdown",
   "metadata": {},
   "source": [
    "De igual forma que el problema anterior, la solución de éste se puede\n",
    "plantear con un proceso de solución múltiple, dado que el elemento selector, que es el tipo de tarjeta, es de tipo ordinal; en estas circunstancias el\n",
    "muestran una solución a\n",
    "este problema."
   ]
  },
  {
   "cell_type": "markdown",
   "metadata": {},
   "source": [
    "<h2 style=\"color: red\">Fin</h2>\n",
    "<hr style=\"height:2px;border-width:0;color:gray;background-color:red\">"
   ]
  },
  {
   "cell_type": "markdown",
   "metadata": {},
   "source": [
    "# Bíografia\n",
    "\n",
    ">Algoritmos resueltos con diagramas de flujo y seudocodigo pdf de Francisco Pinales y César Eduardo\n",
    "\n",
    ">https://luiscastellanos.wordpress.com/2007/02/26/diagramas-de-flujo-resueltos/"
   ]
  }
 ],
 "metadata": {
  "kernelspec": {
   "display_name": "Python 3",
   "language": "python",
   "name": "python3"
  },
  "language_info": {
   "codemirror_mode": {
    "name": "ipython",
    "version": 3
   },
   "file_extension": ".py",
   "mimetype": "text/x-python",
   "name": "python",
   "nbconvert_exporter": "python",
   "pygments_lexer": "ipython3",
   "version": "3.7.6"
  }
 },
 "nbformat": 4,
 "nbformat_minor": 4
}
