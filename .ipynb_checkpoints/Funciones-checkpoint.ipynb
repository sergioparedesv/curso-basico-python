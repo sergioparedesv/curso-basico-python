{
 "cells": [
  {
   "cell_type": "markdown",
   "metadata": {},
   "source": [
    "# Funciones"
   ]
  },
  {
   "cell_type": "markdown",
   "metadata": {},
   "source": [
    "# 1. Declarar una función"
   ]
  },
  {
   "cell_type": "markdown",
   "metadata": {},
   "source": [
    "Recordemos que muchas veces mientras programamos necesitamos llamar un buen número de veces una función para ejecutar una tarea, llamar a una función requiere el comando ***def*** (definir) seguido del nombre de la función"
   ]
  },
  {
   "cell_type": "code",
   "execution_count": null,
   "metadata": {},
   "outputs": [],
   "source": [
    "def mi_primer_funcion():    #Definimos la función y su nombre\n",
    "    print (\"Mi primer Hola Mundo (desde una función)!\") #Le damos una acción"
   ]
  },
  {
   "cell_type": "markdown",
   "metadata": {},
   "source": [
    "Ahora necesitamos llamar esa función para que se ejecute."
   ]
  },
  {
   "cell_type": "code",
   "execution_count": null,
   "metadata": {},
   "outputs": [],
   "source": [
    "mi_primer_funcion()"
   ]
  },
  {
   "cell_type": "markdown",
   "metadata": {},
   "source": [
    "¿Qué ocurre si llamamos a la función antes de instanciarla?"
   ]
  },
  {
   "cell_type": "code",
   "execution_count": null,
   "metadata": {},
   "outputs": [],
   "source": [
    "mi_segunda_funcion()\n",
    "def mi_segunda_funcion():    #Definimos la función y su nombre\n",
    "    print (\"Mi primer Hola Mundo (desde la función)!\") #Le damos una acción"
   ]
  },
  {
   "cell_type": "markdown",
   "metadata": {},
   "source": [
    "# 2. Argumentos y parámetros"
   ]
  },
  {
   "cell_type": "markdown",
   "metadata": {},
   "source": [
    "En la definición de una función los valores que se reciben se denominan parámetros, pero durante la llamada los valores que se envían se denominan argumentos."
   ]
  },
  {
   "cell_type": "markdown",
   "metadata": {},
   "source": [
    "Ahora definimos una función con argumentos/variables"
   ]
  },
  {
   "cell_type": "code",
   "execution_count": null,
   "metadata": {},
   "outputs": [],
   "source": [
    "def imprimir_argumento(argumento):\n",
    "    print(argumento)\n",
    "    \n",
    "imprimir_argumento(\"Sergio Paredes\")"
   ]
  },
  {
   "cell_type": "markdown",
   "metadata": {},
   "source": [
    "### Múltiples argumentos"
   ]
  },
  {
   "cell_type": "code",
   "execution_count": null,
   "metadata": {},
   "outputs": [],
   "source": [
    "def areaTriangulo(base, altura): #Instanciamos la función y creamos los argumentos que debe recibir\n",
    "    print (\"El área de triangulo es\",base*altura/2, \"centimetros cuadrados\") #Le pedimos que nos imprima el resultado"
   ]
  },
  {
   "cell_type": "code",
   "execution_count": null,
   "metadata": {},
   "outputs": [],
   "source": [
    "areaTriangulo(5,6)#Acá estamos insertando los parametros, el valor de base = 5 y altura = 6"
   ]
  },
  {
   "cell_type": "markdown",
   "metadata": {},
   "source": [
    "# 3. Return"
   ]
  },
  {
   "cell_type": "markdown",
   "metadata": {},
   "source": [
    "La función ***return*** (retorno) indica el final de una función y un valor que nos responde la función."
   ]
  },
  {
   "cell_type": "code",
   "execution_count": null,
   "metadata": {},
   "outputs": [],
   "source": [
    "def funcion(): \n",
    "    return \"Hola Mundo\" \n",
    "\n",
    "frase = funcion() \n",
    "print(frase)"
   ]
  },
  {
   "cell_type": "markdown",
   "metadata": {},
   "source": [
    "Utilizaremos return extendido"
   ]
  },
  {
   "cell_type": "code",
   "execution_count": null,
   "metadata": {},
   "outputs": [],
   "source": [
    "def funcion_restar(a, b):\n",
    "    return a - b\n",
    "funcion_restar(30,20)"
   ]
  },
  {
   "cell_type": "markdown",
   "metadata": {},
   "source": [
    "Podemos asignar una función a una variable y guardar el resultado del return"
   ]
  },
  {
   "cell_type": "code",
   "execution_count": null,
   "metadata": {},
   "outputs": [],
   "source": [
    "resultado = funcion_restar(30,20)"
   ]
  },
  {
   "cell_type": "markdown",
   "metadata": {},
   "source": [
    "<hr style=\"height:2px;border-width:0;color:gray;background-color:red\">\n",
    "<h2 style=\"color: red\">Actividad</h2>"
   ]
  },
  {
   "cell_type": "markdown",
   "metadata": {},
   "source": [
    "Para la siguiente actividad, tenga presente retornar los valores en ***return***, guardar estos valores en una variable y luego imprimir la variable"
   ]
  },
  {
   "cell_type": "markdown",
   "metadata": {},
   "source": [
    "#### 1. Ejercicio: Defina una función que calcule el perimetro de un rectangulo"
   ]
  },
  {
   "cell_type": "code",
   "execution_count": null,
   "metadata": {},
   "outputs": [],
   "source": []
  },
  {
   "cell_type": "markdown",
   "metadata": {},
   "source": [
    "#### 2. Ejercicio: Defina una función que calcule la hipotenusa de un triangulo"
   ]
  },
  {
   "cell_type": "code",
   "execution_count": null,
   "metadata": {},
   "outputs": [],
   "source": []
  },
  {
   "cell_type": "markdown",
   "metadata": {},
   "source": [
    "#### 3. Ejercicio: Defina una función que calcule al área de un cilindro"
   ]
  },
  {
   "cell_type": "code",
   "execution_count": null,
   "metadata": {},
   "outputs": [],
   "source": []
  },
  {
   "cell_type": "markdown",
   "metadata": {},
   "source": [
    "<h2 style=\"color: red\">Fin de la actividad</h2>\n",
    "<hr style=\"height:2px;border-width:0;color:gray;background-color:red\">\n"
   ]
  },
  {
   "cell_type": "markdown",
   "metadata": {},
   "source": [
    "Vamos a definir una función con argumentos y variables magicas"
   ]
  },
  {
   "cell_type": "code",
   "execution_count": null,
   "metadata": {},
   "outputs": [],
   "source": [
    "def mi_funcion_con_args(nombre, mensaje):    \n",
    "    print (\"Hola, %s , desde la funcion!, quiero decirte que %s\"%(nombre, mensaje))"
   ]
  },
  {
   "cell_type": "code",
   "execution_count": null,
   "metadata": {},
   "outputs": [],
   "source": [
    "mi_funcion_con_args(5,6)"
   ]
  },
  {
   "cell_type": "markdown",
   "metadata": {},
   "source": [
    "¿Qué ocurre si invierto las variables magicas?"
   ]
  },
  {
   "cell_type": "code",
   "execution_count": null,
   "metadata": {},
   "outputs": [],
   "source": []
  },
  {
   "cell_type": "code",
   "execution_count": null,
   "metadata": {},
   "outputs": [],
   "source": [
    "mi_funcion_con_args(\"Clase\", \"esto son variables magicas\")"
   ]
  },
  {
   "cell_type": "markdown",
   "metadata": {},
   "source": [
    "Lás variables magicas se utilizan para gestionar el cambio de directorios o llamar a las funciones magicas, tienen un uso especializado que validaremos más adelante."
   ]
  },
  {
   "cell_type": "markdown",
   "metadata": {},
   "source": [
    "<hr style=\"height:2px;border-width:0;color:gray;background-color:red\">\n",
    "<h2 style=\"color: red\">Actividad</h2>"
   ]
  },
  {
   "cell_type": "markdown",
   "metadata": {},
   "source": [
    "#### Ejercicio: Defina una función que calcule al área de un cilindro"
   ]
  },
  {
   "cell_type": "code",
   "execution_count": null,
   "metadata": {},
   "outputs": [],
   "source": [
    "def operacion_variables_magicas(cateto1, cateto2):\n",
    "    print (\"%s+%s=\"%(cateto1, cateto2))\n",
    "operacion_variables_magicas(5, 4)"
   ]
  },
  {
   "cell_type": "markdown",
   "metadata": {},
   "source": [
    "#### Las funciones pueden retornar un valor númerico también:"
   ]
  },
  {
   "cell_type": "code",
   "execution_count": null,
   "metadata": {},
   "outputs": [],
   "source": [
    "def suma_tres_numeros(a,b,c):    \n",
    "    return a + b + c"
   ]
  },
  {
   "cell_type": "markdown",
   "metadata": {},
   "source": [
    "<h2 style=\"color: red\">Fin de la actividad</h2>\n",
    "<hr style=\"height:2px;border-width:0;color:gray;background-color:red\">"
   ]
  },
  {
   "cell_type": "markdown",
   "metadata": {},
   "source": [
    "#### Multipliquemos los números de 2 funciones"
   ]
  },
  {
   "cell_type": "code",
   "execution_count": null,
   "metadata": {},
   "outputs": [],
   "source": [
    "def funcion1():\n",
    "    return 2\n",
    "\n",
    "def funcion2():\n",
    "    return 4\n",
    "funcion1()*funcion2()"
   ]
  },
  {
   "cell_type": "markdown",
   "metadata": {},
   "source": [
    "#### Ejercicio: crea una función que capture tu nombre y apellido, luego multiplica esa función por tu edad"
   ]
  },
  {
   "cell_type": "code",
   "execution_count": null,
   "metadata": {},
   "outputs": [],
   "source": [
    "def captura(nombre, apellido):\n",
    "    return nombre, apellido\n",
    "    \n",
    "captura('Sergio','Paredes')*5"
   ]
  },
  {
   "cell_type": "markdown",
   "metadata": {},
   "source": [
    "<hr style=\"height:2px;border-width:0;color:gray;background-color:red\">\n",
    "<h2 style=\"color: red\">Actividad</h2>"
   ]
  },
  {
   "cell_type": "markdown",
   "metadata": {},
   "source": [
    "#### Ejercicio cree 2 funciones, una que calcule PI, otra que tenga el radio (5) luego calcule el área del circulo"
   ]
  },
  {
   "cell_type": "code",
   "execution_count": null,
   "metadata": {},
   "outputs": [],
   "source": [
    "        "
   ]
  },
  {
   "cell_type": "markdown",
   "metadata": {},
   "source": [
    "<h2 style=\"color: red\">Fin de la actividad</h2>\n",
    "<hr style=\"height:2px;border-width:0;color:gray;background-color:red\">"
   ]
  },
  {
   "cell_type": "markdown",
   "metadata": {},
   "source": [
    "#### Ejercicio: Hagamos una función que capture un argumento y luego guarde ese argumento en una variable fuera de la función"
   ]
  },
  {
   "cell_type": "code",
   "execution_count": null,
   "metadata": {},
   "outputs": [],
   "source": [
    "def variable(argumento = input(\"Pase el argumento\")):\n",
    "    return argumento\n",
    "\n",
    "variable = variable()\n",
    "print(variable)"
   ]
  },
  {
   "cell_type": "markdown",
   "metadata": {},
   "source": [
    "# 4. Documentación de la función"
   ]
  },
  {
   "cell_type": "markdown",
   "metadata": {},
   "source": [
    "#### Uso de DOCSTRING Comentar correctamente una función"
   ]
  },
  {
   "cell_type": "code",
   "execution_count": null,
   "metadata": {},
   "outputs": [],
   "source": [
    "def area_rectangulo(ancho,alto):\n",
    "    '''(number, number)-> number\n",
    "    Devuelve el área del réctangulo al pasarle su ancho y su alto\n",
    "    '''\n",
    "    area=ancho*alto\n",
    "    return area"
   ]
  },
  {
   "cell_type": "code",
   "execution_count": null,
   "metadata": {},
   "outputs": [],
   "source": [
    "help(area_rectangulo)"
   ]
  },
  {
   "cell_type": "code",
   "execution_count": null,
   "metadata": {},
   "outputs": [],
   "source": [
    "def area_rectangulo(ancho,alto): #Nombre de la función y los parametros\n",
    "    '''(number, number)-> number #Type Contract\n",
    "    Devuelve el área del réctangulo al pasarle su ancho y su alto #Descripcion\n",
    "    >>>area_rectangulo(5,7)\n",
    "    35   \n",
    "    >>>area_rectangulo(3.5, 5.7)\n",
    "    19.95   \n",
    "    ''' #Ejemplos de uso\n",
    "    area=ancho*alto #Cuerpo de la función\n",
    "    return area"
   ]
  },
  {
   "cell_type": "markdown",
   "metadata": {},
   "source": [
    "#### Introducir una variable foranea dentro de una función"
   ]
  },
  {
   "cell_type": "markdown",
   "metadata": {},
   "source": [
    "# 5. Alcance de las variables dentro de las funciones"
   ]
  },
  {
   "cell_type": "markdown",
   "metadata": {},
   "source": [
    ">Scope global (Alcance global)"
   ]
  },
  {
   "cell_type": "markdown",
   "metadata": {},
   "source": [
    "Si creas una variable en el cuerpo principal del código python, puedes usarla en cualquier parte"
   ]
  },
  {
   "cell_type": "code",
   "execution_count": null,
   "metadata": {},
   "outputs": [],
   "source": [
    "x = \"Esta es una variable global\"\n",
    "def funcion():\n",
    "    print(x)\n",
    "    \n",
    "funcion()\n",
    "print(x)\n",
    "    "
   ]
  },
  {
   "cell_type": "markdown",
   "metadata": {},
   "source": [
    "Puedes crear una variable local con el mismo nombre de una variable global, pero Python lo leerá como 2 variables distintas"
   ]
  },
  {
   "cell_type": "code",
   "execution_count": null,
   "metadata": {},
   "outputs": [],
   "source": [
    "x = \"Esta es una variable global\"\n",
    "def funcion():\n",
    "    x = \"Y esta es una variable local\"\n",
    "    print(x)\n",
    "    \n",
    "funcion()\n",
    "print(x)"
   ]
  },
  {
   "cell_type": "markdown",
   "metadata": {},
   "source": [
    ">Scope local"
   ]
  },
  {
   "cell_type": "markdown",
   "metadata": {},
   "source": [
    "Si creas una variable dentro de una función, esta pertenece sólo a esa función."
   ]
  },
  {
   "cell_type": "code",
   "execution_count": null,
   "metadata": {},
   "outputs": [],
   "source": [
    "def funcion():\n",
    "    x = \"Esta es una variable global\"\n",
    "    print(x)\n",
    "    \n",
    "funcion()\n",
    "print(x)"
   ]
  },
  {
   "cell_type": "markdown",
   "metadata": {},
   "source": [
    "También puedes usar la variable en una función dentro de otra función."
   ]
  },
  {
   "cell_type": "code",
   "execution_count": null,
   "metadata": {},
   "outputs": [],
   "source": [
    "def funcion():\n",
    "    x = \"esta es una variable local\"\n",
    "    def funcion_interior():\n",
    "        print(x)\n",
    "    funcion_interior()\n",
    "funcion()"
   ]
  },
  {
   "cell_type": "markdown",
   "metadata": {},
   "source": [
    ">Keyword global"
   ]
  },
  {
   "cell_type": "markdown",
   "metadata": {},
   "source": [
    "Puedes crear una variable global dentro de la función usando el keyword ***global***"
   ]
  },
  {
   "cell_type": "code",
   "execution_count": null,
   "metadata": {},
   "outputs": [],
   "source": [
    "def funcion():\n",
    "    global x\n",
    "    x = 'Esta es una variable local que asignamos como global'\n",
    "    \n",
    "funcion()\n",
    "print(x)"
   ]
  },
  {
   "cell_type": "markdown",
   "metadata": {},
   "source": [
    "Tambien puedes cambiar el valor de una variable global con esta función."
   ]
  },
  {
   "cell_type": "code",
   "execution_count": null,
   "metadata": {},
   "outputs": [],
   "source": [
    "x = 'Esta es una variable global'\n",
    "def funcion():\n",
    "    global x\n",
    "    x= 'Y ahora cambiamos su valor'\n",
    "    \n",
    "funcion()\n",
    "print(x)"
   ]
  },
  {
   "cell_type": "code",
   "execution_count": null,
   "metadata": {},
   "outputs": [],
   "source": [
    "def your_name():\n",
    "    a = \"hola mundo\"\n",
    "    return \"\"\n",
    "\n",
    "print(a)"
   ]
  },
  {
   "cell_type": "markdown",
   "metadata": {},
   "source": [
    "Qué ocurre si creo una variable dentro de una función"
   ]
  },
  {
   "cell_type": "code",
   "execution_count": null,
   "metadata": {},
   "outputs": [],
   "source": [
    "def holaMundo():\n",
    "    b = \"Sergio paredes\"\n",
    "    return b\n",
    "\n",
    "holaMundo()\n",
    "print(b)"
   ]
  },
  {
   "cell_type": "markdown",
   "metadata": {},
   "source": [
    "#### Capturando un argumento dentro de una función"
   ]
  },
  {
   "cell_type": "code",
   "execution_count": null,
   "metadata": {},
   "outputs": [],
   "source": [
    "def variable(argumento = input(\"Pase el argumento\")):\n",
    "    return argumento\n",
    "\n",
    "variable = variable()\n",
    "print(variable)"
   ]
  },
  {
   "cell_type": "markdown",
   "metadata": {},
   "source": [
    "#### Ejercicio: Cree 2 funciones, una que capture el cateto1, y otra para el cateto2, guarde el valor de las funciones dentro de variables y luego calcule las hipotenusa"
   ]
  },
  {
   "cell_type": "markdown",
   "metadata": {},
   "source": [
    "<hr style=\"height:2px;border-width:0;color:gray;background-color:red\">\n",
    "<h2 style=\"color: red\">Actividad</h2>"
   ]
  },
  {
   "cell_type": "code",
   "execution_count": null,
   "metadata": {},
   "outputs": [],
   "source": [
    "def cateto1(cateto1=int(input(\"Ingrese el cateto : \"))):\n",
    "    return cateto1\n",
    "def cateto2(cateto2=int(input(\"Ingrese el cateto : \"))):\n",
    "    return cateto2\n",
    "\n",
    "cateto1=cateto1()\n",
    "cateto2=cateto2()\n",
    "\n",
    "def hipotenusa():\n",
    "    global cateto1\n",
    "    global cateto2\n",
    "    import math\n",
    "    hipotenusa= math.sqrt(cateto1**2+cateto2**2)\n",
    "    return hipotenusa\n",
    "\n",
    "hipotenusa=hipotenusa()\n",
    "print(hipotenusa)\n",
    "    "
   ]
  },
  {
   "cell_type": "markdown",
   "metadata": {},
   "source": [
    "<h2 style=\"color: red\">Fin de la actividad</h2>\n",
    "<hr style=\"height:2px;border-width:0;color:gray;background-color:red\">"
   ]
  },
  {
   "cell_type": "markdown",
   "metadata": {},
   "source": [
    "# 6. Parámetros y profundización en keywords"
   ]
  },
  {
   "cell_type": "code",
   "execution_count": null,
   "metadata": {},
   "outputs": [],
   "source": [
    "def saludar(nombre, mensaje='Hola'): \n",
    "    print (mensaje, nombre) \n",
    " \n",
    "saludar('Pepe Grillo') # Imprime: Hola Pepe Grillo"
   ]
  },
  {
   "cell_type": "markdown",
   "metadata": {},
   "source": [
    "Keywords como parámetros\n",
    "En Python, también es posible llamar a una función, pasándole los argumentos esperados, como pares de claves=valor:"
   ]
  },
  {
   "cell_type": "code",
   "execution_count": null,
   "metadata": {},
   "outputs": [],
   "source": [
    "def saludar(nombre, mensaje='Hola'): \n",
    "    print (mensaje, nombre)\n",
    " \n",
    "saludar(mensaje=\"Buen día\", nombre=\"Juancho\")"
   ]
  },
  {
   "cell_type": "markdown",
   "metadata": {},
   "source": [
    "#### Ejercicio : Haga una función al que al ingresarle (N°) números enteros, nos de el promedio de esos números, utilizando Parametros arbitrarios"
   ]
  },
  {
   "cell_type": "code",
   "execution_count": null,
   "metadata": {},
   "outputs": [],
   "source": [
    "def promedio(*lista):\n",
    "    promedio= sum(lista)/len(lista)\n",
    "    return promedio\n",
    "\n",
    "promedio(1,2,3,4,5,6)"
   ]
  },
  {
   "cell_type": "markdown",
   "metadata": {},
   "source": [
    "<hr style=\"height:2px;border-width:0;color:gray;background-color:red\">\n",
    "<h2 style=\"color: red\">Actividad</h2>\n"
   ]
  },
  {
   "cell_type": "markdown",
   "metadata": {},
   "source": [
    "#### Ejercicio: cree una función que reciba un número, luego llevo a otra función que lo invierta, luego guarde las 2 funciones en una variable y cree otra que nos diga si son números palindromos"
   ]
  },
  {
   "cell_type": "code",
   "execution_count": 13,
   "metadata": {},
   "outputs": [
    {
     "name": "stdout",
     "output_type": "stream",
     "text": [
      "361\n"
     ]
    }
   ],
   "source": [
    "numero = 163 #Asigna un número a una variable\n",
    "\n",
    "numero2 = int(str(numero)[::-1]) #Convierte el número en string, luego invierte las letras del string, y lo vuelve a convertir en entero\n",
    "\n",
    "print(numero2)"
   ]
  },
  {
   "cell_type": "code",
   "execution_count": 17,
   "metadata": {},
   "outputs": [],
   "source": [
    "\n",
    "        \n"
   ]
  },
  {
   "cell_type": "markdown",
   "metadata": {},
   "source": [
    "#### Ejercicio Cree una función que defina si el número anterior es Palindromo, capturando sus datos"
   ]
  },
  {
   "cell_type": "code",
   "execution_count": null,
   "metadata": {},
   "outputs": [],
   "source": []
  },
  {
   "cell_type": "markdown",
   "metadata": {
    "collapsed": true
   },
   "source": [
    "#### Ejercicio: Cree una función que con un loop que llame a otra función"
   ]
  },
  {
   "cell_type": "code",
   "execution_count": null,
   "metadata": {},
   "outputs": [],
   "source": [
    "def holaMundo():\n",
    "    print (\"Hola mundo\")\n",
    "\n",
    "def loop():\n",
    "    for i in range(5):\n",
    "        holaMundo()\n",
    "        \n",
    "loop = loop()\n",
    "print(loop)"
   ]
  },
  {
   "cell_type": "code",
   "execution_count": null,
   "metadata": {},
   "outputs": [],
   "source": []
  },
  {
   "cell_type": "markdown",
   "metadata": {},
   "source": [
    "# 7. Parámetros arbitrarios"
   ]
  },
  {
   "cell_type": "markdown",
   "metadata": {},
   "source": [
    "Al igual que en otros lenguajes de alto nivel, es posible que una función, espere recibir un número arbitrario -desconocido- de argumentos. Estos argumentos, llegarán a la función en forma de tupla.\n",
    "\n",
    "Para definir argumentos arbitrarios en una función, se antecede al parámetro un asterisco (*):"
   ]
  },
  {
   "cell_type": "code",
   "execution_count": null,
   "metadata": {},
   "outputs": [],
   "source": [
    "def recorrer_parametros_arbitrarios(parametro_fijo, *arbitrarios): \n",
    "    print (parametro_fijo) \n",
    " \n",
    "    # Los parámetros arbitrarios se corren como tuplas\n",
    "    for argumento in arbitrarios: \n",
    "        print (argumento)"
   ]
  },
  {
   "cell_type": "code",
   "execution_count": null,
   "metadata": {},
   "outputs": [],
   "source": [
    "recorrer_parametros_arbitrarios('Fixed', 'arbitrario 1', 'arbitrario 2', 'arbitrario 3')"
   ]
  },
  {
   "cell_type": "markdown",
   "metadata": {},
   "source": [
    "Si una función espera recibir parámetros fijos y arbitrarios, los arbitrarios siempre deben suceder a los fijos.\n",
    "\n",
    "Es posible también, obtener parámetros arbitrarios como pares de clave=valor. En estos casos, al nombre del parámetro deben precederlo dos astericos (**):"
   ]
  },
  {
   "cell_type": "code",
   "execution_count": null,
   "metadata": {},
   "outputs": [],
   "source": [
    "def recorrer_parametros_arbitrarios(parametro_fijo, *arbitrarios, **kwords): \n",
    "    print (parametro_fijo) \n",
    "    for argumento in arbitrarios: \n",
    "        print (argumento) \n",
    " \n",
    "    # Los argumentos arbitrarios tipo clave, se recorren como los diccionarios \n",
    "    for clave in kwords: \n",
    "        print (\"El valor de\", clave, \"es\", kwords[clave])\n",
    " \n",
    "recorrer_parametros_arbitrarios(\"Fixed\", \"arbitrario 1\", \"arbitrario 2\", \"arbitrario 3\", clave1=\"valor uno\", clave2=\"valor dos\")"
   ]
  },
  {
   "cell_type": "markdown",
   "metadata": {
    "collapsed": true
   },
   "source": [
    "Desempaquetado de parámetros\n",
    "Puede ocurrir además, una situación inversa a la anterior. Es decir, que la función espere una lista fija de parámetros, pero que éstos, en vez de estar disponibles de forma separada, se encuentren contenidos en una lista o tupla. En este caso, el signo asterisco (*) deberá preceder al nombre de la lista o tupla que es pasada como parámetro durante la llamada a la función:"
   ]
  },
  {
   "cell_type": "code",
   "execution_count": null,
   "metadata": {},
   "outputs": [],
   "source": [
    "def calcular(importe, descuento): \n",
    "    return importe - (importe * descuento / 100) \n",
    " \n",
    "datos = [1500, 10] \n",
    "print (calcular(*datos))"
   ]
  },
  {
   "cell_type": "markdown",
   "metadata": {},
   "source": [
    "El mismo caso puede darse cuando los valores a ser pasados como parámetros a una función, se encuentren disponibles en un diccionario. Aquí, deberán pasarse a la función, precedidos de dos asteriscos (**):"
   ]
  },
  {
   "cell_type": "code",
   "execution_count": null,
   "metadata": {},
   "outputs": [],
   "source": [
    "def calcular(importe, descuento): \n",
    "    return importe - (importe * descuento / 100) \n",
    " \n",
    "datos = {\"descuento\": 10, \"importe\": 1500} \n",
    "print (calcular(**datos))"
   ]
  },
  {
   "cell_type": "code",
   "execution_count": null,
   "metadata": {},
   "outputs": [],
   "source": []
  },
  {
   "cell_type": "markdown",
   "metadata": {},
   "source": [
    "# 8. Funciones de Orden superior"
   ]
  },
  {
   "cell_type": "markdown",
   "metadata": {},
   "source": [
    "Esto ya lo hemos repasado, observemos las funciones que llaman otras funciones"
   ]
  },
  {
   "cell_type": "code",
   "execution_count": null,
   "metadata": {},
   "outputs": [],
   "source": [
    "def saludo(func):\n",
    "    func()\n",
    "\n",
    "def hola():\n",
    "    print(\"Hola !!!\")\n",
    "\n",
    "def adios():\n",
    "    print(\"Adios !!!\")\n",
    "    \n",
    "saludo(hola)\n",
    "saludo(adios)"
   ]
  },
  {
   "cell_type": "markdown",
   "metadata": {},
   "source": [
    "# 9. Funciones anonimas"
   ]
  },
  {
   "cell_type": "markdown",
   "metadata": {},
   "source": [
    "Las expresiones lambda se usan idealmente cuando necesitamos hacer algo simple y estamos más interesados en hacer el trabajo rápidamente en lugar de nombrar formalmente la función. Las expresiones lambda también se conocen como funciones anónimas."
   ]
  },
  {
   "cell_type": "code",
   "execution_count": 30,
   "metadata": {},
   "outputs": [
    {
     "data": {
      "text/plain": [
       "16"
      ]
     },
     "execution_count": 30,
     "metadata": {},
     "output_type": "execute_result"
    }
   ],
   "source": [
    "def func(args):\n",
    "    return args**2\n",
    "print(func(4))"
   ]
  },
  {
   "cell_type": "code",
   "execution_count": 31,
   "metadata": {},
   "outputs": [
    {
     "name": "stdout",
     "output_type": "stream",
     "text": [
      "16\n"
     ]
    }
   ],
   "source": [
    "func = lambda args: args**2\n",
    "print(func(4))"
   ]
  },
  {
   "cell_type": "markdown",
   "metadata": {},
   "source": [
    "<img src=\"img/lambda.gif\">"
   ]
  },
  {
   "cell_type": "markdown",
   "metadata": {},
   "source": [
    "Intermedio"
   ]
  },
  {
   "cell_type": "code",
   "execution_count": null,
   "metadata": {},
   "outputs": [],
   "source": [
    "lambda_func = lambda x: True if x**2 >= 10 else False"
   ]
  },
  {
   "cell_type": "markdown",
   "metadata": {},
   "source": [
    "Complejos"
   ]
  },
  {
   "cell_type": "code",
   "execution_count": null,
   "metadata": {},
   "outputs": [],
   "source": [
    "mi_dicc = {\"A\": 1, \"B\": 2, \"C\": 3}\n",
    "sorted(mi_dicc, key=lambda x: my_dict[x]%3) # Retorna ['C', 'A', 'B']"
   ]
  },
  {
   "cell_type": "markdown",
   "metadata": {},
   "source": [
    "### Biografias Python\n",
    "\n",
    ">https://docs.hektorprofe.net/python/programacion-de-funciones/argumentos-y-parametros/#:~:text=En%20la%20definici%C3%B3n%20de%20una,se%20env%C3%ADan%20se%20denominan%20argumentos.\n",
    "\n",
    ">https://www.mclibre.org/consultar/python/lecciones/python-funciones-2.html\n",
    "\n",
    ">https://uniwebsidad.com/libros/python/capitulo-4/definiendo-funciones\n",
    "\n",
    ">https://python-para-impacientes.blogspot.com/2014/08/glosario-de-funciones-magicas-ipython.html\n",
    "\n",
    ">https://www.freecodecamp.org/espanol/news/expresiones-lambda-en-python/#:~:text=Las%20expresiones%20lambda%20en%20Python,con%20la%20palabra%20clave%20def%20."
   ]
  },
  {
   "cell_type": "code",
   "execution_count": null,
   "metadata": {},
   "outputs": [],
   "source": []
  }
 ],
 "metadata": {
  "anaconda-cloud": {},
  "kernelspec": {
   "display_name": "Python 3",
   "language": "python",
   "name": "python3"
  },
  "language_info": {
   "codemirror_mode": {
    "name": "ipython",
    "version": 3
   },
   "file_extension": ".py",
   "mimetype": "text/x-python",
   "name": "python",
   "nbconvert_exporter": "python",
   "pygments_lexer": "ipython3",
   "version": "3.7.6"
  }
 },
 "nbformat": 4,
 "nbformat_minor": 1
}
