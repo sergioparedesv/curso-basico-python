{
 "cells": [
  {
   "cell_type": "markdown",
   "metadata": {
    "id": "AoDRV_P8CxNl"
   },
   "source": [
    "## Estructuras de Control  1.1"
   ]
  },
  {
   "cell_type": "markdown",
   "metadata": {},
   "source": [
    "# 1. Identación"
   ]
  },
  {
   "cell_type": "markdown",
   "metadata": {},
   "source": [
    "Hasta este momento creo que ya notaron que python no suele terminar sus declaraciones en parantesis o punto y como <b>¿entonces qué utiliza python?</b>"
   ]
  },
  {
   "cell_type": "markdown",
   "metadata": {},
   "source": [
    "La <b>identación</b>, Python define el nivel en el que una linea de comandos se encuentra a partir de la identación\n",
    "\n",
    "Ejemplo:"
   ]
  },
  {
   "cell_type": "markdown",
   "metadata": {},
   "source": [
    "<img src=\"img/identacion1.png\">"
   ]
  },
  {
   "cell_type": "markdown",
   "metadata": {},
   "source": [
    "¿Pero si identamos en todos los lenguajes, cual es la diferencia? Bueno que en los otro lenguajes no es obligatorio, pero en Python es OBLIGATORIO identar!!"
   ]
  },
  {
   "cell_type": "markdown",
   "metadata": {},
   "source": [
    "Bueno, cómo vemos en estas piezas de código que me robe de internet, encontraremos como se identan y se agrupan.\n",
    "\n",
    "<img src=\"img/identation2.png\">\n",
    "<p>Actualmente vemos este código así, pero python lo visualiza de la siguiente manera a la hora de notar los bloques de códigos.\n",
    "<img src=\"img/Identation2-marks.png\">"
   ]
  },
  {
   "cell_type": "markdown",
   "metadata": {},
   "source": [
    "Como se puede observar el For contiene todo el código que corresponde a los limites\n",
    "\n",
    ">Morado = Nivel 1\n",
    "\n",
    ">Amarillo = Nivel 2\n",
    "\n",
    ">Aguamarina = Nivel 3"
   ]
  },
  {
   "cell_type": "markdown",
   "metadata": {},
   "source": [
    "<img src=\"img/niveles-anidados.jpg\">"
   ]
  },
  {
   "cell_type": "markdown",
   "metadata": {},
   "source": [
    "***Claro, podemos ejecutar este programa y ver lo que hace***, incluso llevarlo al python tutor para examinarlo parte por parte, En el siguiente ejercicio identificaremos la identación de un script hasta de 3 niveles.\n",
    "<a href=\"http://www.pythontutor.com/visualize.html#mode=edit\">Python tutor</a>"
   ]
  },
  {
   "cell_type": "code",
   "execution_count": 24,
   "metadata": {},
   "outputs": [
    {
     "name": "stdout",
     "output_type": "stream",
     "text": [
      "Inicio del scrip\n",
      "1 Es un número impar\n",
      "Los números seguiran rotando\n",
      "2\n",
      "Este número es menor que 8\n",
      "Los números seguiran rotando\n",
      "3 Es un número impar\n",
      "Los números seguiran rotando\n",
      "4\n",
      "Este número es menor que 8\n",
      "Los números seguiran rotando\n",
      "5 Es un número impar\n",
      "Los números seguiran rotando\n",
      "6\n",
      "Este número es menor que 8\n",
      "Los números seguiran rotando\n",
      "7 Es un número impar\n",
      "Los números seguiran rotando\n",
      "8\n",
      "Este número es par y mayor a 8\n",
      "Los números seguiran rotando\n",
      "9 Es un número impar\n",
      "Los números seguiran rotando\n",
      "10\n",
      "Este número es par y mayor a 8\n",
      "Los números seguiran rotando\n",
      "Fin del script\n"
     ]
    }
   ],
   "source": [
    "print(\"Inicio del scrip\")\n",
    "for x in range (1,10+1):\n",
    "    if x % 2 == 0:\n",
    "        if x >= 8:\n",
    "            print(x)\n",
    "            print(\"Este número es par y mayor a 8\")\n",
    "        else:\n",
    "            print(x)\n",
    "            print(\"Este número es menor que 8\")\n",
    "    else:\n",
    "        print(x,\"Es un número impar\")\n",
    "    print(\"Los números seguiran rotando\")\n",
    "print(\"Fin del script\")\n",
    "            \n",
    "            "
   ]
  },
  {
   "cell_type": "markdown",
   "metadata": {
    "id": "SqslZEawCxNw"
   },
   "source": [
    "# 2. Condicionales"
   ]
  },
  {
   "cell_type": "markdown",
   "metadata": {
    "id": "Ru14mxwcCxNx"
   },
   "source": [
    "En programación, los condicionales son instrucciones que se ejecutan de una forma u otra dependiendo de las condiciones que se den.\n",
    "\n",
    "Por ejemplo, el estudiante Carlos tiene 18 años, para poder trabajar sin permiso de sus padres en una empresa se debe hacer una verificación.\n",
    "\n",
    "<img src=\"img/meme-condicional.jpg\">"
   ]
  },
  {
   "cell_type": "markdown",
   "metadata": {
    "id": "fbPN5yfcCxNy"
   },
   "source": [
    "Ejemplo:\n",
    "    \n",
    "Crea imagen de condicional preguntando si el estudiante es mayor de 18 años\n",
    "\n",
    "<a href=\"https://ibb.co/3mF9Qq2\"><img src=\"https://i.ibb.co/Xx5rMg1/Untitled-Workspace.png\" alt=\"Untitled-Workspace\" border=\"0\" /></a>\n",
    "    "
   ]
  },
  {
   "cell_type": "markdown",
   "metadata": {
    "id": "T1r23ie_CxNy"
   },
   "source": [
    "### En código, este ejemplo de expresa de la siguiente forma."
   ]
  },
  {
   "cell_type": "code",
   "execution_count": null,
   "metadata": {
    "id": "Mo8LRnBNCxNz",
    "outputId": "afc15f95-97a1-4134-861f-02209a3c10b9"
   },
   "outputs": [
    {
     "name": "stdout",
     "output_type": "stream",
     "text": [
      "Escriba su edad17\n",
      "no puede trabajar\n"
     ]
    }
   ],
   "source": [
    "edad=int(input(\"Escriba su edad\")) #Escribes su edad\n",
    "if edad >= 18: #Verifica si es mayor de 18\n",
    "    print(\"puede trabajar\") #Escoje la ruta que le permite trabajar\n",
    "else:\n",
    "    print(\"no puede trabajar\") #Escoje la ruta que no le permite trabajar."
   ]
  },
  {
   "cell_type": "code",
   "execution_count": null,
   "metadata": {
    "colab": {
     "base_uri": "https://localhost:8080/"
    },
    "id": "1yfJf8wVCyw_",
    "outputId": "b3ac40a5-6b82-4726-9af6-4c07bc00e639"
   },
   "outputs": [
    {
     "data": {
      "text/plain": [
       "4"
      ]
     },
     "execution_count": 1,
     "metadata": {
      "tags": []
     },
     "output_type": "execute_result"
    }
   ],
   "source": [
    "2+2"
   ]
  },
  {
   "cell_type": "markdown",
   "metadata": {
    "id": "pvLERgXTCxN1"
   },
   "source": [
    "Entonces \n",
    "\n",
    "Haremos el Ejercicio con Camila de 19 años.\n",
    "\n",
    "*Paso 1: Inicia\n",
    "*Paso 2: Ingresa los datos\n",
    "*Paso 3: Comprueba si la edad es mayor a 18\n",
    "*Paso 4: Luego se imprime (\"puede trabajar\")\n",
    "*Paso 5: Finaliza el programa."
   ]
  },
  {
   "cell_type": "code",
   "execution_count": null,
   "metadata": {
    "id": "-69739R_CxN1"
   },
   "outputs": [],
   "source": [
    "int #Numero entero\n",
    "input #Entrada de datos\n",
    "if #Si\n",
    "else #De otra forma\n",
    "print #Imprimir"
   ]
  },
  {
   "cell_type": "markdown",
   "metadata": {
    "id": "JzdWjz5JCxN1"
   },
   "source": [
    "# Condiciones en Python\n"
   ]
  },
  {
   "cell_type": "markdown",
   "metadata": {
    "id": "NhCOXMgHCxN2"
   },
   "source": [
    "A continuación, encontraremos una lista completa de los condicionales, recuerda siempre volver a esta sección si necesitas ayuda."
   ]
  },
  {
   "cell_type": "markdown",
   "metadata": {
    "id": "htxIBHkMCxN2"
   },
   "source": [
    "#### IF, ELSE, ELIF"
   ]
  },
  {
   "cell_type": "code",
   "execution_count": null,
   "metadata": {
    "id": "X_CTU0I_CxN3"
   },
   "outputs": [],
   "source": [
    "if (2 >= 1):\n",
    "    print (\"si\")"
   ]
  },
  {
   "cell_type": "markdown",
   "metadata": {
    "id": "tJQwz29LCxN3"
   },
   "source": [
    "Bien, ahora reemplazaremos el 2 por un 0, y reescribiremos el código: "
   ]
  },
  {
   "cell_type": "code",
   "execution_count": 29,
   "metadata": {
    "id": "cF14BOoUCxN3"
   },
   "outputs": [
    {
     "name": "stdout",
     "output_type": "stream",
     "text": [
      "No es mayor\n"
     ]
    }
   ],
   "source": [
    "if (0 >= 1):\n",
    "    print (\"si\")\n",
    "else:\n",
    "    print (\"No es mayor\")"
   ]
  },
  {
   "cell_type": "markdown",
   "metadata": {
    "id": "M8O1XKS2CxN3"
   },
   "source": [
    "A continuación, veremos un ejemplo verificando la edad."
   ]
  },
  {
   "cell_type": "markdown",
   "metadata": {
    "id": "65WnmhcKCxN3"
   },
   "source": [
    "<b>Alerta:</b> Hacer diagrama de flujo"
   ]
  },
  {
   "cell_type": "code",
   "execution_count": null,
   "metadata": {
    "id": "m2VfIERdCxN4"
   },
   "outputs": [],
   "source": [
    "#Ingrese su edad y pruebe el Else\n",
    "edad = int(input(\"¿Cuántos años tiene? \"))\n",
    "if edad < 18:\n",
    "    print(\"Es usted menor de edad\")\n",
    "else:\n",
    "    print(\"Es usted mayor de edad\")\n",
    "print(\"¡Hasta la próxima!\")"
   ]
  },
  {
   "cell_type": "markdown",
   "metadata": {
    "id": "nTc5cCMNCxN4"
   },
   "source": [
    "<b>Ejercicio:</b> Haz cambios en este código para "
   ]
  },
  {
   "cell_type": "code",
   "execution_count": null,
   "metadata": {
    "id": "MctE7R8TCxN4"
   },
   "outputs": [],
   "source": []
  },
  {
   "cell_type": "markdown",
   "metadata": {
    "id": "FkCq89_nCxN4"
   },
   "source": [
    "La nueva función o pieza de código llamada (%) sirve para ver si el resultado de una operación tiene residuo. "
   ]
  },
  {
   "cell_type": "code",
   "execution_count": null,
   "metadata": {
    "id": "wRffmuWDCxN4"
   },
   "outputs": [],
   "source": [
    "#Vamos a probar si un número es Par o Impar\n",
    "numero = int(input(\"Ingrese el número: \"))\n",
    "if numero % 2:\n",
    "    print(\"Este número es impar\")\n",
    "else:\n",
    "    print(\"Este número es par\")"
   ]
  },
  {
   "cell_type": "markdown",
   "metadata": {
    "id": "eHNjUIpaCxN5"
   },
   "source": [
    "Bien, ahora que vemos que esta pieza de código puede saber si un número es par o impar, vamos a  ampliar utilizando el (and), osea, las dos condiciones se deben cumplir para que pueda pasar:"
   ]
  },
  {
   "cell_type": "code",
   "execution_count": null,
   "metadata": {
    "id": "if43q8fKCxN5"
   },
   "outputs": [],
   "source": [
    "#Acá vemos como se deben cumplir las 2 condiciones, puedes anidar más condiciones.\n",
    "num1 = int(input(\"Ingrese el número: \"))\n",
    "num2 = int(input(\"Ingrese el número: \"))\n",
    "if num1 == 4 and num2 == 5: # and si las 2 condiciones se cumplen\n",
    "    print(\"Los dos números son iguales\")\n",
    "else:\n",
    "    print(\"Los números no son iguales\")"
   ]
  },
  {
   "cell_type": "markdown",
   "metadata": {
    "id": "0T6N7x6wCxN5"
   },
   "source": [
    "<b>Ejercicio</b>: \n",
    "Carlos es un hombre de 20 años y hombre\n",
    "\n",
    "<b>Alerta:</b> Hacer diagrama de flujo"
   ]
  },
  {
   "cell_type": "code",
   "execution_count": null,
   "metadata": {
    "id": "VlCiAo1nCxN5"
   },
   "outputs": [],
   "source": [
    "#Espacio imagen"
   ]
  },
  {
   "cell_type": "code",
   "execution_count": null,
   "metadata": {
    "id": "2Jn5R1u4CxN6"
   },
   "outputs": [],
   "source": [
    "#Espacio de trabajo"
   ]
  },
  {
   "cell_type": "markdown",
   "metadata": {
    "id": "jowFokJXCxN6"
   },
   "source": [
    "Bien, ahora que vemos que esta pieza de código puede saber si un número es par o impar, vamos a  ampliar utilizando el (or). El siguiente ejemplo es para cuando una de las condiciones se cumpla.\n"
   ]
  },
  {
   "cell_type": "code",
   "execution_count": null,
   "metadata": {
    "id": "lNYxeti1CxN6"
   },
   "outputs": [],
   "source": [
    "num1 = int(input(\"Ingrese el número: \"))\n",
    "num2 = int(input(\"Ingrese el número: \"))\n",
    "if num1 == 4 or num2 == 5: # or si una de las condiciones es cierta, todas son ciertas\n",
    "    print(\"Uno de los números es igual\")\n",
    "else:\n",
    "    print(\"Ningun número es igual\")"
   ]
  },
  {
   "cell_type": "code",
   "execution_count": null,
   "metadata": {
    "id": "C3c3mj0MCxN6"
   },
   "outputs": [],
   "source": []
  },
  {
   "cell_type": "markdown",
   "metadata": {
    "id": "ZO0FOEqwCxN7"
   },
   "source": [
    "<b>Ejercicio</b>: \n",
    "En un trabajo permitimos a personas que tengan cédula de ciudadania o cédula de extranjería para solicitar un empleo:\n",
    "\n",
    "<b>Alerta:</b> Hacer diagrama de flujo"
   ]
  },
  {
   "cell_type": "code",
   "execution_count": null,
   "metadata": {
    "id": "vT_avTAXCxN7"
   },
   "outputs": [],
   "source": []
  },
  {
   "cell_type": "markdown",
   "metadata": {
    "id": "kuJhvyloCxN7"
   },
   "source": [
    "#### IF, ELSE y valores Boobleanos"
   ]
  },
  {
   "cell_type": "markdown",
   "metadata": {},
   "source": [
    "<b>Hay 10 tipos de personas: los que saben binario y los que no!!</b>\n",
    "    <ul>\n",
    "        <li>¿Entendiste el chiste? ¿no? ¿si? </li>\n",
    "        <li>¿Bueno te has preguntado como un ordenador entiende lo que le decimos?</li>\n",
    "   </ul>\n",
    "    \n",
    "<p>Bueno en realidad los computadores todo lo entienden en bits, encendido o apagado, de tal forma encendido en programación equivale a true y apagado a false, los computadores tambien interpretan estos datos</p>"
   ]
  },
  {
   "cell_type": "markdown",
   "metadata": {},
   "source": [
    "<img src=\"img/Semaforos.jpg\">"
   ]
  },
  {
   "cell_type": "markdown",
   "metadata": {},
   "source": [
    "En el siguiente ejemplo encontraremos un semaforo verde encendido"
   ]
  },
  {
   "cell_type": "code",
   "execution_count": null,
   "metadata": {
    "id": "rkLrZgabCxN7"
   },
   "outputs": [],
   "source": [
    "verde = True\n",
    "if verde == True:\n",
    "    print (\"Puedes pasar!\")\n",
    "    "
   ]
  },
  {
   "cell_type": "markdown",
   "metadata": {},
   "source": [
    "Vamos a ampliar el ejercicio"
   ]
  },
  {
   "cell_type": "code",
   "execution_count": null,
   "metadata": {
    "id": "TaA4HfKQCxN7"
   },
   "outputs": [],
   "source": [
    "verde = False\n",
    "if verde == True:\n",
    "    print (\"Puedes pasar!\")\n",
    "else:\n",
    "    print (\"Espera\")"
   ]
  },
  {
   "cell_type": "markdown",
   "metadata": {},
   "source": [
    "Siguiendo la imagen, ¿qué pasa si el color Verde y Amarillo estan apagados?"
   ]
  },
  {
   "cell_type": "code",
   "execution_count": null,
   "metadata": {
    "id": "Y2ltvVtMCxN8"
   },
   "outputs": [],
   "source": [
    "semaforoVerde = False\n",
    "semaforoNaranja = False\n",
    "\n",
    "if semaforoVerde == True:\n",
    "    print(\"Puedes pasar\")\n",
    "else:\n",
    "    if semaforoNaranja == True:\n",
    "        print (\"Pase con precaución\")\n",
    "    else:\n",
    "        print (\"Debes esperar\") "
   ]
  },
  {
   "cell_type": "markdown",
   "metadata": {
    "id": "heJicmt7CxN8"
   },
   "source": [
    "Pruebe con los mismos ejercicios, ahora cambiando el valor booleano de los semáforos\n",
    "\n",
    "* semaforoVerde = True | semaforoNaranja = False\n",
    "* semaforoVerde = False | semaforoNaranja = True\n",
    "* semaforoVerde = True | semaforoNaranja = True"
   ]
  },
  {
   "cell_type": "code",
   "execution_count": null,
   "metadata": {
    "id": "hozdjiCaCxN8"
   },
   "outputs": [],
   "source": [
    "#semaforoVerde = True | semaforoNaranja = False"
   ]
  },
  {
   "cell_type": "code",
   "execution_count": null,
   "metadata": {
    "id": "koq8Uc_jCxN9"
   },
   "outputs": [],
   "source": [
    "#semaforoVerde = False | semaforoNaranja = True"
   ]
  },
  {
   "cell_type": "code",
   "execution_count": null,
   "metadata": {
    "id": "kZgF6RHHCxN9"
   },
   "outputs": [],
   "source": [
    "#semaforoVerde = True | semaforoNaranja = True"
   ]
  },
  {
   "cell_type": "markdown",
   "metadata": {
    "id": "AF5eXQbiCxN9"
   },
   "source": [
    "#### Elif reprenseta lo que en otros lenguajes de programación se conoce como el Switch:"
   ]
  },
  {
   "cell_type": "markdown",
   "metadata": {},
   "source": [
    "Un ejemplo de estas estructuras son los ***Elevadores*** de un edificio, donde elijes al piso que vas a ir, entonces ingresas el número y el ascensor va subiendo y haciendo una a una las comprobaciones"
   ]
  },
  {
   "cell_type": "code",
   "execution_count": 26,
   "metadata": {
    "id": "uD3VAnacCxN9"
   },
   "outputs": [
    {
     "name": "stdout",
     "output_type": "stream",
     "text": [
      "Ingrese un número de 1 al 53\n",
      "3 Piso\n",
      "3\n",
      "Adios\n"
     ]
    }
   ],
   "source": [
    "var = int(input(\"Ingrese un número de 1 al 5\"))\n",
    "\n",
    "if var == 1:\n",
    "   print (\"1 Piso\")\n",
    "   print (var)\n",
    "elif var == 2:\n",
    "   print (\"2 Piso\")\n",
    "   print (var)\n",
    "elif var == 3:\n",
    "   print (\"3 Piso\")\n",
    "   print (var)\n",
    "elif var == 4:\n",
    "   print (\"4 Piso\")\n",
    "   print (var)\n",
    "elif var == 5:\n",
    "   print (\"5 Piso\")\n",
    "   print (var)\n",
    "else:\n",
    "   print (\"Escogio un número diferente\")\n",
    "   print (var)\n",
    "\n",
    "print (\"Adios\")"
   ]
  },
  {
   "cell_type": "markdown",
   "metadata": {},
   "source": [
    "Claro no siempre las opciones de los Switch son tan sencillas, aveces por ejemplo tenemos que determinar que hacer con un rango de números, Ahora imagina que tenemos que calcular la categoria a la que pertenece un boxeador\n",
    "\n",
    "<img src=\"img/peso-boxeador-opacity.png\" width=\"400px\">"
   ]
  },
  {
   "cell_type": "code",
   "execution_count": 28,
   "metadata": {},
   "outputs": [
    {
     "name": "stdout",
     "output_type": "stream",
     "text": [
      "Ingresa tu peso para determinar la categoria del boxeo a la que perteneces en Kg :99\n",
      "\n",
      "\n",
      "Con un peso de 99 kg usted pertenece a la categoria Superpesado\n"
     ]
    }
   ],
   "source": [
    "peso_boxeador = int(input(\"Ingresa tu peso para determinar la categoria del boxeo a la que perteneces en Kg :\"))\n",
    "print(\"\\n\")\n",
    "if peso_boxeador >= 48 and peso_boxeador <=52:\n",
    "   print (\"Con un peso de\",peso_boxeador,\"kg usted pertenece a la categoria Mosca\")\n",
    "elif peso_boxeador >= 53 and peso_boxeador <=57:\n",
    "   print (\"Con un peso de\",peso_boxeador,\"kg usted pertenece a la categoria Pluma\")\n",
    "elif peso_boxeador >= 58 and peso_boxeador <= 63:\n",
    "   print (\"Con un peso de\",peso_boxeador,\"kg usted pertenece a la categoria Ligero\")\n",
    "elif peso_boxeador >= 64 and peso_boxeador <= 69:\n",
    "   print (\"Con un peso de\",peso_boxeador,\"kg usted pertenece a la categoria Wélter\")\n",
    "elif peso_boxeador >= 70 and peso_boxeador <= 75:\n",
    "   print (\"Con un peso de\",peso_boxeador,\"kg usted pertenece a la categoria Medio\")\n",
    "elif peso_boxeador >= 76 and peso_boxeador <= 81:\n",
    "   print (\"Con un peso de\",peso_boxeador,\"kg usted pertenece a la categoria Semipesado\")\n",
    "elif peso_boxeador >= 82 and peso_boxeador <= 91:\n",
    "   print (\"Con un peso de\",peso_boxeador,\"kg usted pertenece a la categoria Pesado\")\n",
    "elif peso_boxeador >= 92:\n",
    "   print (\"Con un peso de\",peso_boxeador,\"kg usted pertenece a la categoria Superpesado\")\n",
    "else:\n",
    "   print (\"Con un peso de\",peso_boxeador,\"Su peso no es adecuado para el boxeo\")\n",
    "\n"
   ]
  },
  {
   "cell_type": "code",
   "execution_count": null,
   "metadata": {},
   "outputs": [],
   "source": []
  },
  {
   "cell_type": "markdown",
   "metadata": {
    "id": "VZWkJbDsCxN-"
   },
   "source": [
    "# Llegamos al final, para los que quieran ampliar, acá colocaremos las referencias."
   ]
  },
  {
   "cell_type": "markdown",
   "metadata": {
    "id": "6b7W2tdMCxN-"
   },
   "source": [
    "### Biografias\n",
    "\n",
    "http://www.python.org.ar/aprendiendo-python/\n",
    "\n",
    "http://librosweb.es/libro/python/\n",
    "\n",
    "https://www.codecademy.com/es/tracks/python-traduccion-al-espanol-america-latina-clone-1\n",
    "\n",
    "http://www.scipy-lectures.org/\n",
    "\n",
    "https://docs.python.org\n"
   ]
  }
 ],
 "metadata": {
  "anaconda-cloud": {},
  "colab": {
   "collapsed_sections": [],
   "name": "U2-1-Condicionales.ipynb",
   "provenance": []
  },
  "kernelspec": {
   "display_name": "Python 3",
   "language": "python",
   "name": "python3"
  },
  "language_info": {
   "codemirror_mode": {
    "name": "ipython",
    "version": 3
   },
   "file_extension": ".py",
   "mimetype": "text/x-python",
   "name": "python",
   "nbconvert_exporter": "python",
   "pygments_lexer": "ipython3",
   "version": "3.7.6"
  }
 },
 "nbformat": 4,
 "nbformat_minor": 1
}
