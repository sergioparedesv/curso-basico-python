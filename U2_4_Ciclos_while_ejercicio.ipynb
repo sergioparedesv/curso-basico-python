{
 "cells": [
  {
   "cell_type": "markdown",
   "metadata": {},
   "source": [
    "# Ejercicios con ciclos"
   ]
  },
  {
   "cell_type": "markdown",
   "metadata": {},
   "source": [
    "## Utilizando la sentencia While desarrolla los siguientes ejercicios:"
   ]
  },
  {
   "cell_type": "markdown",
   "metadata": {},
   "source": [
    "**1.** Crear un programa con `while` que nos explique el ciclo de las **botellas de plástico.**\n",
    "<img src=\"img/ciclo-reciclaje-botellas.jpg\" width=\"600px\">"
   ]
  },
  {
   "cell_type": "code",
   "execution_count": null,
   "metadata": {},
   "outputs": [],
   "source": []
  },
  {
   "cell_type": "markdown",
   "metadata": {},
   "source": [
    "**2.** Leer números **enteros** de teclado, hasta que el usuario ingrese el 0. Finalmente, mostrar la **sumatoria** de todos los números ingresados."
   ]
  },
  {
   "cell_type": "code",
   "execution_count": null,
   "metadata": {},
   "outputs": [],
   "source": []
  },
  {
   "cell_type": "markdown",
   "metadata": {},
   "source": [
    "**3.** Crear un programa que muestre un menú con tres opciones: \n",
    "1- comenzar programa\n",
    "2- imprimir listado\n",
    "3-finalizar programa\n",
    "\n",
    "A continuación, el **usuario** debe poder seleccionar una **opción (1, 2 o 3)**. Si elige una opción incorrecta, informarle del **error**. El menú se debe volver a mostrar luego de ejecutada cada opción, permitiendo volver a elegir. Si elige las opciones 1 o 2 se imprimirá un texto. Si elige la opción 3, se interrumpirá la impresión del menú y el programa finalizará."
   ]
  },
  {
   "cell_type": "code",
   "execution_count": null,
   "metadata": {},
   "outputs": [],
   "source": []
  },
  {
   "cell_type": "markdown",
   "metadata": {},
   "source": [
    "**4.** Leer un número **entero positivo** desde teclado e imprimir la **suma** de los **dígitos** que lo componen."
   ]
  },
  {
   "cell_type": "code",
   "execution_count": null,
   "metadata": {},
   "outputs": [],
   "source": []
  },
  {
   "cell_type": "markdown",
   "metadata": {},
   "source": [
    "**5.** Crear un programa que le pida al usuario que introduzca dos **valores distintos**, luego el programa debe comprobar que no son iguales; si los valores son iguales, debe solicitar que el usuario vuelva a ingresarlos hasta que sean diferentes, luego el programa debe comprobar cuál valor es **mayor** que el anterior."
   ]
  },
  {
   "cell_type": "code",
   "execution_count": null,
   "metadata": {},
   "outputs": [],
   "source": []
  },
  {
   "cell_type": "markdown",
   "metadata": {},
   "source": [
    "**6.** Crear un **programa** que imprima la **tabla de multiplicar** que un usuario elija."
   ]
  },
  {
   "cell_type": "code",
   "execution_count": null,
   "metadata": {},
   "outputs": [],
   "source": []
  },
  {
   "cell_type": "markdown",
   "metadata": {},
   "source": [
    "**7.** Crear un programa que imprima las **tablas de multiplicar** de 1 a 10."
   ]
  },
  {
   "cell_type": "code",
   "execution_count": null,
   "metadata": {},
   "outputs": [],
   "source": []
  },
  {
   "cell_type": "markdown",
   "metadata": {},
   "source": [
    "**8**. Crear un programa que capture una nota de 1 a 20 y la convierta en una letra, siguiendo el siguiente algoritmo (tenga en cuenta que una vez se asigne la letra, se le permita al usuario salir del programa o volver a ingresar una nota): <img src=\"alg/ejemplo-7-DF.jpg\" width=\"600px\">"
   ]
  },
  {
   "cell_type": "code",
   "execution_count": null,
   "metadata": {},
   "outputs": [],
   "source": []
  },
  {
   "cell_type": "markdown",
   "metadata": {},
   "source": [
    "**9.** Crear un programa que reciba un número y compruebe si el número es primo, eso lo hace **comparando** la cantidad de números que pueden dividirlo. Recuerda que un número primo solo es divisible por 1 y por sí mismo, a continuación, podrás seguir el siguiente algoritmo: <img src=\"alg/ejemplo-9-df.jpg\" width=\"600px\">"
   ]
  },
  {
   "cell_type": "code",
   "execution_count": null,
   "metadata": {},
   "outputs": [],
   "source": []
  },
  {
   "cell_type": "markdown",
   "metadata": {},
   "source": [
    "**10.** Crear un programa que ayude a llevar la nómina de una empresa que tiene **10 constructores**,  cada **obrero** ingresa su cantidad de horas trabajadas, el **programa** debe calcular lo que se le debe pagar al empleado y, al final, debe calcular la cantidad total de lo que la empresa pagó en nómina. Siga el siguiente algoritmo como guía: <img src=\"alg/ejemplo-13-DF.jpg\"  width=\"600px\">"
   ]
  },
  {
   "cell_type": "code",
   "execution_count": null,
   "metadata": {},
   "outputs": [],
   "source": []
  },
  {
   "cell_type": "markdown",
   "metadata": {},
   "source": [
    "**11.** Crear un programa que **combine dos cadenas de caracteres** de forma intercalada que nos ayude a generar un mensaje secreto, por ejemplo, con las palabras “mensaje” “secreto”, el programa debe generar una palabra como: **“mseencsraejteo”**."
   ]
  },
  {
   "cell_type": "code",
   "execution_count": null,
   "metadata": {},
   "outputs": [],
   "source": []
  },
  {
   "cell_type": "markdown",
   "metadata": {},
   "source": [
    "**12.** Crear un ciclo `while` que **invierta una palabra** y compruebe si es palíndromo."
   ]
  },
  {
   "cell_type": "code",
   "execution_count": null,
   "metadata": {},
   "outputs": [],
   "source": []
  },
  {
   "cell_type": "markdown",
   "metadata": {},
   "source": [
    "**13.** Crear un programa que muestre los primeros 10 números de la **sucesión de Fibonacci.** La sucesión comienza con los números 0 y 1 y, a partir de éstos, cada elemento es la suma de los dos números anteriores en la secuencia: **0, 1, 1, 2, 3, 5, 8, 13, 21, 34, 55**"
   ]
  },
  {
   "cell_type": "code",
   "execution_count": null,
   "metadata": {},
   "outputs": [],
   "source": []
  },
  {
   "cell_type": "markdown",
   "metadata": {},
   "source": [
    "**14.** Solicitar al usuario que ingrese una frase y luego informar cuál fue la palabra más larga (**en caso de haber más de una, mostrar la primera)** y cuántas palabras había. Precondición: se tomará como separador de palabras al carácter “ “ (espacio), ya sea uno o más."
   ]
  },
  {
   "cell_type": "code",
   "execution_count": null,
   "metadata": {},
   "outputs": [],
   "source": []
  }
 ],
 "metadata": {
  "kernelspec": {
   "display_name": "Python 3",
   "language": "python",
   "name": "python3"
  },
  "language_info": {
   "codemirror_mode": {
    "name": "ipython",
    "version": 3
   },
   "file_extension": ".py",
   "mimetype": "text/x-python",
   "name": "python",
   "nbconvert_exporter": "python",
   "pygments_lexer": "ipython3",
   "version": "3.8.8"
  }
 },
 "nbformat": 4,
 "nbformat_minor": 4
}
