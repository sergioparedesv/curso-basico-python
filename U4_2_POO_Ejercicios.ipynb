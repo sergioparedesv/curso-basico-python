{
 "cells": [
  {
   "cell_type": "markdown",
   "metadata": {},
   "source": [
    "# Desarrolloa los siguientes ejercicios utilizando los conceptos de POO"
   ]
  },
  {
   "cell_type": "markdown",
   "metadata": {},
   "source": [
    "1.Creana clase **\"vehículo\"**, Luego define algunos **atributos(características)** que tengan ejemplo **Tipo, Color, Marca, Modelo, Placa,** y luego los métodos(acciones) que pueda tener, estos son `acelerar() frenar()` ."
   ]
  },
  {
   "cell_type": "markdown",
   "metadata": {},
   "source": [
    "<div style=\"background: #A8EBBB; padding: 20px; border: 1px solid #006699;\">\n",
    "    <h4>Finalmente accederemos al atributo color y a su método frenar:</h4>\n",
    "    <p>Rojo</p>\n",
    "    <p>El vehículo está frenando</p>\n",
    "</div>"
   ]
  },
  {
   "cell_type": "code",
   "execution_count": null,
   "metadata": {},
   "outputs": [],
   "source": [
    "\n",
    "\n",
    "        "
   ]
  },
  {
   "cell_type": "markdown",
   "metadata": {},
   "source": [
    "2. Tenemos un salón con **(n) alumnos**, cada uno de ellos pasa un argumento arbitrario donde el primer dato es el nombre y los siguientes cinco datos son sus notas. Realiza un programa que pueda extraer de la **tupla** el nombre y luego las notas, una vez tenga las notas, cree el método **calcular_promedio**, finalmente reporte el nombre del estudiante con su calificación promedio."
   ]
  },
  {
   "cell_type": "markdown",
   "metadata": {},
   "source": [
    "<div style=\"background: #A8EBBB; padding: 20px; border: 1px solid #006699;\">\n",
    "    <h4>Resultado</h4>\n",
    "    <p>Su nombre es Sergio y su promedio es 5.0</p>\n",
    "</div>"
   ]
  },
  {
   "cell_type": "code",
   "execution_count": null,
   "metadata": {},
   "outputs": [],
   "source": [
    "class Notas:\n",
    "    def __init__(self, nombre, *notas):\n",
    "        self.nombre = nombre\n",
    "        self.notas = notas\n",
    "    \n",
    "    def calcular_promedio(self):\n",
    "        return (sum(self.notas)/5)\n",
    "    \n",
    "notas = Notas(\"Sergio\",4,5,6,3,7)\n",
    "print(f'Su nombre es {notas.nombre} y su promedio es {notas.calcular_promedio()}')"
   ]
  },
  {
   "cell_type": "markdown",
   "metadata": {},
   "source": [
    "#### Reutilización\n",
    "\n",
    "3. Ahora crea una clase **conductor**, esta clase tendrá como atributos el **nombre del conductor, el vehículo que conduce, el punto de partida y el punto de llegada** al que debe ir el conductor, además tendrá un método llamado **conducir** que llama a otros métodos privados dentro de la clase que serán: **encender el auto, acelerar, mantener velocidad constante y frenar**.\n",
    "\n"
   ]
  },
  {
   "cell_type": "markdown",
   "metadata": {},
   "source": [
    "<div style=\"background: #A8EBBB; padding: 20px; border: 1px solid #006699;\">\n",
    "    <h4>Resultado</h4>\n",
    "    <p>El conductor Laura, lo llevará de la dirección Cr 33 #22-36 al Centro comercial Monterrey</p>\n",
    "    <p>Enciente el Auto</p>\n",
    "    <p>Acelera</p>\n",
    "    <p>Mantiene su velocidad constante</p>\n",
    "    <p>Frena</p>\n",
    "</div>"
   ]
  },
  {
   "cell_type": "code",
   "execution_count": null,
   "metadata": {},
   "outputs": [],
   "source": []
  },
  {
   "cell_type": "markdown",
   "metadata": {},
   "source": [
    "#### Encapsulamiento\n",
    "\n",
    "4.Nos pondremos en el papel de un programador de Facebook, nuestro deber es crear una **clase que defina los datos de un usuario**, algunos de esos datos como su correo y contraseña serán privados, uno de esos métodos también será privado, por ejemplo **cerrar tu cuenta de Facebook**, una vez los encapsulemos, crearemos una forma de invocarlos."
   ]
  },
  {
   "cell_type": "code",
   "execution_count": null,
   "metadata": {},
   "outputs": [],
   "source": [
    "\n",
    "\n"
   ]
  },
  {
   "cell_type": "markdown",
   "metadata": {},
   "source": [
    "5. Tenemos tres clases, una es la **clase Usuario**, otra es la **clase Estudiante** y finalmente la **clase Profesor**, la clase usuario recibe atributos como:\n",
    "\n",
    "<hr>\n",
    "\n",
    "**Clase usuario**\n",
    "\n",
    "**username(nombre de usuario), _password(contraseña)** y **correo_electronico(email)**, adicionalmente tiene el método de **logout()****(cerrar sesión)** y **recent activities()**(actividades recientes).\n",
    "\n",
    "<hr>\n",
    "\n",
    "**Clase estudiante** que hereda de la **clase Usuario**\n",
    "\n",
    "Ahora tenemos que crear una clase **Estudiante** que además agregue el atributo de semestre en el que se encuentra y dos métodos más **_cancelar_materia()**, **ingresar_al_aula_virtual()** y herede de la clase usuario.\n",
    "\n",
    "<hr>\n",
    "\n",
    "**Clase Profesor**, que hereda de la **clase Usuario**\n",
    "\n",
    "Esta clase debe tener los atributos de **cursos_asignados** y el método de **_subir_calificaciones**\n",
    "\n",
    "<hr>\n",
    "\n",
    "Recuerdea que el guion **abajo(_)** significa que la clase es privada, debes dejarla accesible."
   ]
  },
  {
   "cell_type": "code",
   "execution_count": null,
   "metadata": {},
   "outputs": [],
   "source": [
    "\n",
    "\n",
    "\n"
   ]
  },
  {
   "cell_type": "markdown",
   "metadata": {},
   "source": [
    "6. Asumiremos el rol de ingenieros en Rappi, tendremos que reutilizar la clase que calcula la distancia entre dos puntos en un plano cartesiano **cada unidad en el plano representa 1 km**, luego creamos otra clase que nos calcule el tiempo promedio en el que un mensajero demoraría en llegar, si consideramos que la velocidad promedio de una bicicleta es **12 km/ hora.**"
   ]
  },
  {
   "cell_type": "code",
   "execution_count": null,
   "metadata": {},
   "outputs": [],
   "source": [
    "\n",
    "\n",
    "\n"
   ]
  },
  {
   "cell_type": "markdown",
   "metadata": {},
   "source": [
    "7. Extendiendo el concepto de herencia a vehículos, lo aplicaremos a **Bicicletas, Motos, Aviones,** indicando los nuevos atributos, los cambios en atributos y los nuevos métodos, como el **método volar.**"
   ]
  },
  {
   "cell_type": "code",
   "execution_count": null,
   "metadata": {},
   "outputs": [],
   "source": [
    "\n",
    "\n",
    "\n"
   ]
  },
  {
   "cell_type": "markdown",
   "metadata": {},
   "source": [
    "8. **Polimorfismo**: Crea una clase **Familia**, de la que tú, como persona, heredas atributos y métodos, uno de esos métodos será **idiomas_que_hablamos**, luego crearas la clase **Yo**, que te representa, esta clase está ganando habilidades, luego agrega que esta clase tiene un nuevo idioma y ese es Inglés, luego haz que se imprima."
   ]
  },
  {
   "cell_type": "code",
   "execution_count": null,
   "metadata": {},
   "outputs": [],
   "source": [
    "\n",
    "\n"
   ]
  },
  {
   "cell_type": "markdown",
   "metadata": {},
   "source": [
    "9. Realizar una clase que administre una agenda. Se debe almacenar para cadacontacto **el nombre, el teléfono y el emai**.\n",
    "\n",
    ">Añadir contacto\n",
    "\n",
    ">Lista de contactos\n",
    "\n",
    ">Buscar contacto\n",
    "\n",
    ">Editar contacto\n",
    "\n",
    ">Cerrar agenda"
   ]
  },
  {
   "cell_type": "code",
   "execution_count": null,
   "metadata": {},
   "outputs": [],
   "source": [
    "\n",
    "\n"
   ]
  },
  {
   "cell_type": "markdown",
   "metadata": {},
   "source": [
    "10. Desarrolla un programa que conste de una clase padre **Cuenta** y dos subclases **PlazoFijo** y **CajaAhorro**. Define los atributos \"titular\" y \"cantidad\", y un método para imprimir los datos en la clase \"Cuenta\". La clase **CajaAhorro** tendrá un método para heredar los datos y uno para mostrar la información.\n",
    "\n",
    "La clase **PlazoFijo** tendrá dos atributos propios, \"plazo\" e \"interés\". Tendrá un método para obtener el importe del interés **(cantidad*interés/100)** y otro método para mostrar la información, datos del **titular, plazo, interés y total de interés.**\n",
    "\n",
    "Crea al menos un objeto de cada subclase.\n",
    "*Clase padre y subclases es otra forma de referirnos a las clases que heredan. "
   ]
  },
  {
   "cell_type": "code",
   "execution_count": null,
   "metadata": {},
   "outputs": [],
   "source": [
    "\n",
    "\n"
   ]
  }
 ],
 "metadata": {
  "kernelspec": {
   "display_name": "Python 3",
   "language": "python",
   "name": "python3"
  },
  "language_info": {
   "codemirror_mode": {
    "name": "ipython",
    "version": 3
   },
   "file_extension": ".py",
   "mimetype": "text/x-python",
   "name": "python",
   "nbconvert_exporter": "python",
   "pygments_lexer": "ipython3",
   "version": "3.8.8"
  }
 },
 "nbformat": 4,
 "nbformat_minor": 4
}
