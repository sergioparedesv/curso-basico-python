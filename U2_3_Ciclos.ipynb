{
 "cells": [
  {
   "cell_type": "markdown",
   "metadata": {},
   "source": [
    "## Estructuras de Control  1.1"
   ]
  },
  {
   "cell_type": "markdown",
   "metadata": {},
   "source": [
    "# Ciclos en Python\n",
    "\n"
   ]
  },
  {
   "cell_type": "markdown",
   "metadata": {},
   "source": [
    "Se conoce como <b>ciclos o bucles</b> en programación, a las secuencias de instrucciones de código que se ejecutan repetidamente, hasta que la condición asignada se cumpla."
   ]
  },
  {
   "cell_type": "markdown",
   "metadata": {},
   "source": [
    "<b>Por ejemplo</b>, si queremos llevar una secuencia de números que se incremente, podemos utilizar esta pieza:"
   ]
  },
  {
   "cell_type": "markdown",
   "metadata": {},
   "source": [
    "<div id=\"a\" class=\"jumbotron jumbotron-fluid\">\n",
    "  <div class=\"container\">\n",
    "    <h1 class=\"display-4\">Miremos un ciclo famoso</h1>\n",
    "    <p class=\"lead\">Python es un lenguaje de programación multiparadigma que soporta programación orientada a objetos, programación imperativa y programación lineal, es un lenguaje interpretado y multiplataforma.</p>\n",
    "    <img src=\"img/escalera.jpg\">\n",
    "  </div>\n",
    "</div>"
   ]
  },
  {
   "cell_type": "code",
   "execution_count": null,
   "metadata": {},
   "outputs": [],
   "source": [
    "#Como puedes ver, conseguimos hacer una secuencia con 7 líneas de código.\n",
    "var = 0;\n",
    "var = var +2;\n",
    "var = var +2;\n",
    "var = var +2;\n",
    "var = var +2;\n",
    "var = var +2;\n",
    "print(\"La variable ahora tiene el valor :\",var)"
   ]
  },
  {
   "cell_type": "markdown",
   "metadata": {},
   "source": [
    "<b>¿Por qué utilizamos ciclos?</b>: El código anterior puede ser abreviado mediante ciclos de la siguinte forma con los ciclos <b>*while, do while, for*.</b>"
   ]
  },
  {
   "cell_type": "code",
   "execution_count": null,
   "metadata": {},
   "outputs": [],
   "source": [
    "#Como puedes ver, conseguimos hacer una secuencia con 7 líneas de código.\n",
    "i = 0\n",
    "while i < 10:\n",
    "  i += 2\n",
    "print(\"La variable ahora tiene el valor :\",i)"
   ]
  },
  {
   "cell_type": "code",
   "execution_count": null,
   "metadata": {},
   "outputs": [],
   "source": []
  },
  {
   "cell_type": "code",
   "execution_count": null,
   "metadata": {},
   "outputs": [],
   "source": [
    "#Como puedes ver, conseguimos hacer una secuencia con 11 líneas de código.\n",
    "var = 0;\n",
    "var = var +2;\n",
    "print(\"La variable ahora tiene el valor :\",var)\n",
    "var = var +2;\n",
    "print(\"La variable ahora tiene el valor :\",var)\n",
    "var = var +2;\n",
    "print(\"La variable ahora tiene el valor :\",var)\n",
    "var = var +2;\n",
    "print(\"La variable ahora tiene el valor :\",var)\n",
    "var = var +2;\n",
    "print(\"La variable ahora tiene el valor :\",var)"
   ]
  },
  {
   "cell_type": "code",
   "execution_count": null,
   "metadata": {},
   "outputs": [],
   "source": [
    "#Como puedes ver, conseguimos hacer una secuencia con 4 líneas de código.\n",
    "i = 0\n",
    "while i < 10:\n",
    "  i += 2\n",
    "  print(\"La variable ahora tiene el valor :\",i)"
   ]
  },
  {
   "cell_type": "markdown",
   "metadata": {},
   "source": [
    "<b>¿Ahora entiendes por qué utilizamos ciclos?</b> \n",
    "\n",
    "A continuación explica: ¿por qué son necesesarios los ciclos?"
   ]
  },
  {
   "cell_type": "markdown",
   "metadata": {},
   "source": [
    "# Trabajando con loops o Ciclos en Python"
   ]
  },
  {
   "cell_type": "markdown",
   "metadata": {},
   "source": [
    "Muy bien, la vida esta llena de ciclos.\n",
    "\n",
    ">ciclos del agua\n",
    "\n",
    ">ciclos del reciclaje\n",
    "\n",
    ">ciclo lunar\n",
    "\n",
    ">ciclo planetario\n",
    "\n",
    "Por ejemplo miremos el ciclo"
   ]
  },
  {
   "cell_type": "markdown",
   "metadata": {},
   "source": [
    "<img src=\"img/ciclo-reciclaje-botellas.jpg\" width=\"600px\">"
   ]
  },
  {
   "cell_type": "markdown",
   "metadata": {},
   "source": [
    "## 2.CICLO WHILE"
   ]
  },
  {
   "cell_type": "markdown",
   "metadata": {},
   "source": [
    "<p>Al ejecutar el siguiente ciclo, notaremos que algo extraño ocurre, podemos probar nuestra herramienta. </p>\n",
    "\n",
    "<p>Recordemos que en esta herramienta podemos encontrar: <a href=\"http://www.pythontutor.com/visualize.html#mode=edit\"  target=\"_blank\"><b>Python tutor</b></a></p>\n"
   ]
  },
  {
   "cell_type": "code",
   "execution_count": null,
   "metadata": {},
   "outputs": [],
   "source": [
    "suma = 0 #Declaramos una variable suma\n",
    "numero = 1 #Declaramos un número de inicio del ciclo\n",
    "while numero <= 10: #La suma se ejecutará los primeros 10 números\n",
    "    suma = numero + suma #Hacemos la suma y la guardamos\n",
    "    numero = numero + 1 #Aumentamos el contador para evitar que el bucle sea infinito\n",
    "print (\"La suma es \" + str(suma)) #Imprimimos y cambiamos la suma a String"
   ]
  },
  {
   "cell_type": "code",
   "execution_count": null,
   "metadata": {},
   "outputs": [],
   "source": [
    "#¿Qué crees que va a pasar?\n",
    "\n",
    "variable = 10\n",
    "while variable > 0:\n",
    "    print ('Actual valor de variable:', variable)\n",
    "    variable = variable -1\n",
    "    if variable == 5:\n",
    "        break #Esta es otra forma de romper un ciclo, cuando se cumple una condición."
   ]
  },
  {
   "cell_type": "code",
   "execution_count": null,
   "metadata": {},
   "outputs": [],
   "source": [
    "#Similar pero con la sentencia (continue)\n",
    "\n",
    "variable = 10\n",
    "while variable > 0:              \n",
    "   variable = variable -1\n",
    "   if variable == 5:\n",
    "      continue #evita que el ciclo se rompa\n",
    "   print ('Actual valor de variable:', variable)"
   ]
  },
  {
   "cell_type": "markdown",
   "metadata": {},
   "source": [
    "Hay que tener presentes que los ciclos no solo son númericos, al final se trata de recorrer cadenas."
   ]
  },
  {
   "cell_type": "code",
   "execution_count": null,
   "metadata": {},
   "outputs": [],
   "source": [
    "i=0\n",
    "s=\"Problematico\"\n",
    "while not(s[i] in \"aeiouAEIOUáéíóúÁÉÍÓÚ\"):\n",
    "    print(s[i])\n",
    "    i=i+1"
   ]
  },
  {
   "cell_type": "markdown",
   "metadata": {},
   "source": [
    "#### Ciclo FOR, el ciclo for en Python va de 1 valor en 1 valor, según el rango."
   ]
  },
  {
   "cell_type": "code",
   "execution_count": null,
   "metadata": {},
   "outputs": [],
   "source": [
    "#Vamos a examinar el bucle for\n",
    "for i in range (10):\n",
    "    print(i)"
   ]
  },
  {
   "cell_type": "code",
   "execution_count": null,
   "metadata": {},
   "outputs": [],
   "source": [
    "#Vamos a examinar el bucle for\n",
    "list = [2,3,4,5] #Creamos una lista\n",
    "n=5 #Creamos una variable que definirá el tamaño de for\n",
    "for i in range (n): #(i) se inicializa en 0 y va hasta 4\n",
    "    list.append(i) #agrega (i) a la lista o vector\n",
    "    \n",
    "print (list) #imprime la lista o vector"
   ]
  },
  {
   "cell_type": "markdown",
   "metadata": {},
   "source": [
    "En este ejercicio haremos un juego de arreglos para crear un vector nuevo fucionado con otro."
   ]
  },
  {
   "cell_type": "code",
   "execution_count": null,
   "metadata": {},
   "outputs": [],
   "source": [
    "#Vamos a examinar el bucle for\n",
    "planetas = [\"Mercurio\",\"Venus\",\"Tierra\",\"Marte\",\"Júpiter\",\"Saturno\",\"Urano\",\"Neptuno\",\"Plutón\"] #lista de los planetas\n",
    "planetas_indexados = [] #Vector de planetas unidos con númro\n",
    "for i in range (len(planetas)): #(i) se inicializa en 1 y terminara en el número del vector\n",
    "    concatenar_indice_numero = str(i+1)+\". \"+planetas[i]#Crearemos una variable que integre los string\n",
    "    planetas_indexados.append(concatenar_indice_numero) #agrega la concatenación a los planetas indexados\n",
    "\n",
    "print (planetas) #imprime la lista o vector\n",
    "print (planetas_indexados) #imprime la lista o vector"
   ]
  },
  {
   "cell_type": "code",
   "execution_count": null,
   "metadata": {},
   "outputs": [],
   "source": [
    "#¿Qué crees que va a pasar si lo ejecutas?\n",
    "s = \"saludo, ¿cómo están?\"\n",
    "for caracter in  s:\n",
    "    if caracter == \"aeiou\":\n",
    "        break\n",
    "    print(caracter)"
   ]
  },
  {
   "cell_type": "code",
   "execution_count": null,
   "metadata": {},
   "outputs": [],
   "source": [
    "for i in range(5):\n",
    "    print(i)"
   ]
  },
  {
   "cell_type": "markdown",
   "metadata": {},
   "source": [
    "Tenemos que comprender en más profundidad los for y los rangos, por ejemplo, dentro de los rangos existen tres variables *range* (*start, stop, step*), la traducción seria rango (inicio,detener,pasos).\n",
    "\n",
    "   Por ejemplo, queremos hacer una lista que nos muestre los resultados de la tabla del 3.\n"
   ]
  },
  {
   "cell_type": "code",
   "execution_count": null,
   "metadata": {},
   "outputs": [],
   "source": [
    "print(\"Tabla del 3\")\n",
    "print(1) #Imprimiremos el primer número\n",
    "for i in range(3,30+1,3):#Start: inicia en 3, Stop: se detiene en 30+1, Step: va de 3 en 3\n",
    "    print(i)"
   ]
  },
  {
   "cell_type": "markdown",
   "metadata": {},
   "source": [
    "Hemos recorrido cadenas de caracteres y vectores, ¿podremos recorrer diccionarios?"
   ]
  },
  {
   "cell_type": "code",
   "execution_count": null,
   "metadata": {},
   "outputs": [],
   "source": [
    "pokedex = {\n",
    "1:\"Bulbasaur\",\n",
    "2:\"Ivysaur\",\n",
    "3:\"Venusaur\",\n",
    "4:\"Charmander\",\n",
    "5:\"Charmeleon\",\n",
    "6:\"Carizard\"\n",
    "}\n",
    "\n",
    "print(pokedex)"
   ]
  },
  {
   "cell_type": "code",
   "execution_count": null,
   "metadata": {},
   "outputs": [],
   "source": [
    "for i in range(1,6,2):\n",
    "    print(pokedex[i])"
   ]
  },
  {
   "cell_type": "markdown",
   "metadata": {},
   "source": [
    "O simplemente podemos recorrer la *pokedex* y encontrar los pokemones impares.\n",
    "\n",
    "Podemos ejecutarlo de esta forma:"
   ]
  },
  {
   "cell_type": "code",
   "execution_count": null,
   "metadata": {},
   "outputs": [],
   "source": [
    "for i in pokedex:\n",
    "    if i % 2:\n",
    "        print(pokedex[i])"
   ]
  },
  {
   "cell_type": "markdown",
   "metadata": {},
   "source": [
    "## Ciclos anidados"
   ]
  },
  {
   "cell_type": "markdown",
   "metadata": {},
   "source": [
    "Naturalmente podemos hacer ciclos anidados. Vamos a intentar hacer el primero:\n",
    "\n",
    "Este representara un reloj en la que una alarma escrita nos imprimirá un mensaje cada 30 minutos indicando la hora."
   ]
  },
  {
   "cell_type": "markdown",
   "metadata": {},
   "source": [
    "<img src=\"img/reloj-2.gif\" width=\"200px\">"
   ]
  },
  {
   "cell_type": "code",
   "execution_count": null,
   "metadata": {},
   "outputs": [],
   "source": [
    "for i in range (0,24):\n",
    "    for j in range(0,30+1,30):\n",
    "        if j == 0:\n",
    "            pass #La palabra Pass significa que en esta línea no se ejecutará nada y la puedes dejar vacía\n",
    "        else:\n",
    "            if i < 12:\n",
    "                print(\"La hora es\",i,\":\",j,\"am\")\n",
    "            else:\n",
    "                print(\"La hora es\",i,\":\",j,\"pm\")"
   ]
  },
  {
   "cell_type": "markdown",
   "metadata": {},
   "source": [
    "#### Pass\n",
    "\n",
    "La sentencia *pass* no hace nada. Se puede usar cuando una sentencia es requerida por la sintáxis pero el programa no\n",
    "requiere ninguna acción. Por ejemplo:"
   ]
  },
  {
   "cell_type": "markdown",
   "metadata": {
    "collapsed": true
   },
   "source": [
    "   ¿Para qué se usa? \n",
    "   Usualmente en clases o funciones que deben ser declaradas, pero que no tienen ninguna ejecucción."
   ]
  },
  {
   "cell_type": "code",
   "execution_count": null,
   "metadata": {},
   "outputs": [],
   "source": [
    "while True:\n",
    "    pass"
   ]
  },
  {
   "cell_type": "markdown",
   "metadata": {},
   "source": [
    "### Biografía\n",
    "\n",
    "http://www.python.org.ar/aprendiendo-python/\n",
    "\n",
    "http://librosweb.es/libro/python/\n",
    "\n",
    "https://www.codecademy.com/es/tracks/python-traduccion-al-espanol-america-latina-clone-1\n",
    "\n",
    "http://www.scipy-lectures.org/\n",
    "\n",
    "https://docs.python.org\n",
    "\n",
    "https://www.mclibre.org/consultar/python/lecciones/python-for.html#:~:text=En%20general%2C%20un%20bucle%20es,repetici%C3%B3n%20se%20suele%20llamar%20iteraci%C3%B3n.\n"
   ]
  },
  {
   "cell_type": "code",
   "execution_count": null,
   "metadata": {},
   "outputs": [],
   "source": []
  }
 ],
 "metadata": {
  "anaconda-cloud": {},
  "kernelspec": {
   "display_name": "Python 3",
   "language": "python",
   "name": "python3"
  },
  "language_info": {
   "codemirror_mode": {
    "name": "ipython",
    "version": 3
   },
   "file_extension": ".py",
   "mimetype": "text/x-python",
   "name": "python",
   "nbconvert_exporter": "python",
   "pygments_lexer": "ipython3",
   "version": "3.7.6"
  }
 },
 "nbformat": 4,
 "nbformat_minor": 1
}
