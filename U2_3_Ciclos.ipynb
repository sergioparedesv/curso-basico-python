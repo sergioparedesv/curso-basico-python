{
 "cells": [
  {
   "cell_type": "markdown",
   "metadata": {},
   "source": [
    "## Estructuras de Control  1.1"
   ]
  },
  {
   "cell_type": "markdown",
   "metadata": {},
   "source": [
    "# Ciclos en Python\n",
    "\n"
   ]
  },
  {
   "cell_type": "markdown",
   "metadata": {},
   "source": [
    "Se conoce como <b>ciclos o bucles</b> en programación, a una secuencias de instrucciones de código que se ejecuta repetidamente, hasta que la condición asignada se cumpla."
   ]
  },
  {
   "cell_type": "markdown",
   "metadata": {},
   "source": [
    "<b>Por ejemplo</b>, si queremos llevar una secuencia de números que se incremente, podemos utilizar esta pieza."
   ]
  },
  {
   "cell_type": "markdown",
   "metadata": {},
   "source": [
    "<div id=\"a\" class=\"jumbotron jumbotron-fluid\">\n",
    "  <div class=\"container\">\n",
    "    <h1 class=\"display-4\">Miremos un ciclo famoso</h1>\n",
    "    <p class=\"lead\">Python es un lenguaje de programación multiparadigma que soporta programación orientada a objetos, programación imperativa y programación lineal, es un lenguaje interpretado y multiplataforma.</p>\n",
    "    <img src=\"img/escalera.jpg\">\n",
    "  </div>\n",
    "</div>"
   ]
  },
  {
   "cell_type": "code",
   "execution_count": 7,
   "metadata": {},
   "outputs": [
    {
     "name": "stdout",
     "output_type": "stream",
     "text": [
      "La variable ahora tiene el valor : 10\n"
     ]
    }
   ],
   "source": [
    "#Cómo puedes ver, conseguimos hacer una secuencia con 7 lineas de código.\n",
    "var = 0;\n",
    "var = var +2;\n",
    "var = var +2;\n",
    "var = var +2;\n",
    "var = var +2;\n",
    "var = var +2;\n",
    "print(\"La variable ahora tiene el valor :\",var)"
   ]
  },
  {
   "cell_type": "markdown",
   "metadata": {},
   "source": [
    "<b>¿Por qué utilizamos ciclos?</b>: El código anterior puede ser abreviado mediante ciclos de la siguinte forma con los ciclos <b>while, do while, for.</b>"
   ]
  },
  {
   "cell_type": "code",
   "execution_count": 8,
   "metadata": {},
   "outputs": [
    {
     "name": "stdout",
     "output_type": "stream",
     "text": [
      "La variable ahora tiene el valor : 10\n"
     ]
    }
   ],
   "source": [
    "#Cómo puedes ver, conseguimos hacer una secuencia con 7 lineas de código.\n",
    "i = 0\n",
    "while i < 10:\n",
    "  i += 2\n",
    "print(\"La variable ahora tiene el valor :\",i)"
   ]
  },
  {
   "cell_type": "code",
   "execution_count": null,
   "metadata": {},
   "outputs": [],
   "source": []
  },
  {
   "cell_type": "code",
   "execution_count": 8,
   "metadata": {},
   "outputs": [
    {
     "name": "stdout",
     "output_type": "stream",
     "text": [
      "La variable ahora tiene el valor : 2\n",
      "La variable ahora tiene el valor : 4\n",
      "La variable ahora tiene el valor : 6\n",
      "La variable ahora tiene el valor : 8\n",
      "La variable ahora tiene el valor : 10\n"
     ]
    }
   ],
   "source": [
    "#Cómo puedes ver, conseguimos hacer una secuencia con 11 lineas de código.\n",
    "var = 0;\n",
    "var = var +2;\n",
    "print(\"La variable ahora tiene el valor :\",var)\n",
    "var = var +2;\n",
    "print(\"La variable ahora tiene el valor :\",var)\n",
    "var = var +2;\n",
    "print(\"La variable ahora tiene el valor :\",var)\n",
    "var = var +2;\n",
    "print(\"La variable ahora tiene el valor :\",var)\n",
    "var = var +2;\n",
    "print(\"La variable ahora tiene el valor :\",var)"
   ]
  },
  {
   "cell_type": "code",
   "execution_count": 7,
   "metadata": {},
   "outputs": [
    {
     "name": "stdout",
     "output_type": "stream",
     "text": [
      "La variable ahora tiene el valor : 2\n",
      "La variable ahora tiene el valor : 4\n",
      "La variable ahora tiene el valor : 6\n",
      "La variable ahora tiene el valor : 8\n",
      "La variable ahora tiene el valor : 10\n"
     ]
    }
   ],
   "source": [
    "#Cómo puedes ver, conseguimos hacer una secuencia con 4 lineas de código.\n",
    "i = 0\n",
    "while i < 10:\n",
    "  i += 2\n",
    "  print(\"La variable ahora tiene el valor :\",i)"
   ]
  },
  {
   "cell_type": "markdown",
   "metadata": {},
   "source": [
    "<b>¿Si entiendes por que utilizamos ciclos?</b> Bien a continuación, explica por qué son necesesarios los ciclos."
   ]
  },
  {
   "cell_type": "markdown",
   "metadata": {},
   "source": [
    "# Trabajando con loops o Ciclos en Python"
   ]
  },
  {
   "cell_type": "markdown",
   "metadata": {},
   "source": [
    "*Imagen del ciclo del agua"
   ]
  },
  {
   "cell_type": "markdown",
   "metadata": {},
   "source": [
    "*Imagen del ciclo del reciclaje"
   ]
  },
  {
   "cell_type": "markdown",
   "metadata": {},
   "source": [
    "## 2.CICLO WHILE"
   ]
  },
  {
   "cell_type": "markdown",
   "metadata": {},
   "source": [
    "<p>Ejecutemos el siguiente ciclo y podremos notar que algo extraño ocurre, podemos probar nuestro herramienta </p>\n",
    "\n",
    "<p>recordemos que en esta herramienta podemos encontrar <a href=\"http://www.pythontutor.com/visualize.html#mode=edit\"  target=\"_blank\"><b>Python tutor</b></a></p>\n"
   ]
  },
  {
   "cell_type": "code",
   "execution_count": null,
   "metadata": {},
   "outputs": [],
   "source": [
    "suma = 0 #Declaramos una variable suma\n",
    "numero = 1 #Declaramos un número de inicio del ciclo\n",
    "while numero <= 10: #La suma se ejecutara los primeros 10números\n",
    "    suma = numero + suma #Hacemos la suma y la guardamos\n",
    "    numero = numero + 1 #Aumentamos el contador para evitar que el bucle sea infinito\n",
    "print (\"La suma es \" + str(suma)) #Imprimimos y cambiamos la suma a String"
   ]
  },
  {
   "cell_type": "code",
   "execution_count": null,
   "metadata": {},
   "outputs": [],
   "source": [
    "#Qué cree que va a pasar?\n",
    "\n",
    "variable = 10\n",
    "while variable > 0:\n",
    "    print ('Actual valor de variable:', variable)\n",
    "    variable = variable -1\n",
    "    if variable == 5:\n",
    "        break #Esta es otra forma de romper un ciclo, cuando se cumple una condición"
   ]
  },
  {
   "cell_type": "code",
   "execution_count": null,
   "metadata": {},
   "outputs": [],
   "source": [
    "#Similar pero con la sentencia (continue)\n",
    "\n",
    "variable = 10\n",
    "while variable > 0:              \n",
    "   variable = variable -1\n",
    "   if variable == 5:\n",
    "      continue #evita que el ciclo se rompa\n",
    "   print ('Actual valor de variable:', variable)"
   ]
  },
  {
   "cell_type": "markdown",
   "metadata": {},
   "source": [
    "Hay que tener presentes que los ciclos no solo son númericos, al final se trata de recorrer cadenas"
   ]
  },
  {
   "cell_type": "code",
   "execution_count": null,
   "metadata": {},
   "outputs": [],
   "source": [
    "i=0\n",
    "s=\"Problematico\"\n",
    "while not(s[i] in \"aeiouAEIOUáéíóúÁÉÍÓÚ\"):\n",
    "    print(s[i])\n",
    "    i=i+1"
   ]
  },
  {
   "cell_type": "markdown",
   "metadata": {},
   "source": [
    "#### Ciclo FOR, el ciclo for en python va de 1 valor en 1 valor, segun el rango"
   ]
  },
  {
   "cell_type": "code",
   "execution_count": null,
   "metadata": {},
   "outputs": [],
   "source": [
    "#Vamos a examinar el bucle for\n",
    "for i in range (10):\n",
    "    print(i)"
   ]
  },
  {
   "cell_type": "code",
   "execution_count": null,
   "metadata": {},
   "outputs": [],
   "source": [
    "#Vamos a examinar el bucle for\n",
    "list = [2,3,4,5] #Creamos una lista\n",
    "n=5 #Creamos una variable que definira el tamaño de for\n",
    "for i in range (n): #(i) se inicializa en 0 y va hasta 4\n",
    "    list.append(i) #agrega (i) a la lista o vector\n",
    "    \n",
    "print (list) #imprime la lista o vector"
   ]
  },
  {
   "cell_type": "markdown",
   "metadata": {},
   "source": [
    "En este ejercicio haremos un juego de arreglos para crear un vector nuevo fucionado con otro."
   ]
  },
  {
   "cell_type": "code",
   "execution_count": 4,
   "metadata": {},
   "outputs": [
    {
     "name": "stdout",
     "output_type": "stream",
     "text": [
      "['Mercurio', 'Venus', 'Tierra', 'Marte', 'Jupiter', 'Saturno', 'Urano', 'Neptuno', 'Pluton']\n",
      "['1. Mercurio', '2. Venus', '3. Tierra', '4. Marte', '5. Jupiter', '6. Saturno', '7. Urano', '8. Neptuno', '9. Pluton']\n"
     ]
    }
   ],
   "source": [
    "#Vamos a examinar el bucle for\n",
    "planetas = [\"Mercurio\",\"Venus\",\"Tierra\",\"Marte\",\"Jupiter\",\"Saturno\",\"Urano\",\"Neptuno\",\"Pluton\"] #lista de los planetas\n",
    "planetas_indexados = [] #Vector de planetas unidos con númro\n",
    "for i in range (len(planetas)): #(i) se inicializa en 1 y terminara en el número del vector\n",
    "    concatenar_indice_numero = str(i+1)+\". \"+planetas[i]#Crearemos una variable que integre los string\n",
    "    planetas_indexados.append(concatenar_indice_numero) #agrega la concatenación a los planetas indexados\n",
    "\n",
    "print (planetas) #imprime la lista o vector\n",
    "print (planetas_indexados) #imprime la lista o vector"
   ]
  },
  {
   "cell_type": "code",
   "execution_count": null,
   "metadata": {},
   "outputs": [],
   "source": [
    "#Qué cree que va a pasar si lo ejecuta?\n",
    "s = \"saludo como estan\"\n",
    "for caracter in  s:\n",
    "    if caracter == \"aeiou\":\n",
    "        break\n",
    "    print(caracter)"
   ]
  },
  {
   "cell_type": "code",
   "execution_count": null,
   "metadata": {},
   "outputs": [],
   "source": [
    "for i in range(5):\n",
    "    print(i)"
   ]
  },
  {
   "cell_type": "markdown",
   "metadata": {},
   "source": [
    "Tenemos que comprender en más profundidad los for y los rangos, por ejemplo dentro de los rangos existen tres variables\n",
    "\n",
    "range(start, stop, step) la traducción seria rango(inicio,detener,pasos)\n",
    "\n",
    "por ejemplo queremos hacer una lista que nos muestre los resultados de la tabla del 3\n"
   ]
  },
  {
   "cell_type": "code",
   "execution_count": 20,
   "metadata": {},
   "outputs": [
    {
     "name": "stdout",
     "output_type": "stream",
     "text": [
      "Tabla del 3\n",
      "1\n",
      "3\n",
      "6\n",
      "9\n",
      "12\n",
      "15\n",
      "18\n",
      "21\n",
      "24\n",
      "27\n",
      "30\n"
     ]
    }
   ],
   "source": [
    "print(\"Tabla del 3\")\n",
    "print(1) #Imprimiremos el primer número\n",
    "for i in range(3,30+1,3):#Start: inicia en 3, Stop: se detiene en 30+1, Step: va de 3 en 3\n",
    "    print(i)"
   ]
  },
  {
   "cell_type": "markdown",
   "metadata": {},
   "source": [
    "¿Hemos recorrido cadenas de caracteres y vectores, podremos recorrer diccionarios?"
   ]
  },
  {
   "cell_type": "code",
   "execution_count": 10,
   "metadata": {},
   "outputs": [
    {
     "name": "stdout",
     "output_type": "stream",
     "text": [
      "{1: 'Bulbasaur', 2: 'Ivysaur', 3: 'Venusaur', 4: 'Charmander', 5: 'Charmeleon', 6: 'Carizard'}\n",
      "Charmeleon\n"
     ]
    }
   ],
   "source": [
    "pokedex = {\n",
    "1:\"Bulbasaur\",\n",
    "2:\"Ivysaur\",\n",
    "3:\"Venusaur\",\n",
    "4:\"Charmander\",\n",
    "5:\"Charmeleon\",\n",
    "6:\"Carizard\"\n",
    "}\n",
    "\n",
    "print(pokedex)"
   ]
  },
  {
   "cell_type": "code",
   "execution_count": 14,
   "metadata": {},
   "outputs": [
    {
     "name": "stdout",
     "output_type": "stream",
     "text": [
      "Bulbasaur\n",
      "Venusaur\n",
      "Charmeleon\n"
     ]
    }
   ],
   "source": [
    "for i in range(1,6,2):\n",
    "    print(pokedex[i])"
   ]
  },
  {
   "cell_type": "markdown",
   "metadata": {},
   "source": [
    "O simplemente podemos recorrer la pokedex y encontrar los pokemones impares podemos ejecutarlo de esta forma"
   ]
  },
  {
   "cell_type": "code",
   "execution_count": 29,
   "metadata": {},
   "outputs": [
    {
     "name": "stdout",
     "output_type": "stream",
     "text": [
      "Bulbasaur\n",
      "Venusaur\n",
      "Charmeleon\n"
     ]
    }
   ],
   "source": [
    "for i in pokedex:\n",
    "    if i % 2:\n",
    "        print(pokedex[i])"
   ]
  },
  {
   "cell_type": "markdown",
   "metadata": {},
   "source": [
    "## Ciclos anidados"
   ]
  },
  {
   "cell_type": "markdown",
   "metadata": {},
   "source": [
    "Naturalmente podemos hacer ciclos anidados, vamos a intentar hacer el primero, este representara un reloj en la que una alarma escrita nos imprimira un mensaje cada 30 minutos que nos indique la hora"
   ]
  },
  {
   "cell_type": "markdown",
   "metadata": {},
   "source": [
    "<img src=\"img/reloj-2.gif\" width=\"200px\">"
   ]
  },
  {
   "cell_type": "code",
   "execution_count": 35,
   "metadata": {},
   "outputs": [
    {
     "name": "stdout",
     "output_type": "stream",
     "text": [
      "La hora es 0 : 30 am\n",
      "La hora es 1 : 30 am\n",
      "La hora es 2 : 30 am\n",
      "La hora es 3 : 30 am\n",
      "La hora es 4 : 30 am\n",
      "La hora es 5 : 30 am\n",
      "La hora es 6 : 30 am\n",
      "La hora es 7 : 30 am\n",
      "La hora es 8 : 30 am\n",
      "La hora es 9 : 30 am\n",
      "La hora es 10 : 30 am\n",
      "La hora es 11 : 30 am\n",
      "La hora es 12 : 30 pm\n",
      "La hora es 13 : 30 pm\n",
      "La hora es 14 : 30 pm\n",
      "La hora es 15 : 30 pm\n",
      "La hora es 16 : 30 pm\n",
      "La hora es 17 : 30 pm\n",
      "La hora es 18 : 30 pm\n",
      "La hora es 19 : 30 pm\n",
      "La hora es 20 : 30 pm\n",
      "La hora es 21 : 30 pm\n",
      "La hora es 22 : 30 pm\n",
      "La hora es 23 : 30 pm\n"
     ]
    }
   ],
   "source": [
    "for i in range (0,24):\n",
    "    for j in range(0,30+1,30):\n",
    "        if j == 0:\n",
    "            pass #La palabra Pass significa que en esta linea no se ejecutara nada y la puedes dejar vacia\n",
    "        else:\n",
    "            if i < 12:\n",
    "                print(\"La hora es\",i,\":\",j,\"am\")\n",
    "            else:\n",
    "                print(\"La hora es\",i,\":\",j,\"pm\")"
   ]
  },
  {
   "cell_type": "markdown",
   "metadata": {},
   "source": [
    "#### Pass\n",
    "\n",
    "La sentencia pass no hace nada. Se puede usar cuando una sentencia es requerida por la sintáxis pero el programa no\n",
    "requiere ninguna acción. Por ejemplo:"
   ]
  },
  {
   "cell_type": "markdown",
   "metadata": {
    "collapsed": true
   },
   "source": [
    "¿Para qué se usa? usualmente en clases o funciones que deben ser declaradas, pero que no tienen ninguna ejecucción"
   ]
  },
  {
   "cell_type": "code",
   "execution_count": null,
   "metadata": {
    "collapsed": true
   },
   "outputs": [],
   "source": [
    "while True:\n",
    "    pass"
   ]
  },
  {
   "cell_type": "markdown",
   "metadata": {},
   "source": [
    "### Biografias\n",
    "\n",
    "http://www.python.org.ar/aprendiendo-python/\n",
    "\n",
    "http://librosweb.es/libro/python/\n",
    "\n",
    "https://www.codecademy.com/es/tracks/python-traduccion-al-espanol-america-latina-clone-1\n",
    "\n",
    "http://www.scipy-lectures.org/\n",
    "\n",
    "https://docs.python.org\n",
    "\n",
    "https://www.mclibre.org/consultar/python/lecciones/python-for.html#:~:text=En%20general%2C%20un%20bucle%20es,repetici%C3%B3n%20se%20suele%20llamar%20iteraci%C3%B3n.\n"
   ]
  }
 ],
 "metadata": {
  "anaconda-cloud": {},
  "kernelspec": {
   "display_name": "Python 3",
   "language": "python",
   "name": "python3"
  },
  "language_info": {
   "codemirror_mode": {
    "name": "ipython",
    "version": 3
   },
   "file_extension": ".py",
   "mimetype": "text/x-python",
   "name": "python",
   "nbconvert_exporter": "python",
   "pygments_lexer": "ipython3",
   "version": "3.7.6"
  }
 },
 "nbformat": 4,
 "nbformat_minor": 1
}
