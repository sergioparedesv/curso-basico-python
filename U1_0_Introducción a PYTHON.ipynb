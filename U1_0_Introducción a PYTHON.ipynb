{
  "nbformat": 4,
  "nbformat_minor": 0,
  "metadata": {
    "kernelspec": {
      "display_name": "Python 3",
      "language": "python",
      "name": "python3"
    },
    "language_info": {
      "codemirror_mode": {
        "name": "ipython",
        "version": 3
      },
      "file_extension": ".py",
      "mimetype": "text/x-python",
      "name": "python",
      "nbconvert_exporter": "python",
      "pygments_lexer": "ipython3",
      "version": "3.7.6"
    },
    "colab": {
      "name": "1-Introduccion.ipynb",
      "provenance": [],
      "collapsed_sections": [],
      "toc_visible": true
    }
  },
  "cells": [
    {
      "cell_type": "markdown",
      "metadata": {
        "id": "AM-BoTLfdLVP"
      },
      "source": [
        "# **Bienvenidos al mundo de la programación**"
      ]
    },
    {
      "cell_type": "markdown",
      "metadata": {
        "id": "JHQvh6uldLVV"
      },
      "source": [
        "<nav aria-label=\"breadcrumb\">\n",
        "  <ol class=\"breadcrumb\">\n",
        "    <li class=\"breadcrumb-item\"><a href=\"#a\">¿Qué es Python?</a></li>\n",
        "    <li class=\"breadcrumb-item\"><a href=\"#b\">Reglas de Python</a></li>\n",
        "    <li class=\"breadcrumb-item\"><a href=\"#c\">Nuestro primer programa</a></li>\n",
        "    <li class=\"breadcrumb-item\"><a href=\"#d\">Operaciones aritméticas</a></li>\n",
        "    <li class=\"breadcrumb-item\"><a href=\"#e\">Variables</a></li>\n",
        "    <li class=\"breadcrumb-item\"><a href=\"#f\">Fin</a></li>\n",
        "  </ol>\n",
        "</nav>"
      ]
    },
    {
      "cell_type": "markdown",
      "metadata": {
        "id": "v5RVH9Ce0g1U"
      },
      "source": [
        "# **Realizado por:**"
      ]
    },
    {
      "cell_type": "markdown",
      "metadata": {
        "id": "q53wOmm-z7s8"
      },
      "source": [
        "Escribe tu nombre completo, haciendo **doble clic** en este espacio para editarlo.\n",
        "\n",
        "\n",
        "---\n",
        "\n",
        "\n"
      ]
    },
    {
      "cell_type": "markdown",
      "metadata": {
        "id": "vVhiKVwBdLVW"
      },
      "source": [
        "<div id=\"a\" class=\"jumbotron jumbotron-fluid\">\n",
        "  <div class=\"container\">\n",
        "    <h1 class=\"display-4\">1. ¿Qué es Python?</h1>\n",
        "    <p class=\"lead\">Python es un lenguaje de programación multiparadigma que soporta programación orientada a objetos, programación imperativa y programación lineal, es un lenguaje interpretado y multiplataforma.</p>\n",
        "  </div>\n",
        "</div>"
      ]
    },
    {
      "cell_type": "markdown",
      "metadata": {
        "id": "_wPSHU0gdLVX"
      },
      "source": [
        "<div  id=\"b\" class=\"jumbotron jumbotron-fluid\">\n",
        "  <div class=\"container\">\n",
        "    <h1 class=\"display-4\">2. Reglas de Python</h1>\n",
        "    <p class=\"lead\">\n",
        "   <ul class=\"list-group\">\n",
        "  <li class=\"list-group-item\"><b>Evitar espacios blancos extras</b></li>\n",
        "  <li class=\"list-group-item\">Comentarios en una línea (#Comentario de una línea) </li>\n",
        "  <li class=\"list-group-item\">Comentarios en múltiples líneas  (\"\"\"Comentario multilínea líneas\"\"\")</li>\n",
        "  <li class=\"list-group-item\">Docstrings ('''Esta herramienta se utiliza para ayudar a documentar las multilíneas de funciones, módulos, clases y métodos.''')</li>\n",
        "  <li class=\"list-group-item\">Identación: La identación es un término que hace referencia en darle jerarquía al código.</li>\n",
        "</ul></p>\n",
        "  </div>\n",
        "</div>"
      ]
    },
    {
      "cell_type": "markdown",
      "metadata": {
        "id": "rg7ULUe4dLVX"
      },
      "source": [
        "<div  id=\"c\" class=\"jumbotron jumbotron-fluid\">\n",
        "  <div class=\"container\">\n",
        "    <h1 class=\"display-4\">3. Escribe tu primer programa</h1>\n",
        "    <p class=\"lead\">En la celda de abajo escribe lo siguiente:</p>\n",
        "    <p class=\"lead\">print('Hola mundo')</p>\n",
        "    <p class=\"lead\">Luego y estando sobre la celda le dará clic a <b>(Run)</b> <img src=\"https://problemsolvingwithpython.com/02-Jupyter-Notebooks/images/run_cell.png\"></p>\n",
        "  </div>\n",
        "</div>"
      ]
    },
    {
      "cell_type": "code",
      "metadata": {
        "id": "bbD0QUy8dLVX",
        "outputId": "42608444-ce57-43a8-e9cf-95c6bf22078a"
      },
      "source": [
        "print(\"Hola Mundo\")"
      ],
      "execution_count": null,
      "outputs": [
        {
          "output_type": "stream",
          "text": [
            "Hola Mundo\n"
          ],
          "name": "stdout"
        }
      ]
    },
    {
      "cell_type": "code",
      "metadata": {
        "colab": {
          "base_uri": "https://localhost:8080/"
        },
        "id": "SoBaF1bydr8A",
        "outputId": "afb009fb-2dbf-4d2c-9418-067374f92de0"
      },
      "source": [
        "a = 5\n",
        "b = 4\n",
        "resultado = a+b\n",
        "print(resultado)"
      ],
      "execution_count": null,
      "outputs": [
        {
          "output_type": "stream",
          "text": [
            "9\n"
          ],
          "name": "stdout"
        }
      ]
    },
    {
      "cell_type": "code",
      "metadata": {
        "id": "HGhRwz0MhbFj"
      },
      "source": [
        "from google.colab import drive\n",
        "drive.mount('/content/drive')"
      ],
      "execution_count": null,
      "outputs": []
    },
    {
      "cell_type": "code",
      "metadata": {
        "id": "rnncUX5Ld3O5"
      },
      "source": [
        ""
      ],
      "execution_count": null,
      "outputs": []
    },
    {
      "cell_type": "markdown",
      "metadata": {
        "id": "tz9cBZUpdLVZ"
      },
      "source": [
        "<div class=\"alert alert-success\" role=\"alert\">\n",
        "  Perfecto, es hora de que saludes a una personaje que te gustaría, en mi caso escogere a <b>Messi</b>\n",
        "</div>"
      ]
    },
    {
      "cell_type": "markdown",
      "metadata": {
        "id": "goKOjBHrdLVZ"
      },
      "source": [
        "### Ejemplo"
      ]
    },
    {
      "cell_type": "code",
      "metadata": {
        "id": "BJWq-U4QdLVZ",
        "outputId": "021b8fbb-5634-4343-a4b8-e35c00780ac0"
      },
      "source": [
        "print(\"Hola Messi\") #Perfecto, da clic en Run y observa lo que ocurre."
      ],
      "execution_count": null,
      "outputs": [
        {
          "output_type": "stream",
          "text": [
            "Hola Messi\n"
          ],
          "name": "stdout"
        }
      ]
    },
    {
      "cell_type": "markdown",
      "metadata": {
        "id": "428c85DGdLVZ"
      },
      "source": [
        "Por qué el contenido del (#Perfecto, haz clic en Run y observa lo que ocurre.) naturalmente los comentarios son solo para los desarrolladores los usuarios finales no pueden verlos."
      ]
    },
    {
      "cell_type": "code",
      "metadata": {
        "id": "0DsXI9sndLVa",
        "colab": {
          "base_uri": "https://localhost:8080/",
          "height": 52
        },
        "outputId": "5acb3778-a18c-46d3-d73c-01095821950a"
      },
      "source": [
        "print(\"Hola Sendaya\") \n",
        "'''Pero este sí?, realmente no aparece para el usuario final, solo para el programador'''"
      ],
      "execution_count": 1,
      "outputs": [
        {
          "output_type": "stream",
          "text": [
            "Hola Sendaya\n"
          ],
          "name": "stdout"
        },
        {
          "output_type": "execute_result",
          "data": {
            "application/vnd.google.colaboratory.intrinsic+json": {
              "type": "string"
            },
            "text/plain": [
              "'Pero este sí?, realmente no aparece para el usuario final, solo para el programador'"
            ]
          },
          "metadata": {
            "tags": []
          },
          "execution_count": 1
        }
      ]
    },
    {
      "cell_type": "markdown",
      "metadata": {
        "id": "IY--Cbtefxxb"
      },
      "source": [
        ""
      ]
    },
    {
      "cell_type": "markdown",
      "metadata": {
        "id": "PWiUtNH3dLVa"
      },
      "source": [
        "<div  id=\"d\" class=\"jumbotron jumbotron-fluid\">\n",
        "  <div class=\"container\">\n",
        "    <h1 class=\"display-4\">4. Es momento de hacer operaciones aritméticas.</h1>\n",
        "      <p class=\"lead\">En las celdas de abajo, escriba en cada una operaciones que corresponde, luego presione<b> (shit+enter)</b> para ejecutar el script:</p>\n",
        "    <p class=\"lead\">1. Suma (2+2) </p>\n",
        "    <p class=\"lead\">2. Resta (2-2) </p>\n",
        "    <p class=\"lead\">3. Multiplicación (2*3) </p>\n",
        "    <p class=\"lead\">4. Divisiones (2/2) </p>\n",
        "    <p class=\"lead\">5. Potencia (2**3) </p>\n",
        "    <p class=\"lead\">6. Raiz (4**(1/2)) </p>\n",
        "    <p class=\"lead\">7. Operaciones: 2+5*3 </p>\n",
        "    <p class=\"lead\">8. Operaciones: 2+2**4 </p>\n",
        "  </div>\n",
        "</div>"
      ]
    },
    {
      "cell_type": "markdown",
      "metadata": {
        "id": "Kf0QW7wddLVa"
      },
      "source": [
        "2+2"
      ]
    },
    {
      "cell_type": "code",
      "metadata": {
        "id": "86mpgDKIdLVb",
        "outputId": "1eb66404-9b51-4f0d-b39b-265d0d2ea652"
      },
      "source": [
        "2+2"
      ],
      "execution_count": null,
      "outputs": [
        {
          "output_type": "execute_result",
          "data": {
            "text/plain": [
              "4"
            ]
          },
          "metadata": {
            "tags": []
          },
          "execution_count": 3
        }
      ]
    },
    {
      "cell_type": "markdown",
      "metadata": {
        "id": "joNNMmn1dLVb"
      },
      "source": [
        "2-2"
      ]
    },
    {
      "cell_type": "code",
      "metadata": {
        "id": "ZoBuJK1ddLVb",
        "colab": {
          "base_uri": "https://localhost:8080/"
        },
        "outputId": "83707ce1-6aba-4f02-847e-1647aa982d63"
      },
      "source": [
        "6+8"
      ],
      "execution_count": null,
      "outputs": [
        {
          "output_type": "execute_result",
          "data": {
            "text/plain": [
              "14"
            ]
          },
          "metadata": {
            "tags": []
          },
          "execution_count": 1
        }
      ]
    },
    {
      "cell_type": "markdown",
      "metadata": {
        "id": "w-a1aHsKdLVb"
      },
      "source": [
        "2*3"
      ]
    },
    {
      "cell_type": "code",
      "metadata": {
        "id": "7vYYgAzhdLVc"
      },
      "source": [
        ""
      ],
      "execution_count": null,
      "outputs": []
    },
    {
      "cell_type": "markdown",
      "metadata": {
        "id": "RXeXJVeCdLVc"
      },
      "source": [
        "2/2"
      ]
    },
    {
      "cell_type": "code",
      "metadata": {
        "id": "fcpigpZwdLVc"
      },
      "source": [
        ""
      ],
      "execution_count": null,
      "outputs": []
    },
    {
      "cell_type": "markdown",
      "metadata": {
        "id": "ISKKwlzndLVc"
      },
      "source": [
        "2**3"
      ]
    },
    {
      "cell_type": "code",
      "metadata": {
        "id": "Ai9rqtkWdLVc"
      },
      "source": [
        ""
      ],
      "execution_count": null,
      "outputs": []
    },
    {
      "cell_type": "markdown",
      "metadata": {
        "id": "p25ks1IOdLVc"
      },
      "source": [
        "4**(1/2)"
      ]
    },
    {
      "cell_type": "code",
      "metadata": {
        "id": "4ISVqhkZdLVd"
      },
      "source": [
        "2+5*3"
      ],
      "execution_count": null,
      "outputs": []
    },
    {
      "cell_type": "markdown",
      "metadata": {
        "id": "NrOfkjukdLVd"
      },
      "source": [
        "2+5*3"
      ]
    },
    {
      "cell_type": "code",
      "metadata": {
        "id": "qsr3MP_FdLVd"
      },
      "source": [
        ""
      ],
      "execution_count": null,
      "outputs": []
    },
    {
      "cell_type": "markdown",
      "metadata": {
        "id": "41jdiMRSdLVd"
      },
      "source": [
        "2+2**4"
      ]
    },
    {
      "cell_type": "code",
      "metadata": {
        "id": "yzejKe_zdLVd"
      },
      "source": [
        ""
      ],
      "execution_count": null,
      "outputs": []
    },
    {
      "cell_type": "markdown",
      "metadata": {
        "id": "uNowKNpfdLVd"
      },
      "source": [
        "<button type=\"button\" class=\"btn btn-danger\">\n",
        "\n",
        "Muy bien, si notas que las operaciones dan resultados que no esperabas, no te preocupes, no es un error de Python, <br>\n",
        "se nos enseña a hacer operaciones de derecha a izquierda, pero en realidad las operaciones van de más complejas a menos <br>\n",
        "complejas, por eso resuelve primero las potencias o raíces, luego multiplicaciones y finalmente las sumas y restas.\n",
        "\n",
        "\n",
        "</button>"
      ]
    },
    {
      "cell_type": "markdown",
      "metadata": {
        "id": "CgbcVHYsdLVe"
      },
      "source": [
        "<div  id=\"e\" class=\"jumbotron jumbotron-fluid\">\n",
        "  <div class=\"container\">\n",
        "    <h1 class=\"display-4\">5. Variables</h1>\n",
        "    <p class=\"lead\">Es un espacio de memoria que se asigna a un nombre o identificador, al que podemos llamar para hacer procesos.</p>\n",
        "  </div>\n",
        "</div>"
      ]
    },
    {
      "cell_type": "markdown",
      "metadata": {
        "id": "BR0KDyAgdLVe"
      },
      "source": [
        "### A continuación escribiremos el lado de un cuadrado, calcularemos su área y su perimetro (Run)"
      ]
    },
    {
      "cell_type": "code",
      "metadata": {
        "id": "8kuc-Rp_dLVe",
        "outputId": "965d506f-dd73-4c2a-cb3e-16a780e9159f"
      },
      "source": [
        "#El lado se da en cm\n",
        "lado = 8\n",
        "area = lado*lado\n",
        "perimetro =lado*4\n",
        "print(\"Un cuadrado de : \",lado,\" Tiene un perimetro de\",perimetro, \" Y un área de :\",area,\"cm cuadrados\") #Acá tenemos que concatenar con comas"
      ],
      "execution_count": null,
      "outputs": [
        {
          "output_type": "stream",
          "text": [
            "Un cuadrado de :  8  Tiene un perimetro de 32  Y un área de : 64 cm cuadrados\n"
          ],
          "name": "stdout"
        }
      ]
    },
    {
      "cell_type": "markdown",
      "metadata": {
        "id": "kyE7TzFIdLVe"
      },
      "source": [
        "<div class=\"alert alert-danger\" role=\"alert\">\n",
        "\n",
        "---\n",
        "\n",
        "\n",
        "  <strong>Reto!</strong> Calcula el perímetro y el área de un triángualo equilatero (Todos sus lados son iguales)\n",
        "</div>"
      ]
    },
    {
      "cell_type": "code",
      "metadata": {
        "id": "w8rhMlLtdLVe"
      },
      "source": [
        ""
      ],
      "execution_count": null,
      "outputs": []
    },
    {
      "cell_type": "markdown",
      "metadata": {
        "id": "Wj9djUONdLVf"
      },
      "source": [
        "### A continuación escribiremos unas variables de ejemplo y luego ejecutaremos el script en (Run)"
      ]
    },
    {
      "cell_type": "code",
      "metadata": {
        "id": "I5YoeJhBdLVf"
      },
      "source": [
        "#vamos a declarar unas variables\n",
        "salario= 1000000 #Tengo un salario de un millon\n",
        "arriendo=600000 #Pagamos de arriendo\n",
        "comida=300000 #De comida\n",
        "transporte=60000 #Transporte"
      ],
      "execution_count": null,
      "outputs": []
    },
    {
      "cell_type": "markdown",
      "metadata": {
        "id": "YK58PvYzdLVf"
      },
      "source": [
        "#### Calcularemos nuestros gastos"
      ]
    },
    {
      "cell_type": "code",
      "metadata": {
        "id": "nkZzlJ8hdLVf",
        "outputId": "44b05c49-3e01-4c92-c2aa-9cafbd690f13"
      },
      "source": [
        "gastos=arriendo+comida+transporte\n",
        "print(gastos)"
      ],
      "execution_count": null,
      "outputs": [
        {
          "output_type": "stream",
          "text": [
            "960000\n"
          ],
          "name": "stdout"
        }
      ]
    },
    {
      "cell_type": "markdown",
      "metadata": {
        "id": "rM7VmC0KdLVf"
      },
      "source": [
        "<div class=\"alert alert-danger\" role=\"alert\">\n",
        "  <strong>Reto!</strong> Calcula cuánto dinero le queda a Jose Luis del sueldo.\n",
        "</div>"
      ]
    },
    {
      "cell_type": "code",
      "metadata": {
        "id": "w_St10r_dLVg"
      },
      "source": [
        ""
      ],
      "execution_count": null,
      "outputs": []
    },
    {
      "cell_type": "markdown",
      "metadata": {
        "id": "nIMTuJEldLVg"
      },
      "source": [
        "### A continuación escribiremos un nombre y un apellido y luego ejecutaremos el script en (Run)"
      ]
    },
    {
      "cell_type": "code",
      "metadata": {
        "id": "O-jJp1b3dLVg"
      },
      "source": [
        "name= \"Jon Doe\" #Escriba su nombre\n",
        "age = 18 #Escriba su edad\n",
        "currentYear = 2003 #Escriba su año de nacimiento"
      ],
      "execution_count": null,
      "outputs": []
    },
    {
      "cell_type": "code",
      "metadata": {
        "id": "kWSO0jVjbmp6"
      },
      "source": [
        ""
      ],
      "execution_count": null,
      "outputs": []
    },
    {
      "cell_type": "markdown",
      "metadata": {
        "id": "WOdYtQ7adLVg"
      },
      "source": [
        "Ahora escribirá su nombre, edad y año en el que se encuentra"
      ]
    },
    {
      "cell_type": "markdown",
      "metadata": {
        "id": "4NMe_2jNdLVg"
      },
      "source": [
        "<div class=\"alert alert-danger\" role=\"alert\">\n",
        "  <strong>Reto!</strong> ¿Cómo calcularía el año en el que nació?\n",
        "</div>"
      ]
    },
    {
      "cell_type": "code",
      "metadata": {
        "id": "UAkcebjbdLVg"
      },
      "source": [
        ""
      ],
      "execution_count": null,
      "outputs": []
    },
    {
      "cell_type": "markdown",
      "metadata": {
        "id": "3Tci5S1LdLVh"
      },
      "source": [
        "### A continuación escribiremos un nombre y un apellido y luego ejecutaremos el script en (Run)"
      ]
    },
    {
      "cell_type": "code",
      "metadata": {
        "id": "q6tCVmNAdLVh",
        "outputId": "bb192c4b-384d-4b6d-b388-8cfc52406b7e"
      },
      "source": [
        "#Ejecutar la siguiente celda\n",
        "name = \"Ariana\"\n",
        "lastName = \"Grande\"\n",
        "print(name+lastName)"
      ],
      "execution_count": null,
      "outputs": [
        {
          "output_type": "stream",
          "text": [
            "ArianaGrande\n"
          ],
          "name": "stdout"
        }
      ]
    },
    {
      "cell_type": "markdown",
      "metadata": {
        "id": "0TJThnz5dLVh"
      },
      "source": [
        "Notarás que las palabras se pueden sumar, qué extraño... aun así, el efecto solo es que se unen unas a las otras, ¿qué pasaría si múltiplicara una palabra por un operador? Prueba con la siguiente línea <b>print(hola mundo*5)</b>"
      ]
    },
    {
      "cell_type": "code",
      "metadata": {
        "id": "ynvC-mFydLVi",
        "outputId": "42f1803e-bea1-4606-b93d-57cee6672d1f"
      },
      "source": [
        "print(hola mundo*5)"
      ],
      "execution_count": null,
      "outputs": [
        {
          "output_type": "error",
          "ename": "SyntaxError",
          "evalue": "invalid syntax (<ipython-input-5-a24edacf7b21>, line 1)",
          "traceback": [
            "\u001b[1;36m  File \u001b[1;32m\"<ipython-input-5-a24edacf7b21>\"\u001b[1;36m, line \u001b[1;32m1\u001b[0m\n\u001b[1;33m    print(hola mundo*5)\u001b[0m\n\u001b[1;37m                   ^\u001b[0m\n\u001b[1;31mSyntaxError\u001b[0m\u001b[1;31m:\u001b[0m invalid syntax\n"
          ]
        }
      ]
    },
    {
      "cell_type": "markdown",
      "metadata": {
        "id": "QznkOeabdLVi"
      },
      "source": [
        "<div class=\"alert alert-danger\" role=\"alert\">\n",
        "  ¿Cuál crees que sea el error? ¿Podrías corregirlo?\n",
        "</div>"
      ]
    },
    {
      "cell_type": "code",
      "metadata": {
        "id": "9HtIRldWdLVi",
        "outputId": "602b03ec-8400-4d45-a867-8d7cc751c4bb"
      },
      "source": [
        "print(\"hola mundo \"*5)"
      ],
      "execution_count": null,
      "outputs": [
        {
          "output_type": "stream",
          "text": [
            "hola mundo hola mundo hola mundo hola mundo hola mundo \n"
          ],
          "name": "stdout"
        }
      ]
    },
    {
      "cell_type": "markdown",
      "metadata": {
        "id": "cs9JBvqYdLVi"
      },
      "source": [
        "# **<div class=\"alert alert-danger\" role=\"alert\">**\n",
        "  ¿Notaste que el nombre de Ariana Grande aparecio de esta forma?<br> <b>ArianaGrande</b><br>¿Qué cambios le haría al código para que el nombre y el apellido tenga un espacio?\n",
        "</div>"
      ]
    },
    {
      "cell_type": "code",
      "metadata": {
        "id": "3d4gEa50dLVi"
      },
      "source": [
        ""
      ],
      "execution_count": null,
      "outputs": []
    },
    {
      "cell_type": "markdown",
      "metadata": {
        "id": "dHdg2pkfdLVj"
      },
      "source": [
        "<div class=\"alert alert-success\" role=\"alert\">\n",
        "  Pueden existir muchas formas de lograrlo, la recomendable es que, entre comillas, agregues el espacio que va entre los nombres:\n",
        "    <br><b>print(name+\" \"+lastName)</b>\n",
        "    <br>intentalo denuevo\n",
        "</div>"
      ]
    },
    {
      "cell_type": "code",
      "metadata": {
        "id": "e-lJ3MumdLVj"
      },
      "source": [
        ""
      ],
      "execution_count": null,
      "outputs": []
    },
    {
      "cell_type": "markdown",
      "metadata": {
        "id": "li7YQrTJdLVj"
      },
      "source": [
        "<div  id=\"f\" class=\"jumbotron jumbotron-fluid\">\n",
        "  <div class=\"container\">\n",
        "    <h1 class=\"display-4\">6. Fin de la introducción</h1>\n",
        "    <p class=\"lead\">\n",
        "    <div class=\"alert alert-danger\" role=\"alert\">\n",
        "    A continuación realiza la <b>Actividad de introducción</b> y practique lo aprendido. \n",
        "</div>\n",
        "    </p>\n",
        "  </div>\n",
        "</div>"
      ]
    }
  ]
}