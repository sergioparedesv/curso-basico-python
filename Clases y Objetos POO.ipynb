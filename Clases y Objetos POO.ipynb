{
 "cells": [
  {
   "cell_type": "markdown",
   "metadata": {},
   "source": [
    "# 1. Programación orientada a objetos"
   ]
  },
  {
   "cell_type": "markdown",
   "metadata": {},
   "source": [
    "No hay problema complejo, que no se pueda subdividiren un conjunto de problemas más simples, a esto se orienta la POO(Programación orientada a objetos), cuando los códigos se hacen demasiado extensos, no se pueden crear una sola función, se debe partir en diferentes funciones.\n",
    "\n",
    "No hay una sola forma de usar un programa, a diferencia de la programación lineal, en el mundo real los usuarios no siguen una sola ruta lineal, los usuarios prefieren utilizar herramientas que puedan configurar y personalizar a sus necesidades, por eso los diferentes problemas de un programa debe ser dividido en diferentes objetos"
   ]
  },
  {
   "cell_type": "markdown",
   "metadata": {},
   "source": [
    "## Teoría\n",
    "\n",
    "**Objeto:** Representan una entidad concreta o abstracta del mundo real, en programación básicamente se le conoce como la instancia de una clase en si es lo que da sentido a estas.\n",
    "\n",
    " \n",
    "\n",
    "**Clase:** Son uno de los principales componentes de un lenguaje de programación, pues en ellas ocurren todos los procesos lógicos requeridos para un sistema.\n",
    "\n",
    " \n",
    "\n",
    "**Encapsulamiento:** Es uno de los más importantes en términos de seguridad dentro de nuestra aplicación, la encapsulación es la forma de proteger nuestros datos dentro del sistema, estableciendo básicamente los permisos o niveles de visibilidad o acceso de nuestros datos.\n",
    "\n",
    " \n",
    "\n",
    "**Abstracción:** Permite resaltar la parte más representativa de algo, ignorando detalles para centrarse en lo principal.\n",
    "\n",
    " \n",
    "\n",
    "**Herencia:** Representa lo que conocemos de herencia en el mundo real, básicamente, mediante esta obtenemos las características o rasgos comunes de nuestros padres o abuelos, en java es el mismo enfoque permitiendo la creación de nuevas clases basadas en las clases ya existentes.\n",
    "\n",
    " \n",
    "\n",
    "**Polimorfismo:** La capacidad que tienen los objetos de comportarse de múltiples formas sin olvidar que para esto se requiere de la herencia, en si consiste en hacer referencia a objetos descendientes.\n",
    "\n",
    " \n",
    "\n",
    "**Método:** Representan el comportamiento u operaciones, la forma como interactúa la clase con su entorno.\n",
    "\n",
    " \n",
    "\n",
    "**Clase contenedor:** Esta clase posee los métodos comunes a todos los contenedores, como aquellos que permiten agregar componentes al contenedor, localizar componentes, establecer la organización o disposición de los componentes.\n",
    "\n",
    " \n",
    "\n",
    "**Constructor:** Es una subrutina cuya misión es inicializar un objeto de una clase. En el constructor se asignan los valores iniciales de nuevo objeto. Se utiliza para crear tablas de clases virtuales y poder así desarrollar el polimorfismo."
   ]
  },
  {
   "cell_type": "markdown",
   "metadata": {},
   "source": [
    "# Objetos"
   ]
  },
  {
   "cell_type": "markdown",
   "metadata": {},
   "source": [
    "Los objetos son agrupaciones de datos y los métodos que operan estos datos, es importante entender este concepto como se ilustra en la imagen de abajo."
   ]
  },
  {
   "cell_type": "markdown",
   "metadata": {},
   "source": [
    "<img src=\"img/atributo-metodo.jpg\" width=\"800px\">"
   ]
  },
  {
   "cell_type": "markdown",
   "metadata": {},
   "source": [
    "A continuación encontraras la sintaxis para crear una clase, y la palabra reservada pass"
   ]
  },
  {
   "cell_type": "markdown",
   "metadata": {},
   "source": [
    "# 1.1 Clase: "
   ]
  },
  {
   "cell_type": "code",
   "execution_count": null,
   "metadata": {},
   "outputs": [],
   "source": [
    "class Objetos: #Así se define una clase\n",
    "    pass #No vamos a pasar más información"
   ]
  },
  {
   "cell_type": "markdown",
   "metadata": {},
   "source": [
    "# 1.2 Herencias: "
   ]
  },
  {
   "cell_type": "code",
   "execution_count": null,
   "metadata": {},
   "outputs": [],
   "source": [
    "class Inanimados(Objetos): #Definimos la clase inanimados que es hija y a a heredar de objetos\n",
    "    pass"
   ]
  },
  {
   "cell_type": "code",
   "execution_count": null,
   "metadata": {},
   "outputs": [],
   "source": [
    "class Animados(Objetos): #Otra clase hija de objetos y hereda de objetos\n",
    "    pass"
   ]
  },
  {
   "cell_type": "code",
   "execution_count": null,
   "metadata": {},
   "outputs": [],
   "source": [
    "class Edificios(Inanimados):\n",
    "    pass"
   ]
  },
  {
   "cell_type": "code",
   "execution_count": null,
   "metadata": {},
   "outputs": [],
   "source": [
    "class Casas(Edificios):\n",
    "    pass"
   ]
  },
  {
   "cell_type": "markdown",
   "metadata": {},
   "source": [
    "# 1.3 Crear Funciones(Métodos) de Clases"
   ]
  },
  {
   "cell_type": "code",
   "execution_count": null,
   "metadata": {},
   "outputs": [],
   "source": [
    "class Animales(Animados):\n",
    "    def respirar(self):\n",
    "        print(\"Estan respirando\")\n",
    "    def mover(self):\n",
    "        print(\"Se puede mover\")\n",
    "    def comer(self):\n",
    "        print(\"Esta comiendo\")\n",
    "    "
   ]
  },
  {
   "cell_type": "code",
   "execution_count": null,
   "metadata": {},
   "outputs": [],
   "source": [
    "class Mamiferos(Animales):\n",
    "    def alimentan_leche(self):\n",
    "        pass"
   ]
  },
  {
   "cell_type": "code",
   "execution_count": null,
   "metadata": {},
   "outputs": [],
   "source": [
    "class Primates(Mamiferos):\n",
    "    def tienen_manos(self):\n",
    "        pass"
   ]
  },
  {
   "cell_type": "code",
   "execution_count": null,
   "metadata": {},
   "outputs": [],
   "source": [
    "class Humanos(Primates):\n",
    "    pass"
   ]
  },
  {
   "cell_type": "markdown",
   "metadata": {},
   "source": [
    "# 1.4 Instancias Objetos: "
   ]
  },
  {
   "cell_type": "code",
   "execution_count": null,
   "metadata": {},
   "outputs": [],
   "source": [
    "chibi = Humanos()"
   ]
  },
  {
   "cell_type": "code",
   "execution_count": null,
   "metadata": {},
   "outputs": [],
   "source": [
    "chibi #muestra su espacio en memoria"
   ]
  },
  {
   "cell_type": "code",
   "execution_count": null,
   "metadata": {},
   "outputs": [],
   "source": [
    "def funcion_prueba():\n",
    "    print('Soy una función de prueba')\n",
    "    "
   ]
  },
  {
   "cell_type": "code",
   "execution_count": null,
   "metadata": {},
   "outputs": [],
   "source": [
    "class EstaEsMiClase:\n",
    "    def funcion_prueba():\n",
    "        print('Soy una función de prueba')"
   ]
  },
  {
   "cell_type": "markdown",
   "metadata": {},
   "source": [
    "# 1.5 ¿Por qué crear Clases cuando las funciones sirven para lo mismo?"
   ]
  },
  {
   "cell_type": "code",
   "execution_count": null,
   "metadata": {},
   "outputs": [],
   "source": [
    "class Reptiles(Animales):\n",
    "    def tienen_sangra_fria(self):\n",
    "        print(\"Los reptiles arrastran\")"
   ]
  },
  {
   "cell_type": "code",
   "execution_count": null,
   "metadata": {},
   "outputs": [],
   "source": [
    "class Tortugas(Reptiles):\n",
    "    def ponen_huevos(self):\n",
    "        print(\"Ponen huevos\")\n",
    "        \n",
    "    def encontrar_comida(self):\n",
    "        self.mover()#llama una función dentro de una función\n",
    "        print(\"He encontrado comida\")\n",
    "        self.comer() #llana a una función de la clase animal\n",
    "        \n",
    "    def reproducir(self):\n",
    "        self.mover()\n",
    "        self.ponen_huevos()\n",
    "        print(\"tapando los huevos\")\n",
    "        \n",
    "    def bailar(self):\n",
    "        self.mover()\n",
    "        self.mover()\n",
    "        self.mover()\n",
    "        self.mover()\n",
    "        "
   ]
  },
  {
   "cell_type": "code",
   "execution_count": null,
   "metadata": {},
   "outputs": [],
   "source": [
    "eric = Tortugas()"
   ]
  },
  {
   "cell_type": "code",
   "execution_count": null,
   "metadata": {},
   "outputs": [],
   "source": [
    "eric.ponen_huevos() #Mover es parte de la clase tortugas"
   ]
  },
  {
   "cell_type": "code",
   "execution_count": null,
   "metadata": {},
   "outputs": [],
   "source": [
    "eric.mover() #Mover es parte de la clase animal."
   ]
  },
  {
   "cell_type": "code",
   "execution_count": null,
   "metadata": {},
   "outputs": [],
   "source": [
    "terry = Tortugas()"
   ]
  },
  {
   "cell_type": "code",
   "execution_count": null,
   "metadata": {},
   "outputs": [],
   "source": [
    "eric.mover()"
   ]
  },
  {
   "cell_type": "code",
   "execution_count": null,
   "metadata": {},
   "outputs": [],
   "source": [
    "terry.comer()"
   ]
  },
  {
   "cell_type": "code",
   "execution_count": null,
   "metadata": {},
   "outputs": [],
   "source": [
    "eric.mover()"
   ]
  },
  {
   "cell_type": "code",
   "execution_count": null,
   "metadata": {},
   "outputs": [],
   "source": [
    "terry.comer()"
   ]
  },
  {
   "cell_type": "markdown",
   "metadata": {},
   "source": [
    "# Probaremos con Turtle y metodos"
   ]
  },
  {
   "cell_type": "code",
   "execution_count": 1,
   "metadata": {},
   "outputs": [],
   "source": [
    "import turtle"
   ]
  },
  {
   "cell_type": "code",
   "execution_count": 2,
   "metadata": {},
   "outputs": [],
   "source": [
    "t = turtle.Pen()"
   ]
  },
  {
   "cell_type": "code",
   "execution_count": 3,
   "metadata": {},
   "outputs": [],
   "source": [
    "t.forward(100)\n",
    "t.left(120)\n",
    "t.forward(100)\n",
    "t.left(120)\n",
    "t.forward(100)"
   ]
  },
  {
   "cell_type": "markdown",
   "metadata": {},
   "source": [
    "#### Vamos a reiniciar y limpiar todas las lineas\n"
   ]
  },
  {
   "cell_type": "markdown",
   "metadata": {},
   "source": [
    "# Vamos a instanciar objetos"
   ]
  },
  {
   "cell_type": "code",
   "execution_count": 4,
   "metadata": {},
   "outputs": [],
   "source": [
    "eric = turtle.Pen() #Lamammos a la libreria, Pen() es una clase propia de turtle"
   ]
  },
  {
   "cell_type": "code",
   "execution_count": 5,
   "metadata": {},
   "outputs": [],
   "source": [
    "terry = turtle.Pen()"
   ]
  },
  {
   "cell_type": "code",
   "execution_count": 6,
   "metadata": {},
   "outputs": [],
   "source": [
    "eric.forward(50)\n",
    "eric.right(90)\n",
    "eric.forward(20)\n",
    "terry.left(90)\n",
    "terry.forward(100)"
   ]
  },
  {
   "cell_type": "code",
   "execution_count": 7,
   "metadata": {},
   "outputs": [],
   "source": [
    "graham = turtle.Pen()"
   ]
  },
  {
   "cell_type": "code",
   "execution_count": 8,
   "metadata": {},
   "outputs": [],
   "source": [
    "graham.left(180)\n",
    "graham.forward(80)"
   ]
  },
  {
   "cell_type": "code",
   "execution_count": 9,
   "metadata": {},
   "outputs": [],
   "source": [
    "eric = turtle.Pen()"
   ]
  },
  {
   "cell_type": "markdown",
   "metadata": {},
   "source": [
    "# Importancia del SELF"
   ]
  },
  {
   "cell_type": "code",
   "execution_count": 11,
   "metadata": {},
   "outputs": [
    {
     "ename": "TypeError",
     "evalue": "'module' object is not callable",
     "output_type": "error",
     "traceback": [
      "\u001b[1;31m---------------------------------------------------------------------------\u001b[0m",
      "\u001b[1;31mTypeError\u001b[0m                                 Traceback (most recent call last)",
      "\u001b[1;32m<ipython-input-11-3da3cf682be6>\u001b[0m in \u001b[0;36m<module>\u001b[1;34m\u001b[0m\n\u001b[1;32m----> 1\u001b[1;33m \u001b[0meric\u001b[0m \u001b[1;33m=\u001b[0m \u001b[0mturtle\u001b[0m\u001b[1;33m(\u001b[0m\u001b[1;33m)\u001b[0m\u001b[1;33m\u001b[0m\u001b[1;33m\u001b[0m\u001b[0m\n\u001b[0m",
      "\u001b[1;31mTypeError\u001b[0m: 'module' object is not callable"
     ]
    }
   ],
   "source": [
    "eric = turtle()"
   ]
  },
  {
   "cell_type": "code",
   "execution_count": 12,
   "metadata": {},
   "outputs": [
    {
     "ename": "AttributeError",
     "evalue": "'Turtle' object has no attribute 'encontrar_comida'",
     "output_type": "error",
     "traceback": [
      "\u001b[1;31m---------------------------------------------------------------------------\u001b[0m",
      "\u001b[1;31mAttributeError\u001b[0m                            Traceback (most recent call last)",
      "\u001b[1;32m<ipython-input-12-3145a6d7264d>\u001b[0m in \u001b[0;36m<module>\u001b[1;34m\u001b[0m\n\u001b[1;32m----> 1\u001b[1;33m \u001b[0meric\u001b[0m\u001b[1;33m.\u001b[0m\u001b[0mencontrar_comida\u001b[0m\u001b[1;33m(\u001b[0m\u001b[1;33m)\u001b[0m\u001b[1;33m\u001b[0m\u001b[1;33m\u001b[0m\u001b[0m\n\u001b[0m",
      "\u001b[1;31mAttributeError\u001b[0m: 'Turtle' object has no attribute 'encontrar_comida'"
     ]
    }
   ],
   "source": [
    "eric.encontrar_comida()"
   ]
  },
  {
   "cell_type": "markdown",
   "metadata": {},
   "source": [
    "Desarrolla 2 funciones dentro de la clase tortuga \"reproducir con función mover la funcion\" "
   ]
  },
  {
   "cell_type": "code",
   "execution_count": null,
   "metadata": {},
   "outputs": [],
   "source": [
    "eric.reproducir()"
   ]
  },
  {
   "cell_type": "code",
   "execution_count": null,
   "metadata": {},
   "outputs": [],
   "source": [
    "eric.bailar()"
   ]
  },
  {
   "cell_type": "code",
   "execution_count": null,
   "metadata": {},
   "outputs": [],
   "source": [
    "class TortugaDos(Reptiles):\n",
    "    def __init__(self, edad):\n",
    "        self.tortuga_edad= edad"
   ]
  },
  {
   "cell_type": "code",
   "execution_count": null,
   "metadata": {},
   "outputs": [],
   "source": [
    "eric = TortugaDos(100)"
   ]
  },
  {
   "cell_type": "code",
   "execution_count": null,
   "metadata": {},
   "outputs": [],
   "source": [
    "terry = TortugaDos(200)"
   ]
  },
  {
   "cell_type": "code",
   "execution_count": null,
   "metadata": {},
   "outputs": [],
   "source": [
    "eric.tortuga_edad"
   ]
  },
  {
   "cell_type": "code",
   "execution_count": null,
   "metadata": {},
   "outputs": [],
   "source": [
    "terry.tortuga_edad"
   ]
  },
  {
   "cell_type": "markdown",
   "metadata": {
    "collapsed": true
   },
   "source": [
    "**Paradigma :** teoría cuyo nucleo central, suministra la base y modelo para resolver problemas"
   ]
  },
  {
   "cell_type": "markdown",
   "metadata": {},
   "source": [
    "**POO:** El paradigma consiste en traer los conceptos del mundo real, que sean relevantes para resolver un problema, en forma de clases y objetos"
   ]
  },
  {
   "cell_type": "markdown",
   "metadata": {},
   "source": [
    "**Clase :** Es una fabrica de objetos, por que acá se instancian los objetos"
   ]
  },
  {
   "cell_type": "markdown",
   "metadata": {},
   "source": [
    "Tambien es una plantilla(modelo) sobre la cual creamos nuestros objetos"
   ]
  },
  {
   "cell_type": "code",
   "execution_count": 1,
   "metadata": {},
   "outputs": [
    {
     "name": "stdout",
     "output_type": "stream",
     "text": [
      "4321\n",
      "Hola POO\n",
      "None\n"
     ]
    }
   ],
   "source": [
    "class MiClaseEjemplo: #Esto es una clases\n",
    "    '''Esto es un ejemplo\n",
    "    Clases, objetos y métodos'''\n",
    "    entero = 4321\n",
    "    def mensaje(self, msj): #Esto es un Metodo, las funciones dentro de las clases se les llama metodos\n",
    "        #Self: hace una referencia directa al objeto, colocala por default\n",
    "        print(msj)\n",
    "        \n",
    "#Instancionamos de la clase y le asignamos el objeto a las variables\n",
    "x = MiClaseEjemplo()\n",
    "y = MiClaseEjemplo()\n",
    "    \n",
    "print (x.entero)\n",
    "print(y.mensaje(\"Hola POO\"))"
   ]
  },
  {
   "cell_type": "code",
   "execution_count": 2,
   "metadata": {},
   "outputs": [],
   "source": [
    "class MiPerro:\n",
    "    '''Metodo __init__'''\n",
    "    def __init__(self, raza): #Metodo que se ejecuta al instanciar\n",
    "        #Esto es un atributo\n",
    "        self.raza = raza\n",
    "        \n",
    "    def ladrar(self, ladrido):\n",
    "        print(ladrido)\n",
    "        \n",
    "    def juego(self, jugar):\n",
    "        print(jugar)\n",
    "        \n",
    "    def proteger(self, cuidar):\n",
    "        print(cuidar)\n",
    "        "
   ]
  },
  {
   "cell_type": "code",
   "execution_count": 3,
   "metadata": {},
   "outputs": [],
   "source": [
    "#Instanciamos dos objetos de la clase MiPerro\n",
    "getrudis = MiPerro(\"Dalmata\")\n",
    "parker = MiPerro(\"PastorAleman\")"
   ]
  },
  {
   "cell_type": "code",
   "execution_count": 4,
   "metadata": {},
   "outputs": [
    {
     "name": "stdout",
     "output_type": "stream",
     "text": [
      "Dalmata\n"
     ]
    }
   ],
   "source": [
    "print(getrudis.raza)"
   ]
  },
  {
   "cell_type": "code",
   "execution_count": 5,
   "metadata": {},
   "outputs": [
    {
     "name": "stdout",
     "output_type": "stream",
     "text": [
      "Gua, guar me llamo gettrudis\n"
     ]
    }
   ],
   "source": [
    "#Acceder a los m+etodos\n",
    "getrudis.ladrar(\"Gua, guar me llamo gettrudis\")"
   ]
  },
  {
   "cell_type": "markdown",
   "metadata": {},
   "source": [
    "# Herencia"
   ]
  },
  {
   "cell_type": "code",
   "execution_count": 7,
   "metadata": {},
   "outputs": [
    {
     "name": "stdout",
     "output_type": "stream",
     "text": [
      "Hijos de Eddard Stark y Lady Catelyn\n"
     ]
    }
   ],
   "source": [
    "class CasaStark: # Super-clase/clase base\n",
    "    '''Personajes de Games of thrones casa stark'''\n",
    "    print(\"Hijos de Eddard Stark y Lady Catelyn\")\n",
    "    def __init__(self, apellido_stark):\n",
    "        self.apellido_stark = apellido_stark"
   ]
  },
  {
   "cell_type": "code",
   "execution_count": 8,
   "metadata": {},
   "outputs": [],
   "source": [
    "class HerederoStark(CasaStark):\n",
    "    '''Sub-clase que hereda de la clase CasaStark'''\n",
    "    def nombre(self, nombre, apellido_stark):\n",
    "        print(\"Mi nombre es \", nombre,\" Heredero de la casa \", apellido_stark)"
   ]
  },
  {
   "cell_type": "code",
   "execution_count": 9,
   "metadata": {},
   "outputs": [],
   "source": [
    "robb = HerederoStark(\"Stark\")\n",
    "sansa = HerederoStark(\"Stark\")\n",
    "arya = HerederoStark(\"Stark\")\n",
    "bran = HerederoStark(\"Stark\")\n",
    "rickon = HerederoStark(\"Stark\")"
   ]
  },
  {
   "cell_type": "code",
   "execution_count": 12,
   "metadata": {},
   "outputs": [
    {
     "name": "stdout",
     "output_type": "stream",
     "text": [
      "Mi nombre es  Robb   Heredero de la casa  Stark\n",
      "None\n"
     ]
    }
   ],
   "source": [
    "print(robb.nombre(\"Robb \", robb.apellido_stark))"
   ]
  },
  {
   "cell_type": "code",
   "execution_count": 11,
   "metadata": {},
   "outputs": [
    {
     "name": "stdout",
     "output_type": "stream",
     "text": [
      "Mi nombre es  Sansa   Heredero de la casa  Stark\n",
      "None\n"
     ]
    }
   ],
   "source": [
    "print(sansa.nombre(\"Sansa \", sansa.apellido_stark))"
   ]
  },
  {
   "cell_type": "code",
   "execution_count": null,
   "metadata": {},
   "outputs": [],
   "source": []
  }
 ],
 "metadata": {
  "anaconda-cloud": {},
  "kernelspec": {
   "display_name": "Python 3",
   "language": "python",
   "name": "python3"
  },
  "language_info": {
   "codemirror_mode": {
    "name": "ipython",
    "version": 3
   },
   "file_extension": ".py",
   "mimetype": "text/x-python",
   "name": "python",
   "nbconvert_exporter": "python",
   "pygments_lexer": "ipython3",
   "version": "3.7.6"
  }
 },
 "nbformat": 4,
 "nbformat_minor": 1
}
