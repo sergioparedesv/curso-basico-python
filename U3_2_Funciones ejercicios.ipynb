{
 "cells": [
  {
   "cell_type": "markdown",
   "metadata": {},
   "source": [
    "# Ejercicios con funciones"
   ]
  },
  {
   "cell_type": "markdown",
   "metadata": {},
   "source": [
    "1.  Crea una función con la que **captures** 3 variables **arbitrarias**: el nombre, edad y estatura de una persona, las tres variables se deben volver el retorno de una función."
   ]
  },
  {
   "cell_type": "code",
   "execution_count": null,
   "metadata": {},
   "outputs": [],
   "source": [
    "\n"
   ]
  },
  {
   "cell_type": "markdown",
   "metadata": {},
   "source": [
    "2.  Te piden que crees una función que capture el **email** de alguien, y buscando el carácter **\"@\"** identifique si la dirección es válida o no."
   ]
  },
  {
   "cell_type": "code",
   "execution_count": null,
   "metadata": {},
   "outputs": [],
   "source": [
    "\n"
   ]
  },
  {
   "cell_type": "markdown",
   "metadata": {},
   "source": [
    "3.  Escribe un programa que pida números al usuario, muestre el **factorial** de cada uno y, al finalizar, muestre la cantidad total de números leídos en total. Utiliza una o más **funciones**, según sea necesario."
   ]
  },
  {
   "cell_type": "code",
   "execution_count": null,
   "metadata": {},
   "outputs": [],
   "source": [
    "\n"
   ]
  },
  {
   "cell_type": "markdown",
   "metadata": {},
   "source": [
    "4. Escribe una función que, dado un número de Cédula, retorne *True* si el número es válido y *False* si no lo es. Para que un **número de cédula** sea válido debe tener entre **7 y 8 dígitos**."
   ]
  },
  {
   "cell_type": "code",
   "execution_count": null,
   "metadata": {},
   "outputs": [],
   "source": [
    "\n"
   ]
  },
  {
   "cell_type": "markdown",
   "metadata": {},
   "source": [
    "5. Crear una función **_lambda_** que muestre la tabla de multiplicar de un número."
   ]
  },
  {
   "cell_type": "code",
   "execution_count": null,
   "metadata": {},
   "outputs": [],
   "source": [
    "\n"
   ]
  },
  {
   "cell_type": "markdown",
   "metadata": {},
   "source": [
    "6.  Utiliza la **_función map()_** para unificar una lista con nombres de los hombres y los empareje con nombres de mujeres:\n",
    "\n",
    "    `Hombres=[“Andrés”,”Diego”,”Carlos”,”Miguel”]`\n",
    "    \n",
    "    `Mujeres=[“Diana”,”Vanessa”,”Roxanna”,”Natalia”]`\n"
   ]
  },
  {
   "cell_type": "code",
   "execution_count": null,
   "metadata": {},
   "outputs": [],
   "source": [
    "\n"
   ]
  },
  {
   "cell_type": "markdown",
   "metadata": {},
   "source": [
    "7.  Utiliza la **función reduce()** para reducir el vector resultante de:\n",
    "\n",
    "`vector = range (1,10+1)`"
   ]
  },
  {
   "cell_type": "code",
   "execution_count": null,
   "metadata": {},
   "outputs": [],
   "source": [
    "\n"
   ]
  },
  {
   "cell_type": "markdown",
   "metadata": {},
   "source": [
    "8.  Utiliza la función *filter* para poder filtrar los datos del siguiente diccionario, de tal forma de que podamos escoger la organización en la que se desempeña, utilice el siguiente dicconario como ejemplo."
   ]
  },
  {
   "cell_type": "markdown",
   "metadata": {},
   "source": [
    "<div style=\"background: #eee; padding: 20px; border: 1px solid #006699; color: #000;\">\n",
    "    <pre>\n",
    "DATA = [\n",
    "    {\n",
    "        'name': 'Sergio',\n",
    "        'age': 42,\n",
    "        'organization': 'Uber',\n",
    "        'position': 'Technical Coach',\n",
    "        'language': 'python',\n",
    "    },\n",
    "    {\n",
    "        'name': 'Luisana',\n",
    "        'age': 33,\n",
    "        'organization': 'Globant',\n",
    "        'position': 'UX Designer',\n",
    "        'language': 'javascript',\n",
    "    },\n",
    "    {\n",
    "        'name': 'Héctor',\n",
    "        'age': 19,\n",
    "        'organization': 'Netflix',\n",
    "        'position': 'Associate',\n",
    "        'language': 'ruby',\n",
    "    },\n",
    "    {\n",
    "        'name': 'Gabriel',\n",
    "        'age': 20,\n",
    "        'organization': 'Microsoft',\n",
    "        'position': 'Associate',\n",
    "        'language': 'javascript',\n",
    "    },\n",
    "    {\n",
    "        'name': 'Isabella',\n",
    "        'age': 30,\n",
    "        'organization': 'Microsoft',\n",
    "        'position': 'QA Manager',\n",
    "        'language': 'java',\n",
    "    },\n",
    "    {\n",
    "        'name': 'Karo',\n",
    "        'age': 23,\n",
    "        'organization': 'Netflix',\n",
    "        'position': 'Backend Developer',\n",
    "        'language': 'python',\n",
    "    },\n",
    "    {\n",
    "        'name': 'Ariel',\n",
    "        'age': 32,\n",
    "        'organization': 'Rappi',\n",
    "        'position': 'Support',\n",
    "        'language': '',\n",
    "    },\n",
    "    {\n",
    "        'name': 'Juan',\n",
    "        'age': 17,\n",
    "        'organization': '',\n",
    "        'position': 'Student',\n",
    "        'language': 'go',\n",
    "    },\n",
    "    {\n",
    "        'name': 'Pablo',\n",
    "        'age': 32,\n",
    "        'organization': 'Rappi',\n",
    "        'position': 'Human Resources Manager',\n",
    "        'language': 'python',\n",
    "    },\n",
    "    {\n",
    "        'name': 'Vanessa',\n",
    "        'age': 56,\n",
    "        'organization': 'Python Organization',\n",
    "        'position': 'Language Maker',\n",
    "        'language': 'python',\n",
    "    },\n",
    "]\n",
    "</pre>\n",
    "    </div>"
   ]
  },
  {
   "cell_type": "code",
   "execution_count": null,
   "metadata": {},
   "outputs": [],
   "source": [
    "\n"
   ]
  }
 ],
 "metadata": {
  "kernelspec": {
   "display_name": "Python 3",
   "language": "python",
   "name": "python3"
  },
  "language_info": {
   "codemirror_mode": {
    "name": "ipython",
    "version": 3
   },
   "file_extension": ".py",
   "mimetype": "text/x-python",
   "name": "python",
   "nbconvert_exporter": "python",
   "pygments_lexer": "ipython3",
   "version": "3.8.8"
  }
 },
 "nbformat": 4,
 "nbformat_minor": 4
}
