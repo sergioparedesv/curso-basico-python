{
 "cells": [
  {
   "cell_type": "markdown",
   "metadata": {},
   "source": [
    "# Ejercicios sobre algoritmos"
   ]
  },
  {
   "cell_type": "markdown",
   "metadata": {},
   "source": [
    "### Reglas\n",
    "\n",
    "Para el desarrollo de estos ejercicios utilizaremos los fundamentos aprendidos de Python como funciones, tambien podemos utilizar librerías, pero tenemos que seguir los pasos del algoritmo en lo posible, si no se siguen, debes comentar la línea que abrevió un proceso, explicando qué hace.\n",
    "\n",
    "**¡Buena suerte!**"
   ]
  },
  {
   "cell_type": "markdown",
   "metadata": {},
   "source": [
    "1.  Desarrolla un programa que permita leer **dos valores distintos**, determinar cuál de los dos valores es el mayor y escribirlo.\n",
    "\n",
    "<img src=\"alg/ejemplo-1-DF.png\" width=\"500px\">"
   ]
  },
  {
   "cell_type": "code",
   "execution_count": null,
   "metadata": {},
   "outputs": [],
   "source": [
    "\n",
    "\n"
   ]
  },
  {
   "cell_type": "markdown",
   "metadata": {},
   "source": [
    "2. Desarrolle un programa que permita leer **tres valores** y almacenarlos en las variables **A, B y C** respectivamente. El programa debe imprimir cuál es el mayor y cuál es el menor. Recuerde constatar que los tres valores introducidos por el teclado sean valores distintos. **Presente un mensaje de alerta** en caso de que se detecte la introducción de valores iguales.\n",
    "\n",
    "<img src=\"alg/ejemplo-2-DF.jpg\" width=\"600px\">"
   ]
  },
  {
   "cell_type": "code",
   "execution_count": null,
   "metadata": {},
   "outputs": [],
   "source": [
    "\n",
    "\n"
   ]
  },
  {
   "cell_type": "markdown",
   "metadata": {},
   "source": [
    "3. Desarrolla un programa que realice la sumatoria de los números enteros comprendidos entre el **1 y el 10**, es decir, **1 + 2 + 3 + …. + 10.**\n",
    "\n",
    "<img src=\"alg/ejemplo-3-DF.jpg\" width=\"200px\">"
   ]
  },
  {
   "cell_type": "code",
   "execution_count": null,
   "metadata": {},
   "outputs": [],
   "source": [
    "\n",
    "\n"
   ]
  },
  {
   "cell_type": "markdown",
   "metadata": {},
   "source": [
    "4. Desarrolla un programa que permita determinar el área y volumen de un cilindro dado su **radio (R) y altura (H).**\n",
    "\n",
    "<img src=\"alg/ejemplo-5-DF.jpg\" width=\"150px\">"
   ]
  },
  {
   "cell_type": "code",
   "execution_count": null,
   "metadata": {},
   "outputs": [],
   "source": [
    "\n",
    "\n"
   ]
  },
  {
   "cell_type": "markdown",
   "metadata": {},
   "source": [
    "5. Desarrolla un programa que permita leer un valor cualquiera **N** y escriba si dicho número es par o impar.\n",
    "\n",
    "<img src=\"alg/diagrama-15-5ej.jpg\" width=\"400px\">"
   ]
  },
  {
   "cell_type": "code",
   "execution_count": null,
   "metadata": {},
   "outputs": [],
   "source": [
    "\n",
    "\n"
   ]
  },
  {
   "cell_type": "markdown",
   "metadata": {},
   "source": [
    "6. Desarrolla un programa que permita convertir calificaciones numéricas, según la siguiente tabla: **A = 19 y 20, B =16, 17 y 18, C = 13, 14 y 15, D = 10, 11 y 12, E = 1 hasta el 9**. Se asume que la nota está comprendida entre **1 y 20.**\n",
    "\n",
    "<img src=\"alg/ejemplo-7-DF.jpg\" width=\"400px\">"
   ]
  },
  {
   "cell_type": "code",
   "execution_count": null,
   "metadata": {},
   "outputs": [],
   "source": [
    "\n"
   ]
  },
  {
   "cell_type": "markdown",
   "metadata": {},
   "source": [
    "7. Desarrolla un programa que permita leer **dos números y ordenarlos de menor a mayor**, si es el caso.\n",
    "\n",
    "<img src=\"alg/ejemplo-8-DF.jpg\" width=\"300px\">"
   ]
  },
  {
   "cell_type": "code",
   "execution_count": null,
   "metadata": {},
   "outputs": [],
   "source": [
    "\n"
   ]
  },
  {
   "cell_type": "markdown",
   "metadata": {},
   "source": [
    "8. Desarrolla un programa que permita leer un valor **entero positivo N** y determinar si es **primo o no.**\n",
    "\n",
    "<img src=\"alg/ejemplo-9-DF.jpg\" with=\"400px\">"
   ]
  },
  {
   "cell_type": "code",
   "execution_count": null,
   "metadata": {},
   "outputs": [],
   "source": [
    "\n"
   ]
  },
  {
   "cell_type": "markdown",
   "metadata": {},
   "source": [
    "9. Tanto el Pseudocódigo como el Diagrama de flujo presentan errores; encuéntralos y corrígelos. Realiza un programa que calcule el monto a pagar por el servicio de estacionamiento, teniendo en cuenta que por la primera hora de estadía se tiene una tarifa de **1000 pesos** y las restantes tienen un costo de **600 pesos.** Se tienen como datos: hora de entrada, hora de salida **(formato militar)**, ten en cuante que: iniciada una hora se contabiliza como hora total.\n",
    "\n",
    "<img src=\"alg/diagrama-15-6ej.jpg\" width=\"400px\">"
   ]
  },
  {
   "cell_type": "code",
   "execution_count": null,
   "metadata": {},
   "outputs": [],
   "source": [
    "\n"
   ]
  },
  {
   "cell_type": "markdown",
   "metadata": {},
   "source": [
    "10. Desarrolla un programa que permita calcular **Promedio** de Notas; finaliza cuando N = 0.\n",
    "\n",
    "<img src=\"alg/ejemplo-12-DF.jpg\" width=\"400px\">"
   ]
  },
  {
   "cell_type": "code",
   "execution_count": null,
   "metadata": {},
   "outputs": [],
   "source": [
    "\n"
   ]
  },
  {
   "cell_type": "markdown",
   "metadata": {},
   "source": [
    "11. Desarrolla un programa para la empresa Arconsa S.A., que le permita calcular e imprimir la nómina para su cancelación a un total de **50 obreros calificados** a quienes debe cancelar por horas trabajadas. La hora trabajada se pautó en 6000 pesos\n",
    "\n",
    "<img src=\"alg/ejemplo-13-DF.jpg\" width=\"400px\">"
   ]
  },
  {
   "cell_type": "code",
   "execution_count": null,
   "metadata": {},
   "outputs": [],
   "source": [
    "\n",
    "\n"
   ]
  },
  {
   "cell_type": "markdown",
   "metadata": {},
   "source": [
    "12. Desarrolle un programa que funcione como caja registradora\n",
    "\n",
    "<img src=\"alg/ejemplo-14-DF.jpg\" width=\"400px\">"
   ]
  },
  {
   "cell_type": "code",
   "execution_count": null,
   "metadata": {},
   "outputs": [],
   "source": [
    "\n",
    "\n"
   ]
  },
  {
   "cell_type": "markdown",
   "metadata": {},
   "source": [
    "13. Crea un programa que muestre los números primos hasta **n**\n",
    "\n",
    "<img src=\"alg/diagrama-15-7-ej.jpg\" width=\"400px\">"
   ]
  },
  {
   "cell_type": "code",
   "execution_count": null,
   "metadata": {},
   "outputs": [],
   "source": [
    "\n"
   ]
  }
 ],
 "metadata": {
  "kernelspec": {
   "display_name": "Python 3",
   "language": "python",
   "name": "python3"
  },
  "language_info": {
   "codemirror_mode": {
    "name": "ipython",
    "version": 3
   },
   "file_extension": ".py",
   "mimetype": "text/x-python",
   "name": "python",
   "nbconvert_exporter": "python",
   "pygments_lexer": "ipython3",
   "version": "3.7.6"
  }
 },
 "nbformat": 4,
 "nbformat_minor": 4
}
