{
 "cells": [
  {
   "cell_type": "markdown",
   "metadata": {},
   "source": [
    "# 1. Variables y el espacio de memoria"
   ]
  },
  {
   "cell_type": "markdown",
   "metadata": {},
   "source": [
    "Bien, cada vez que creamos una variable, esta tiene un identificador, para saber el identificador en el sistema de una variable solo necesitamos utilizar el comando <b>id(variable)</b> y podremos verlo a continuación crearemos una variable y su espacio de memoria."
   ]
  },
  {
   "cell_type": "code",
   "execution_count": null,
   "metadata": {},
   "outputs": [],
   "source": [
    "a = 5"
   ]
  },
  {
   "cell_type": "code",
   "execution_count": null,
   "metadata": {},
   "outputs": [],
   "source": [
    "print(id(a))"
   ]
  },
  {
   "cell_type": "markdown",
   "metadata": {},
   "source": [
    "Ahora le asignaremos a la <b>variable_dos</b> la <b>variable_uno<b>"
   ]
  },
  {
   "cell_type": "code",
   "execution_count": null,
   "metadata": {},
   "outputs": [],
   "source": [
    "b = a\n",
    "print(id(b))"
   ]
  },
  {
   "cell_type": "markdown",
   "metadata": {},
   "source": [
    "Bien ahora que vemos que se ha asignado la misma ID, ¿qué tal si probamos creando la variable 4 y le asignamos esta vez el mismo valor?"
   ]
  },
  {
   "cell_type": "code",
   "execution_count": null,
   "metadata": {},
   "outputs": [],
   "source": [
    "c = 5"
   ]
  },
  {
   "cell_type": "code",
   "execution_count": null,
   "metadata": {},
   "outputs": [],
   "source": [
    "print(id(c))\n",
    "\n",
    "id(b) == id(a) and id(b) == id(c)"
   ]
  },
  {
   "cell_type": "markdown",
   "metadata": {},
   "source": [
    "¿Qué paso, por que 3 variables diferentes tienen el mismo ID? bueno al parecer no es la variable la que tiene el ID, si no el valor asignado el que tiene la ID, en ese caso, ¿qué proponen para comprobar esta teoria?"
   ]
  },
  {
   "cell_type": "code",
   "execution_count": null,
   "metadata": {},
   "outputs": [],
   "source": [
    "\n"
   ]
  },
  {
   "cell_type": "markdown",
   "metadata": {},
   "source": [
    "Bien, solo tenemos que entender este concepto sobre asignación de memoria, se hace al valor que se apunta no a la variable.\n",
    "<img src=\"img/explicacion-variables.png\">"
   ]
  },
  {
   "cell_type": "markdown",
   "metadata": {},
   "source": [
    "Ahora vamos examinar cuidadosamente denuevo esta parte del código"
   ]
  },
  {
   "cell_type": "code",
   "execution_count": null,
   "metadata": {},
   "outputs": [],
   "source": [
    "a = 10\n",
    "b = a\n",
    "print(a, b)\n",
    "a = 20\n",
    "print(a, b)"
   ]
  },
  {
   "cell_type": "code",
   "execution_count": null,
   "metadata": {},
   "outputs": [],
   "source": []
  },
  {
   "cell_type": "code",
   "execution_count": null,
   "metadata": {},
   "outputs": [],
   "source": []
  },
  {
   "cell_type": "code",
   "execution_count": null,
   "metadata": {},
   "outputs": [],
   "source": []
  },
  {
   "cell_type": "code",
   "execution_count": null,
   "metadata": {
    "id": "mgVp4rNRnt_e"
   },
   "outputs": [],
   "source": [
    "# 2. Trabajo con vectores"
   ]
  },
  {
   "cell_type": "markdown",
   "metadata": {},
   "source": [
    "En el trabajo con vectores, es muy importante entender los elementos de un vector, para ello vamos a visualizar sus componentes y luego a extendernos en ejemplos\n",
    "<img src=\"img/vectores.jpg\" width=\"600px\">\n"
   ]
  },
  {
   "cell_type": "markdown",
   "metadata": {},
   "source": [
    "#### Primero que todo definiremos el vector"
   ]
  },
  {
   "cell_type": "code",
   "execution_count": null,
   "metadata": {},
   "outputs": [],
   "source": [
    "c = [-7,0,3,8,5,-4,6,6,1]"
   ]
  },
  {
   "cell_type": "markdown",
   "metadata": {},
   "source": [
    "<hr style=\"height:2px;border-width:0;color:gray;background-color:red\">\n",
    "<h2 style=\"color: red\">Actividad: Ejecutaremos las siguientes lineas </h2>"
   ]
  },
  {
   "cell_type": "markdown",
   "metadata": {},
   "source": [
    "1.Agregaremos el número que falta vector.append(2)"
   ]
  },
  {
   "cell_type": "code",
   "execution_count": null,
   "metadata": {},
   "outputs": [],
   "source": [
    "c.append(2)"
   ]
  },
  {
   "cell_type": "code",
   "execution_count": null,
   "metadata": {},
   "outputs": [],
   "source": [
    "c[5]"
   ]
  },
  {
   "cell_type": "markdown",
   "metadata": {},
   "source": [
    "2.Verificaremos el tamaño del vector len(vector)"
   ]
  },
  {
   "cell_type": "code",
   "execution_count": null,
   "metadata": {},
   "outputs": [],
   "source": [
    "len(c)"
   ]
  },
  {
   "cell_type": "markdown",
   "metadata": {},
   "source": [
    "3.Cuál seria la posición que necesitariamos para qué esta comparación sea (true)"
   ]
  },
  {
   "cell_type": "code",
   "execution_count": null,
   "metadata": {},
   "outputs": [],
   "source": [
    "x = int(input(\"Ingresar el número de la posición que nos permita acceder al número 8 \"))\n",
    "if c[x] == 8:\n",
    "    print(\"Si, correcto, es la posición correcto el número es : \",c[x])\n",
    "else:\n",
    "    print(\"No, no es el mismo número, vuelve a intentarlo\")"
   ]
  },
  {
   "cell_type": "markdown",
   "metadata": {},
   "source": [
    "<h2 style=\"color: red\">Fin de la actividad</h2>\n",
    "<hr style=\"height:2px;border-width:0;color:gray;background-color:red\">"
   ]
  },
  {
   "cell_type": "markdown",
   "metadata": {
    "id": "XKqgtFRcnt_3"
   },
   "source": [
    "<div style=\"background: #fff; padding: 20px; border: 1px solid #006699;\">\n",
    "    <h1>Áclaración</h1>\n",
    "    Es bueno aclarar, que una lista no contienen un tipo unico de datos, puede contener más datos, incluyendo otro vector\n",
    "</div>"
   ]
  },
  {
   "cell_type": "markdown",
   "metadata": {
    "id": "bhng3fawSvkx"
   },
   "source": [
    "Vamos a definir dos listas con varios tipos de datos y veremos que pasa"
   ]
  },
  {
   "cell_type": "code",
   "execution_count": null,
   "metadata": {
    "id": "9CjN810oTNya"
   },
   "outputs": [],
   "source": [
    "vector_uno = [1,\"hola\",2,\"estudiante\",3.0]\n",
    "vector_dos = [5.0, 4, \"Probando\"]"
   ]
  },
  {
   "cell_type": "markdown",
   "metadata": {},
   "source": [
    "Ahora intentaremos agregar un vector a otro vector y veamos qué pasa?"
   ]
  },
  {
   "cell_type": "code",
   "execution_count": null,
   "metadata": {},
   "outputs": [],
   "source": [
    "print(vector_uno)\n"
   ]
  },
  {
   "cell_type": "code",
   "execution_count": null,
   "metadata": {},
   "outputs": [],
   "source": [
    "vector_uno.append(vector_dos)\n",
    "print(vector_uno)"
   ]
  },
  {
   "cell_type": "markdown",
   "metadata": {},
   "source": [
    "<div style=\"background: #fff; padding: 20px; border: 1px solid #006699;\">\n",
    "    <h1>Crearemos una copia de la variable</h1>\n",
    "    Es bueno aclarar, que una lista no contienen un tipo unico de datos, puede contener más datos, incluyendo otro vector\n",
    "</div>"
   ]
  },
  {
   "cell_type": "code",
   "execution_count": 1,
   "metadata": {},
   "outputs": [],
   "source": [
    "array_example = [-3,1,2,4,3,-7,8]\n",
    "array_example_two = [-7,1,2,4,3,-7,8]"
   ]
  },
  {
   "cell_type": "markdown",
   "metadata": {},
   "source": [
    "Agrega un ítem al final de la lista. Equivale a *a[len(a):] = [x]* debe ser iterable como un vector:\n",
    "\n",
    "`list.extend(L)`"
   ]
  },
  {
   "cell_type": "code",
   "execution_count": 2,
   "metadata": {},
   "outputs": [
    {
     "name": "stdout",
     "output_type": "stream",
     "text": [
      "[-3, 1, 2, 4, 3, -7, 8, -7, 1, 2, 4, 3, -7, 8]\n"
     ]
    }
   ],
   "source": [
    "array_example.extend(array_example_two)\n",
    "print(array_example)"
   ]
  },
  {
   "cell_type": "markdown",
   "metadata": {},
   "source": [
    "El tipo de dato lista tiene algunos métodos más. Aquí están todos los métodos de los objetos lista:\n",
    "\n",
    "`list.append(x)`"
   ]
  },
  {
   "cell_type": "code",
   "execution_count": 3,
   "metadata": {},
   "outputs": [
    {
     "name": "stdout",
     "output_type": "stream",
     "text": [
      "[-3, 1, 2, 4, 3, -7, 8, -7, 1, 2, 4, 3, -7, 8, [-7, 1, 2, 4, 3, -7, 8]]\n"
     ]
    }
   ],
   "source": [
    "array_example.append(array_example_two)\n",
    "print(array_example)"
   ]
  },
  {
   "cell_type": "markdown",
   "metadata": {},
   "source": [
    "Extiende la lista agregándole todos los ítems de la lista dada. Equivale a *a[len(a):] = L*:\n",
    "\n",
    "`list.insert(i, x)`"
   ]
  },
  {
   "cell_type": "code",
   "execution_count": 4,
   "metadata": {},
   "outputs": [
    {
     "name": "stdout",
     "output_type": "stream",
     "text": [
      "[-3, 1, 2, 4, 'a', 3, -7, 8, -7, 1, 2, 4, 3, -7, 8, [-7, 1, 2, 4, 3, -7, 8]]\n"
     ]
    }
   ],
   "source": [
    "array_example.insert(4, 'a')\n",
    "print(array_example)"
   ]
  },
  {
   "cell_type": "markdown",
   "metadata": {},
   "source": [
    "Quita el primer ítem de la lista cuyo valor sea *x*. Es un error si no existe tal ítem:\n",
    "\n",
    "\n",
    "`list.remove(x)`"
   ]
  },
  {
   "cell_type": "code",
   "execution_count": 5,
   "metadata": {},
   "outputs": [
    {
     "name": "stdout",
     "output_type": "stream",
     "text": [
      "[-3, 1, 2, 4, 3, -7, 8, -7, 1, 2, 4, 3, -7, 8, [-7, 1, 2, 4, 3, -7, 8]]\n"
     ]
    }
   ],
   "source": [
    "array_example.remove('a')\n",
    "print(array_example)"
   ]
  },
  {
   "cell_type": "markdown",
   "metadata": {},
   "source": [
    "Quita el ítem en la posición dada de la lista, y lo devuelve. Si no se especifica un índice, *a.pop()* quita y devuelve el último ítem de la lista. (Los corchetes que encierran a *i* en la firma del método denotan que el parámetro es opcional, no que deberías escribir corchetes en esa posición. Verás esta notación con frecuencia en la Referencia de la Biblioteca de Python):\n",
    "\n",
    "Este metodo es utilizado de dos formas, para eliminar el último elemento de la lista y a la vez para que nos mueste un elemento de la lista, por ejemplo en nuestra lista sabemos que lo último que tenemos es un vector <b>[-7, 1, 2, 4, 3, -7, 8]</b>\n",
    "\n",
    "`list.pop([i])`"
   ]
  },
  {
   "cell_type": "code",
   "execution_count": null,
   "metadata": {},
   "outputs": [],
   "source": [
    "array_example.pop()"
   ]
  },
  {
   "cell_type": "code",
   "execution_count": null,
   "metadata": {},
   "outputs": [],
   "source": [
    "array_example.pop(0)"
   ]
  },
  {
   "cell_type": "code",
   "execution_count": null,
   "metadata": {},
   "outputs": [],
   "source": [
    "print(array_example)"
   ]
  },
  {
   "cell_type": "code",
   "execution_count": null,
   "metadata": {},
   "outputs": [],
   "source": [
    "temp = array_example.pop()\n",
    "print(temp)"
   ]
  },
  {
   "cell_type": "markdown",
   "metadata": {},
   "source": [
    "Quita todos los elementos de la lista. Equivalente a del *a[:]*:\n",
    "\n",
    "`list.clear()`"
   ]
  },
  {
   "cell_type": "code",
   "execution_count": null,
   "metadata": {},
   "outputs": [],
   "source": [
    "#Cómo quita todos los elementos de una lista antes que nada le haremos una copia al array\n",
    "print(\"Array base\",array_example)\n",
    "array_example_three = array_example\n",
    "print(\"Array copia\",array_example_three)\n",
    "array_example_three.clear()\n",
    "print(\"Array limpio\",array_example_three)"
   ]
  },
  {
   "cell_type": "markdown",
   "metadata": {},
   "source": [
    "Devuelve el índice en la lista del primer ítem cuyo valor sea *x*. Es un error si no existe tal ítem:\n",
    "\n",
    "`list.index(x)`"
   ]
  },
  {
   "cell_type": "code",
   "execution_count": 6,
   "metadata": {},
   "outputs": [
    {
     "name": "stdout",
     "output_type": "stream",
     "text": [
      "4\n",
      "[-3, 1, 2, 4, 3, -7, 8, 1, 3]\n"
     ]
    }
   ],
   "source": [
    "array_example = [-3,1,2,4,3,-7,8,1,3]\n",
    "print(array_example.index(3))\n",
    "print(array_example)"
   ]
  },
  {
   "cell_type": "markdown",
   "metadata": {},
   "source": [
    "<hr style=\"height:2px;border-width:0;color:gray;background-color:red\">\n",
    "<h2 style=\"color: red\">Reto</h2>\n",
    "Si index solo nos enseña la primer posición de un elemento en un vector, qué algoritmo tenemos que hacer para encontrar todas las posiciones de un elemento que elijamos?"
   ]
  },
  {
   "cell_type": "code",
   "execution_count": null,
   "metadata": {},
   "outputs": [],
   "source": []
  },
  {
   "cell_type": "markdown",
   "metadata": {},
   "source": [
    "<h2 style=\"color: red\">Fin de la actividad</h2>\n",
    "<hr style=\"height:2px;border-width:0;color:gray;background-color:red\">"
   ]
  },
  {
   "cell_type": "markdown",
   "metadata": {},
   "source": [
    "Devuelve el número de veces que *x* aparece en la lista:\n",
    "\n",
    "`list.count(x)`"
   ]
  },
  {
   "cell_type": "code",
   "execution_count": null,
   "metadata": {},
   "outputs": [],
   "source": [
    "array_example.count(3)"
   ]
  },
  {
   "cell_type": "markdown",
   "metadata": {},
   "source": [
    "Ordena los ítems de la lista *in situ* (los argumentos pueden ser usados para personalizar el orden de la lista, ve *sorted()* para su explicación):\n",
    "\n",
    "`list.sort(key=None, reverse=False)`"
   ]
  },
  {
   "cell_type": "code",
   "execution_count": null,
   "metadata": {},
   "outputs": [],
   "source": [
    "cars = ['Ford', 'BMW', 'Volvo']\n",
    "print(cars)\n",
    "cars.sort()"
   ]
  },
  {
   "cell_type": "code",
   "execution_count": null,
   "metadata": {},
   "outputs": [],
   "source": [
    "print(cars)"
   ]
  },
  {
   "cell_type": "markdown",
   "metadata": {},
   "source": [
    "Invierte los elementos de la lista *in situ*:\n",
    "    \n",
    "    \n",
    "list.sort(reverse=True)"
   ]
  },
  {
   "cell_type": "code",
   "execution_count": null,
   "metadata": {},
   "outputs": [],
   "source": [
    "cars = ['Ford', 'BMW', 'Volvo']\n",
    "\n",
    "cars.sort(reverse=True)\n",
    "print(cars)"
   ]
  },
  {
   "cell_type": "markdown",
   "metadata": {},
   "source": [
    "Ordena los ítems de la lista *in situ* (los argumentos pueden ser usados para personalizar el orden de la lista, ve *sorted()* para su explicación):\n",
    "\n",
    "`list.reverse()`"
   ]
  },
  {
   "cell_type": "code",
   "execution_count": null,
   "metadata": {},
   "outputs": [],
   "source": [
    "array_example = [-3,1,2,4,3,-7,8,1,3]\n",
    "print(array_example)\n",
    "array_example.reverse()\n",
    "print(array_example)\n"
   ]
  },
  {
   "cell_type": "code",
   "execution_count": null,
   "metadata": {},
   "outputs": [],
   "source": []
  },
  {
   "cell_type": "markdown",
   "metadata": {},
   "source": [
    "Devuelve una copia superficial de la lista. Equivalente a *a[:]*:\n",
    "\n",
    "`list.copy()`"
   ]
  },
  {
   "cell_type": "code",
   "execution_count": null,
   "metadata": {},
   "outputs": [],
   "source": [
    "array_example_five = array_example.copy()"
   ]
  },
  {
   "cell_type": "code",
   "execution_count": null,
   "metadata": {},
   "outputs": [],
   "source": [
    "print(id(array_example))\n",
    "print(id(array_example_five))"
   ]
  },
  {
   "cell_type": "markdown",
   "metadata": {},
   "source": [
    "# 3. Matrices Python"
   ]
  },
  {
   "cell_type": "markdown",
   "metadata": {},
   "source": [
    "Las matrices son arreglos bidimensionales, que pueden ser tratados tambien de diferentes maneras."
   ]
  },
  {
   "cell_type": "markdown",
   "metadata": {},
   "source": [
    "<img src=\"img/matrix.png\">"
   ]
  },
  {
   "cell_type": "code",
   "execution_count": null,
   "metadata": {},
   "outputs": [],
   "source": [
    "A = [[1, 4, 5, 12], \n",
    "    [-5, 8, 9, 0],\n",
    "    [-6, 7, 11, 19]]\n",
    "\n",
    "print(\"A =\", A) \n",
    "print(\"A[1] =\", A[1])      # 2nd row -  2da fila\n",
    "print(\"A[1][2] =\", A[1][2])   # 3rd element of 2nd row - 3er elemento de la 2da fila\n",
    "print(\"A[0][-2] =\", A[0][-2])   # Last element of 1st Row \n",
    "\n",
    "column = [];        # empty list -extraer columna 2\n",
    "for row in A:\n",
    "    column.append(row[2])\n",
    "\n",
    "\n",
    "print(\"3rd column - 3ra columna =\", column)"
   ]
  },
  {
   "cell_type": "markdown",
   "metadata": {},
   "source": [
    "Muy bien, con la libreria Numpy existen mejores opciones para trabajar estas matrices, sin embargo, para efectos de este curso solo lo dejaremos así, opcionalment puedes decir aplicar las funciones de los Array practicadas anteriormente para ver los esultados."
   ]
  },
  {
   "cell_type": "code",
   "execution_count": null,
   "metadata": {},
   "outputs": [],
   "source": [
    "A.append(4)\n",
    "print(A)"
   ]
  },
  {
   "cell_type": "code",
   "execution_count": null,
   "metadata": {},
   "outputs": [],
   "source": [
    "len(A)"
   ]
  },
  {
   "cell_type": "markdown",
   "metadata": {},
   "source": [
    "# Biografías"
   ]
  },
  {
   "cell_type": "markdown",
   "metadata": {},
   "source": [
    "<ul>\n",
    "<p><a href=\"https://www.mclibre.org/consultar/python/lecciones/python-variables-2.html#Paso14\" target=\"_blank\">https://www.mclibre.org/consultar/python/lecciones/python-variables-2.html#Paso14</a></p>\n",
    "<p><a href=\"https://python-para-impacientes.blogspot.com/2018/09/copia-superficial-y-profunda-de.html\" target=\"_blank\">https://python-para-impacientes.blogspot.com/2018/09/copia-superficial-y-profunda-de.html</a></p>\n",
    "<p><a href=\"https://www.w3schools.com/python/python_arrays.asp\" target=\"_blank\">https://www.w3schools.com/python/python_arrays.asp</a></p>\n",
    "<p><a href=\"https://towardsdatascience.com/numpy-array-cookbook-generating-and-manipulating-arrays-in-python-2195c3988b09\" target=\"_blank\">https://towardsdatascience.com/numpy-array-cookbook-generating-and-manipulating-arrays-in-python-2195c3988b09</a></p>   \n",
    "<p><a href=\"https://www.programiz.com/python-programming/matrix\" target=\"_blank\"> https://www.programiz.com/python-programming/matrix</a></p>  \n",
    "    \n",
    "    \n",
    "    \n",
    "</ul>"
   ]
  }
 ],
 "metadata": {
  "colab": {
   "collapsed_sections": [],
   "name": "2-Variables.ipynb_V.EP",
   "provenance": [],
   "toc_visible": true
  },
  "kernelspec": {
   "display_name": "Python 3",
   "language": "python",
   "name": "python3"
  },
  "language_info": {
   "codemirror_mode": {
    "name": "ipython",
    "version": 3
   },
   "file_extension": ".py",
   "mimetype": "text/x-python",
   "name": "python",
   "nbconvert_exporter": "python",
   "pygments_lexer": "ipython3",
   "version": "3.7.6"
  }
 },
 "nbformat": 4,
 "nbformat_minor": 1
}
