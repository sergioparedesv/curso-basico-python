{
 "cells": [
  {
   "cell_type": "markdown",
   "metadata": {},
   "source": [
    "# 1. Definición: Programación orientada a objetos"
   ]
  },
  {
   "cell_type": "markdown",
   "metadata": {},
   "source": [
    "No hay problema complejo que no se pueda subdividir en un conjunto de problemas más simples, a esto se orienta la Programación orientada a objetos (POO), cuando los códigos se hacen demasiado extensos, no se pueden crear una sola función, se debe segmentar en diferentes funciones.\n",
    "\n",
    "No hay una sola forma de usar un programa, a diferencia de la programación lineal, en el mundo real los usuarios no siguen una sola ruta lineal, los usuarios prefieren utilizar herramientas que puedan configurar y personalizar a sus necesidades, por eso los diferentes problemas de un programa deben ser divididos en diferentes objetos."
   ]
  },
  {
   "cell_type": "markdown",
   "metadata": {},
   "source": [
    "## Teoría\n",
    "\n",
    "**Objeto:** Representan una entidad concreta o abstracta del mundo real, en programación básicamente se le conoce como la instancia de una clase en sí, es lo que da sentido a estas.\n",
    "\n",
    " \n",
    "\n",
    "**Clase:** Son uno de los principales componentes de un lenguaje de programación, pues en ella ocurren todos los procesos lógicos requeridos para un sistema.\n",
    "\n",
    " \n",
    "\n",
    "**Encapsulamiento:** Es uno de los más importantes en términos de seguridad dentro de nuestra aplicación, la encapsulación es la forma de proteger nuestros datos dentro del sistema, estableciendo básicamente los permisos o niveles de visibilidad o acceso de nuestros datos.\n",
    "\n",
    " \n",
    "\n",
    "**Abstracción:** Permite resaltar la parte más representativa de algo, ignorando detalles para centrarse en lo principal.\n",
    "\n",
    " \n",
    "\n",
    "**Herencia:** Representa lo que conocemos de herencia en el mundo real, básicamente, mediante la herencia obtenemos las características o rasgos comunes de nuestros padres o abuelos, en java es el mismo enfoque, permitiendo la creación de nuevas clases basadas en las clases ya existentes.\n",
    "\n",
    " \n",
    "\n",
    "**Polimorfismo:** La capacidad que tienen los objetos de comportarse de múltiples formas sin olvidar que para esto se requiere de la herencia, en sí consiste en hacer referencia a objetos descendientes.\n",
    "\n",
    " \n",
    "\n",
    "**Método:** Representan el comportamiento u operaciones, la forma como interactúa la clase con su entorno.\n",
    "\n",
    " \n",
    "\n",
    "**Clase contenedor:** Esta clase posee los métodos comunes a todos los contenedores, como aquellos que permiten agregar componentes al contenedor, localizar componentes, establecer la organización o disposición de los componentes.\n",
    "\n",
    " \n",
    "\n",
    "**Constructor:** Es una subrutina cuya misión es inicializar un objeto de una clase. En el constructor se asignan los valores iniciales de nuevo objeto. Se utiliza para crear tablas de clases virtuales y así desarrollar el polimorfismo."
   ]
  },
  {
   "cell_type": "markdown",
   "metadata": {},
   "source": [
    "# Glosario\n",
    "\n",
    "***Class:*** Su traducción es clase, la clase es la definición principal que contiene objetos, por ejemplo la clase **Tren** hereda sus atributos a diferentes objetos.\n",
    "\n",
    "***Object:*** Su traducción es objeto. ¿Qué es un objeto en programación? Es todo, si una clase es Tren uno de los objetos de esa clase puede ser Metro o Tranvia.\n",
    "\n",
    "**Self:** Su traducción es: sí mismo, esto es propio de Python, pues en Python las clases tambien son objetos.\n",
    "\n",
    "**Pass:** Es uno de los más importantes en términos de seguridad dentro de nuestra aplicación, la encapsulación es la forma de proteger nuestros datos dentro del sistema, estableciendo básicamente los permisos o niveles de visibilidad o acceso de nuestros datos.\n",
    "\n",
    "**Init:** Permite resaltar la parte más representativa de algo, ignorando detalles para centrarse en lo principal.\n",
    "\n",
    "**checkout** Verificado."
   ]
  },
  {
   "cell_type": "markdown",
   "metadata": {},
   "source": [
    "# Objetos"
   ]
  },
  {
   "cell_type": "markdown",
   "metadata": {},
   "source": [
    "Los objetos son agrupaciones de datos y los métodos que operan estos datos, es importante entender este concepto como se ilustra en la imagen de abajo."
   ]
  },
  {
   "cell_type": "markdown",
   "metadata": {},
   "source": [
    "<img src=\"img/atributos-metodos.jpg\" width=\"800px\">"
   ]
  },
  {
   "cell_type": "markdown",
   "metadata": {},
   "source": [
    "Hasta el momento hemos estado trabajando con estructuras primitivas de programación. La programación lineal que llevó el hombre a la luna, se puede quedar corta ante problemas actuales. Imaginemos que somos programadores de un  ***AirBnB***"
   ]
  },
  {
   "cell_type": "code",
   "execution_count": null,
   "metadata": {},
   "outputs": [],
   "source": [
    "#Ejemplo\n",
    "hospedajes = [6101, 7102, 9203, 9301, 10202, 11203]\n",
    "hospedajes_ocupado = [True, False, False, True, True, False]\n"
   ]
  },
  {
   "cell_type": "markdown",
   "metadata": {},
   "source": [
    "Bueno, tenemos una estructura simple, el problema radica en: ¿qué pasa si queremos ingresar más propiedades, por ejemplo, si el cuarto está en un municipio cercano a Medellin y también necesitamos el cupo disponoble? Vamos a desarrollar este problema con POO."
   ]
  },
  {
   "cell_type": "markdown",
   "metadata": {},
   "source": [
    "### Crearemos primero una clase e incluiremos "
   ]
  },
  {
   "cell_type": "code",
   "execution_count": null,
   "metadata": {},
   "outputs": [],
   "source": [
    "class Hospedajes:\n",
    "    pass"
   ]
  },
  {
   "cell_type": "markdown",
   "metadata": {},
   "source": [
    "Ahora guardaremos la clase dentro de una variable"
   ]
  },
  {
   "cell_type": "code",
   "execution_count": null,
   "metadata": {},
   "outputs": [],
   "source": [
    "hospedajes = Hospedajes()"
   ]
  },
  {
   "cell_type": "markdown",
   "metadata": {},
   "source": [
    "### Atributos de la instancia"
   ]
  },
  {
   "cell_type": "markdown",
   "metadata": {},
   "source": [
    "Los atributos de la instancia definen las caracteristicas, ¿puedes imaginar más caracteristicas para un hospedaje? claro que si, muchas más, por ejemplo:"
   ]
  },
  {
   "cell_type": "code",
   "execution_count": null,
   "metadata": {},
   "outputs": [],
   "source": [
    "class Hospedajes:\n",
    "    #Atributos\n",
    "    def __init__(self, numero_maximo_de_huespedes, lugares_de_estacionamiento):\n",
    "        self.numero_maximo_de_huespedes = numero_maximo_de_huespedes\n",
    "        self.lugares_de_estacionamiento = lugares_de_estacionamiento\n",
    "        self.huespedes = 0\n",
    "    #Métodos\n",
    "\n",
    "hospedajes = Hospedajes(numero_maximo_de_huespedes=10, lugares_de_estacionamiento=2)\n",
    "print(hospedajes.numero_maximo_de_huespedes) # 10"
   ]
  },
  {
   "cell_type": "markdown",
   "metadata": {},
   "source": [
    "### Métodos de la instancia"
   ]
  },
  {
   "cell_type": "markdown",
   "metadata": {},
   "source": [
    "Si los atributos de una **clase/objeto** nos dice sus propiedades, qué nos define sus **métodos/funciones**\n",
    "\n",
    "Las acciones de la clase:"
   ]
  },
  {
   "cell_type": "code",
   "execution_count": 1,
   "metadata": {},
   "outputs": [
    {
     "name": "stdout",
     "output_type": "stream",
     "text": [
      "Personas totales que se están alojando son : 2\n"
     ]
    }
   ],
   "source": [
    "class Hospedaje:\n",
    "    \n",
    "    #Atributos o argumentos\n",
    "    def __init__(self, numero_maximo_de_huespedes, lugares_de_estacionamiento): #construir\n",
    "        self.numero_maximo_de_huespedes = numero_maximo_de_huespedes\n",
    "        self.lugares_de_estacionamiento = lugares_de_estacionamiento\n",
    "        self.huespedes = 0\n",
    "        \n",
    "        \n",
    "    #Métodos o las acciones\n",
    "    def anadir_huespedes(self, cantidad_de_huespedes):\n",
    "        self.huespedes += cantidad_de_huespedes\n",
    "\n",
    "    def checkout(self, cantidad_de_huespedes):\n",
    "        self.huespedes -= cantidad_de_huespedes\n",
    "\n",
    "    def ocupacion_total(self):\n",
    "        return self.huespedes\n",
    "\n",
    "hospedaje = Hospedaje(10, 2)\n",
    "hospedaje.anadir_huespedes(7)\n",
    "hospedaje.checkout(5)\n",
    "print(\"Personas totales que se están alojando son :\",hospedaje.ocupacion_total())"
   ]
  },
  {
   "cell_type": "markdown",
   "metadata": {},
   "source": [
    "<hr style=\"height:2px;border-width:0;color:gray;background-color:red\">\n",
    "<h2 style=\"color: red\">Actividad</h2>\n"
   ]
  },
  {
   "cell_type": "markdown",
   "metadata": {},
   "source": [
    "1.Crearemos una clase bus, agregaremos sus atributos y sus metodos."
   ]
  },
  {
   "cell_type": "code",
   "execution_count": null,
   "metadata": {},
   "outputs": [],
   "source": []
  },
  {
   "cell_type": "markdown",
   "metadata": {},
   "source": [
    "<h2 style=\"color: red\">Fin</h2>\n",
    "<hr style=\"height:2px;border-width:0;color:gray;background-color:red\">\n"
   ]
  },
  {
   "cell_type": "markdown",
   "metadata": {},
   "source": [
    "En Python TODO ES UN OBJETO (todo tiene un espacio de memoria) y todo tiene un tipo. Esto significa que podemos encapsular tanto los datos como los comportamientos."
   ]
  },
  {
   "cell_type": "code",
   "execution_count": null,
   "metadata": {},
   "outputs": [],
   "source": [
    "class Persona: #Definimos la clase\n",
    "    #Atributos\n",
    "    def __init__(self, nombre, edad):\n",
    "        self.nombre = nombre\n",
    "        self.edad = edad\n",
    "    #Métodos\n",
    "    def saluda(self,otra_persona):\n",
    "        return f'Hola {otra_persona.nombre}, me llamo {self.nombre}.'"
   ]
  },
  {
   "cell_type": "code",
   "execution_count": null,
   "metadata": {},
   "outputs": [],
   "source": [
    "david = Persona('David', 35)\n",
    "erika = Persona('Erika', 32)\n",
    "david.saluda(erika)\n",
    "\n",
    "\n"
   ]
  },
  {
   "cell_type": "code",
   "execution_count": null,
   "metadata": {},
   "outputs": [],
   "source": []
  },
  {
   "cell_type": "markdown",
   "metadata": {},
   "source": [
    "<hr style=\"height:2px;border-width:0;color:gray;background-color:red\">\n",
    "<h2 style=\"color: red\">Actividad</h2>"
   ]
  },
  {
   "cell_type": "markdown",
   "metadata": {},
   "source": [
    "#### 1. Utilizarás la clase persona que vimos anteriormente, le agregarás el atributo documento y luego el método presentar documento:"
   ]
  },
  {
   "cell_type": "code",
   "execution_count": null,
   "metadata": {},
   "outputs": [],
   "source": [
    "class Persona: #Definimos la clase\n",
    "    #Atributos\n",
    "    def __init__(self, nombre, edad, documento):\n",
    "        self.nombre = nombre\n",
    "        self.edad = edad\n",
    "        self.documento = documento\n",
    "    #Métodos\n",
    "    def saluda(self,otra_persona):\n",
    "        return f'Hola {otra_persona.nombre}, me llamo {self.nombre}.'\n",
    "    \n",
    "    def saluda_y_presenta_documento(self,otra_persona):\n",
    "        return f'Hola {otra_persona.nombre}, me llamo {self.nombre}, tengo {self.edad} años y mi número de documento es {self.documento}'\n",
    "\n"
   ]
  },
  {
   "cell_type": "code",
   "execution_count": null,
   "metadata": {},
   "outputs": [],
   "source": [
    "david = Persona('David', 35, 111)\n",
    "erika = Persona('Erika', 32, 222)\n",
    "david.saluda_y_presenta_documento(erika)\n",
    "\n",
    "\n"
   ]
  },
  {
   "cell_type": "markdown",
   "metadata": {},
   "source": [
    "#### 2. Calcular la distancia entre dos puntos\n",
    "\n",
    "**isinstance**: Es un comando que nos sirve para saber si un tipo de dato es una instancia de coordenada. Vamos a probarlo y de paso vamos a mirar esta clase para saber cuánta distancia hay de un punto al otro (un algoritmo que utiliza **Uber** con bastante frecuencia pero con mucha más complejidad).\n",
    "\n",
    "<img src=\"img/distancias.png\">"
   ]
  },
  {
   "cell_type": "code",
   "execution_count": null,
   "metadata": {},
   "outputs": [],
   "source": [
    "class Coordenada: #Definimos la clase\n",
    "    #Atributos de mi clase\n",
    "    def __init__(self, x, y): #Insertamos los argumentos\n",
    "        self.x = x\n",
    "        self.y = y\n",
    "    \n",
    "    #Métodos\n",
    "    def distancia(self, otra_coordenada):\n",
    "        x_diff = (self.x - otra_coordenada.x)**2 #-4*-4=16\n",
    "        y_diff = (self.y - otra_coordenada.y)**2 #-3*-3=9\n",
    "        \n",
    "        return (x_diff + y_diff)**0.5\n",
    "    \n",
    "if __name__ == '__main__':\n",
    "    coord_1= Coordenada(3, 2)\n",
    "    coord_2= Coordenada(7, 5)\n",
    "    \n",
    "coord_1.distancia(coord_2)\n",
    "    \n",
    "    \n",
    "    \n"
   ]
  },
  {
   "cell_type": "markdown",
   "metadata": {},
   "source": [
    "<h2 style=\"color: red\">Fin</h2>\n",
    "<hr style=\"height:2px;border-width:0;color:gray;background-color:red\">"
   ]
  },
  {
   "cell_type": "markdown",
   "metadata": {},
   "source": [
    "# 2. Decomposición\n",
    "\n",
    ">Partir un problema grande en problemas pequeños.\n",
    "\n",
    ">Utilizar clases para crear más componentes.\n",
    "\n",
    ">Cada clase se debe encargar de una parte del problema, así, si una parte del problema no se ejecuta bien podemos localizar la clase donde tenemos el problema."
   ]
  },
  {
   "cell_type": "markdown",
   "metadata": {},
   "source": [
    "Vamos ahora a utilizar un ejemplo, vamos a descomponer un automovil:"
   ]
  },
  {
   "cell_type": "code",
   "execution_count": null,
   "metadata": {},
   "outputs": [],
   "source": [
    "class Automovil: #Recordemos las clases llevan mayusculas\n",
    "\n",
    "    def __init__(self, modelo, marca, color): #Así se inician los atributros en las clases\n",
    "        self.modelo = modelo\n",
    "        self.marca = marca\n",
    "        self.color = color\n",
    "        self._estado = 'en_reposo' #Esta es una variable que es privada\n",
    "        self._motor = Motor(cilindros=4) # El simbolo que vuelve las variables privadas es _\n",
    "\n",
    "    def acelerar(self, tipo='despacio'): \n",
    "        if tipo == 'rapida':\n",
    "            self._motor.inyecta_gasolina(10)\n",
    "        else:\n",
    "            self._motor.inyecta_gasolina(3)\n",
    "\n",
    "        self._estado = 'en_movimiento'\n",
    "\n",
    "\n",
    "class Motor:\n",
    "\n",
    "    def __init__(self, cilindros, tipo='gasolina'):\n",
    "        self.cilindros = cilindros\n",
    "        self.tipo = tipo\n",
    "        self._temperatura = 0\n",
    "\n",
    "    def inyecta_gasolina(self, cantidad):\n",
    "        pass"
   ]
  },
  {
   "cell_type": "markdown",
   "metadata": {},
   "source": [
    "**Abstracción**\n",
    "\n",
    ">Enfocarnos en la información relevante.\n",
    "\n",
    ">Separar la información central de los detalles.\n",
    "\n",
    ">Utilizar variables y métodos (privados o públicos)."
   ]
  },
  {
   "cell_type": "code",
   "execution_count": null,
   "metadata": {},
   "outputs": [],
   "source": [
    "class Lavadora:\n",
    "    #Atributos\n",
    "    def __init__(self):\n",
    "        pass\n",
    "    \n",
    "    #Supermétodo\n",
    "    def lavar(self, temperatura='caliente'): #Crea un método público \n",
    "        self._llenar_tanque_de_agua(temperatura)\n",
    "        self._anadir_jabon()\n",
    "        self._lavar()\n",
    "        self._centrifugar()\n",
    "        \n",
    "    #Método\n",
    "    def _llenar_tanque_de_agua(self, temperatura): #Crea un método ¿?\n",
    "        print(f'Llenando el tanque con agua {temperatura}')\n",
    "\n",
    "    def _anadir_jabon(self):\n",
    "        print('Anadiendo jabón')\n",
    "\n",
    "    def _lavar(self):\n",
    "        print('Lavando la ropa')\n",
    "\n",
    "    def _centrifugar(self):\n",
    "        print('Centrifugando la ropa')\n",
    "        \n"
   ]
  },
  {
   "cell_type": "code",
   "execution_count": null,
   "metadata": {},
   "outputs": [],
   "source": [
    "if __name__ == '__main__':\n",
    "    lavadora = Lavadora()\n",
    "    lavadora.lavar()"
   ]
  },
  {
   "cell_type": "markdown",
   "metadata": {},
   "source": [
    "<hr style=\"height:2px;border-width:0;color:gray;background-color:red\">\n",
    "<h2 style=\"color: red\">Actividad</h2>"
   ]
  },
  {
   "cell_type": "markdown",
   "metadata": {},
   "source": [
    "# 3. Reutilización"
   ]
  },
  {
   "cell_type": "markdown",
   "metadata": {},
   "source": [
    "Vamos a utilizar la misma clase, vamos a crear el método público de **lavar** y luego al método público le agregamos el método privado de **lavar_y_secar** donde se indique la función secar ropa."
   ]
  },
  {
   "cell_type": "code",
   "execution_count": 2,
   "metadata": {},
   "outputs": [],
   "source": [
    "class Lavadora:\n",
    "    #Atributos\n",
    "    def __init__(self):\n",
    "        pass\n",
    "    \n",
    "    #Supermétodo\n",
    "    def lavar(self, temperatura='caliente'): #Crea un método público \n",
    "        self._llenar_tanque_de_agua(temperatura)\n",
    "        self._anadir_jabon()\n",
    "        self._lavar()\n",
    "        self._centrifugar()\n",
    "        \n",
    "    #Supermétodo\n",
    "    def lavar_y_secar(self, temperatura='caliente'): #Crea un método público \n",
    "        self._llenar_tanque_de_agua(temperatura)\n",
    "        self._anadir_jabon()\n",
    "        self._lavar()\n",
    "        self._centrifugar()\n",
    "        self._secar()\n",
    "        \n",
    "    #Método\n",
    "    def _llenar_tanque_de_agua(self, temperatura): #Crea un método ¿?\n",
    "        print(f'Llenando el tanque con agua {temperatura}')\n",
    "\n",
    "    def _anadir_jabon(self):\n",
    "        print('Anadiendo jabon')\n",
    "\n",
    "    def _lavar(self):\n",
    "        print('Lavando la ropa')\n",
    "\n",
    "    def _centrifugar(self):\n",
    "        print('Centrifugando la ropa')\n",
    "        \n",
    "    def _secar(self):\n",
    "        print('Secar con aire caliente')"
   ]
  },
  {
   "cell_type": "code",
   "execution_count": null,
   "metadata": {},
   "outputs": [],
   "source": [
    "if __name__ == '__main__':\n",
    "    lavadora = Lavadora()\n",
    "    lavadora.lavar_y_secar()\n",
    "\n"
   ]
  },
  {
   "cell_type": "markdown",
   "metadata": {},
   "source": [
    "<h2 style=\"color: red\">Fin</h2>\n",
    "<hr style=\"height:2px;border-width:0;color:gray;background-color:red\">\n"
   ]
  },
  {
   "cell_type": "markdown",
   "metadata": {},
   "source": [
    "# 4. Decoradores"
   ]
  },
  {
   "cell_type": "markdown",
   "metadata": {},
   "source": [
    "¿Qué es un decorador? \n",
    "\n",
    "Es una función que toma como un *input* a otra función y por último retorna una función."
   ]
  },
  {
   "cell_type": "code",
   "execution_count": null,
   "metadata": {},
   "outputs": [],
   "source": [
    "def funcion_decoradora(funcion):\n",
    "\tdef wrapper():\n",
    "\t\tprint(\"Este es el primer mensaje...\")\n",
    "\t\tfuncion()\n",
    "\t\tprint(\"Este es el último mensaje ;)\")\n",
    "\treturn wrapper\n",
    "\n",
    "@funcion_decoradora()\n",
    "def zumbido():\n",
    "\tprint(\"Buzzzzzz\")\n",
    "\n",
    "#zumbido = funcion_decoradora(zumbido)\n",
    "zumbido()"
   ]
  },
  {
   "cell_type": "markdown",
   "metadata": {},
   "source": [
    "Si no diste con el resultado no te preocupes, solo hay que analizarlo con detalle y el truco está en la línea zumbido = funcion_decoradora(zumbido). Sucede que la función *wrapper()* recibió la función zumbido() cómo parámetro y coloca su salida entre los otros dos *prints*.\n",
    "\n",
    "Todo lo que sucede se conoce en programación como **metaprogramación** (metaprogramming), ya que una parte del programa trata de modificar a otra durante el tiempo de compilación. En tanto un decorador básicamente toma una función, le añade alguna funcionalidad y la retorna."
   ]
  },
  {
   "cell_type": "markdown",
   "metadata": {},
   "source": [
    "<hr style=\"height:2px;border-width:0;color:gray;background-color:red\">\n",
    "<h2 style=\"color: red\">Actividad</h2>"
   ]
  },
  {
   "cell_type": "markdown",
   "metadata": {},
   "source": [
    "1. Para practicar decoradores creamos dos funciones, una función suma, una función resta, las dos harán una operación y a la función suma le agregaremos un decorador"
   ]
  },
  {
   "cell_type": "code",
   "execution_count": null,
   "metadata": {},
   "outputs": [],
   "source": []
  },
  {
   "cell_type": "markdown",
   "metadata": {},
   "source": [
    "2. Ahora lo haremos pasándole argumentos arbitrarios, a las funciones que deben ser decoradas."
   ]
  },
  {
   "cell_type": "code",
   "execution_count": null,
   "metadata": {},
   "outputs": [],
   "source": []
  },
  {
   "cell_type": "markdown",
   "metadata": {},
   "source": [
    "<h2 style=\"color: red\">Fin</h2>\n",
    "<hr style=\"height:2px;border-width:0;color:gray;background-color:red\">\n"
   ]
  },
  {
   "cell_type": "markdown",
   "metadata": {},
   "source": [
    "# 5. Encapsulamiento"
   ]
  },
  {
   "cell_type": "markdown",
   "metadata": {},
   "source": [
    ">Permite agrupar datos y su comportamiento.\n",
    "\n",
    ">Controla el acceso a dichos datos.\n",
    "\n",
    ">Previene modificaciones no autorizadas."
   ]
  },
  {
   "cell_type": "markdown",
   "metadata": {},
   "source": [
    "Es el ocultamiento de datos del estado interno para proteger la integridad del objeto."
   ]
  },
  {
   "cell_type": "code",
   "execution_count": null,
   "metadata": {},
   "outputs": [],
   "source": [
    "class Cliente:\n",
    "    def __init__(self):\n",
    "        self.__codigo = 7536\n",
    "        \n",
    "    def __cuenta(self):\n",
    "        print(\"cuenta de procesamiento\")\n",
    "        \n",
    "    def getcodigo(self):\n",
    "        return self.__codigo\n",
    "        \n",
    "persona = Cliente()\n",
    "#print(persona.__codigo)\n",
    "#Objeto._nombredelaclase__nombredelatributo\n",
    "#print(persona.codigo)\n",
    "print(persona._Cliente__codigo)\n",
    "#persona._Cliente__cuenta()"
   ]
  },
  {
   "cell_type": "markdown",
   "metadata": {},
   "source": [
    "# 6. Herencia"
   ]
  },
  {
   "cell_type": "markdown",
   "metadata": {},
   "source": [
    "Representa lo que conocemos de herencia en el mundo real, básicamente, mediante esta obtenemos las características o rasgos comunes de nuestros padres o abuelos. En Java es el mismo enfoque, permitiendo la creación de nuevas clases basadas en las clases ya existentes, *** SÍ, LA IDEA ES REUTILIZAR CÓDIGO!! ***"
   ]
  },
  {
   "cell_type": "markdown",
   "metadata": {},
   "source": [
    "**Crearemos una super clase de la que se hereda**"
   ]
  },
  {
   "cell_type": "markdown",
   "metadata": {},
   "source": [
    "1.Crearemos una superclase"
   ]
  },
  {
   "cell_type": "code",
   "execution_count": null,
   "metadata": {},
   "outputs": [],
   "source": [
    "class CasaStark: # Super-clase/clase base\n",
    "    '''Personajes de Games of thrones casa stark'''\n",
    "    print(\"Hijos de Eddard Stark y Lady Catelyn\")\n",
    "    def __init__(self, apellido_stark):\n",
    "        self.apellido_stark = apellido_stark"
   ]
  },
  {
   "cell_type": "markdown",
   "metadata": {},
   "source": [
    "2.creamos una clase, esta clase hereda de la clase (CasaStark)"
   ]
  },
  {
   "cell_type": "code",
   "execution_count": null,
   "metadata": {},
   "outputs": [],
   "source": [
    "class HerederoStark(CasaStark):\n",
    "    '''Sub-clase que hereda de la clase CasaStark'''\n",
    "    def nombre(self, nombre, apellido_stark):\n",
    "        print(\"Mi nombre es \", nombre,\" Heredero de la casa \", apellido_stark)"
   ]
  },
  {
   "cell_type": "markdown",
   "metadata": {},
   "source": [
    "3. Si somos herederos Stark, tendremos un apellido Stark, acá uno a uno llama a la clase heredero stark"
   ]
  },
  {
   "cell_type": "code",
   "execution_count": null,
   "metadata": {},
   "outputs": [],
   "source": [
    "robb = HerederoStark(\"Stark\")\n",
    "sansa = HerederoStark(\"Stark\")\n",
    "arya = HerederoStark(\"Stark\")\n",
    "bran = HerederoStark(\"Stark\")\n",
    "rickon = HerederoStark(\"Stark\")"
   ]
  },
  {
   "cell_type": "markdown",
   "metadata": {},
   "source": [
    "4. Nos presentaremos con nuestro apellido"
   ]
  },
  {
   "cell_type": "code",
   "execution_count": null,
   "metadata": {},
   "outputs": [],
   "source": [
    "print(sansa.nombre(\"Sansa \", sansa.apellido_stark))"
   ]
  },
  {
   "cell_type": "markdown",
   "metadata": {},
   "source": [
    "<hr style=\"height:2px;border-width:0;color:gray;background-color:red\">\n",
    "<h2 style=\"color: red\">Actividad</h2>"
   ]
  },
  {
   "cell_type": "markdown",
   "metadata": {},
   "source": [
    "1. Entendiendo que el área de cualquier rectángulo es *\"lado por lado\"*, creamos una súper clase \"rectangulo\" y una clase \"cuadrado\" que herede de réctanfulo el calculo del área."
   ]
  },
  {
   "cell_type": "code",
   "execution_count": null,
   "metadata": {},
   "outputs": [],
   "source": [
    "class Rectangulo:\n",
    "\n",
    "    def __init__(self, base, altura):\n",
    "        self.base = base\n",
    "        self.altura = altura\n",
    "\n",
    "    def area(self):\n",
    "        return self.base * self.altura\n",
    "\n",
    "class Cuadrado(Rectangulo):\n",
    "\n",
    "    def __init__(self, lado):\n",
    "        super().__init__(lado, lado) #Súper es una función especial, nos permite obtener una referencia directa\n",
    "\n",
    "\n",
    "if __name__ == '__main__': #Punto de entrada para preguntar si este es el archivo que se ejecuta dede la consola\n",
    "    rectangulo = Rectangulo(base=3, altura=4)\n",
    "    print(f'Área del rectángulo : {rectangulo.area()}  cm cuadrados')\n",
    "\n",
    "cuadrado = Cuadrado(lado=5)\n",
    "print(f'Área del cuadrado : {cuadrado.area()} cm cuadrados')\n"
   ]
  },
  {
   "cell_type": "markdown",
   "metadata": {},
   "source": [
    "<h2 style=\"color: red\">Fin</h2>\n",
    "<hr style=\"height:2px;border-width:0;color:gray;background-color:red\">\n"
   ]
  },
  {
   "cell_type": "markdown",
   "metadata": {},
   "source": [
    "# 7. Polimorfismo"
   ]
  },
  {
   "cell_type": "markdown",
   "metadata": {},
   "source": [
    "**Polimorfismo:** La capacidad que tienen los objetos de comportarse de múltiples formas sin olvidar que para esto se requiere de la herencia, en sí consiste en hacer referencia a objetos descendientes."
   ]
  },
  {
   "cell_type": "code",
   "execution_count": null,
   "metadata": {},
   "outputs": [],
   "source": [
    "class Persona:\n",
    "\n",
    "    def __init__(self, nombre):\n",
    "        self.nombre = nombre\n",
    "\n",
    "    def avanza(self):\n",
    "        print(f'Mi nombre es {self.nombre} y ando caminando')\n",
    "\n",
    "\n",
    "class Ciclista(Persona):\n",
    "\n",
    "    def __init__(self, nombre):\n",
    "        super().__init__(nombre)\n",
    "\n",
    "    def avanza(self):\n",
    "        print(f'Mi nombre es {self.nombre} y ando moviendome en mi bicicleta')\n",
    "\n",
    "\n",
    "def main():\n",
    "    persona = Persona('Sergio')\n",
    "    persona.avanza()\n",
    "\n",
    "    ciclista = Ciclista('Andrés')\n",
    "    ciclista.avanza()\n",
    "\n",
    "\n",
    "if __name__ == '__main__':\n",
    "    main()"
   ]
  },
  {
   "cell_type": "markdown",
   "metadata": {},
   "source": [
    "<hr style=\"height:2px;border-width:0;color:gray;background-color:red\">\n",
    "<h2 style=\"color: red\">Actividad</h2>"
   ]
  },
  {
   "cell_type": "markdown",
   "metadata": {},
   "source": [
    "1. Crearemos una clase **\"animales\"** y les creamos una función que los defina, la idea es que tengamos funciones con el mismo nombre pero diferente actividad."
   ]
  },
  {
   "cell_type": "code",
   "execution_count": null,
   "metadata": {},
   "outputs": [],
   "source": [
    "\n"
   ]
  },
  {
   "cell_type": "markdown",
   "metadata": {},
   "source": [
    "<h2 style=\"color: red\">Fin</h2>\n",
    "<hr style=\"height:2px;border-width:0;color:gray;background-color:red\">"
   ]
  },
  {
   "cell_type": "markdown",
   "metadata": {},
   "source": [
    "### Biografía\n",
    "\n",
    ">Platzi POO David Oroesti\n",
    "\n",
    ">https://uniwebsidad.com/libros/python/capitulo-5/programacion-orientada-a-objetos\n",
    "\n",
    ">https://es.stackoverflow.com/questions/202588/como-funciona-self-en-python\n",
    "\n",
    ">https://platzi.com/blog/f-strings-en-python/\n",
    "\n",
    ">https://www.youtube.com/watch?v=sugvnHA7ElY&ab_channel=CoreySchafer\n",
    "\n",
    ">https://www.freecodecamp.org/espanol/news/python-if-name-main/\n",
    "\n",
    ">https://codigofacilito.com/articulos/decoradores-python\n",
    "\n",
    ">https://pythones.net/funcion-super-en-python-bien-explicada-ejemplos-oop/"
   ]
  }
 ],
 "metadata": {
  "kernelspec": {
   "display_name": "Python 3",
   "language": "python",
   "name": "python3"
  },
  "language_info": {
   "codemirror_mode": {
    "name": "ipython",
    "version": 3
   },
   "file_extension": ".py",
   "mimetype": "text/x-python",
   "name": "python",
   "nbconvert_exporter": "python",
   "pygments_lexer": "ipython3",
   "version": "3.7.6"
  }
 },
 "nbformat": 4,
 "nbformat_minor": 4
}
