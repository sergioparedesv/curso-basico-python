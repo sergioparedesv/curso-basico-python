edad = int(input("Escriba la edad de la persona"))

edad = int(input("Ingresa tu peso para determinar la categoria del boxeo a la que perteneces en Kg :"))
print("\n")
if edad >= 48 and edad <=52:
   print ("Con un peso de",edad,"kg usted pertenece a la categoria Mosca")
elif edad >= 53 and edad <=57:
   print ("Con un peso de",edad,"kg usted pertenece a la categoria Pluma")
elif edad >= 58 and edad <= 63:
   print ("Con un peso de",edad,"kg usted pertenece a la categoria Ligero")
elif edad >= 64 and edad <= 69:
   print ("Con un peso de",edad,"kg usted pertenece a la categoria Wélter")
elif edad >= 70 and edad <= 75:
   print ("Con un peso de",edad,"kg usted pertenece a la categoria Medio")
elif edad >= 76 and edad <= 81:
   print ("Con un peso de",edad,"kg usted pertenece a la categoria Semipesado")
elif edad >= 82 and edad <= 91:
   print ("Con un peso de",edad,"kg usted pertenece a la categoria Pesado")
elif edad >= 92:
   print ("Con un peso de",edad,"kg usted pertenece a la categoria Superpesado")
else:
   print ("Con un peso de",edad,"Su peso no es adecuado para el boxeo")